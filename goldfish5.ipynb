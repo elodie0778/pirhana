{
  "cells": [
    {
      "cell_type": "markdown",
      "metadata": {
        "id": "view-in-github",
        "colab_type": "text"
      },
      "source": [
        "<a href=\"https://colab.research.google.com/github/elodie0778/pirhana/blob/main/goldfish5.ipynb\" target=\"_parent\"><img src=\"https://colab.research.google.com/assets/colab-badge.svg\" alt=\"Open In Colab\"/></a>"
      ]
    },
    {
      "cell_type": "code",
      "execution_count": 1,
      "metadata": {
        "colab": {
          "base_uri": "https://localhost:8080/"
        },
        "id": "oBGTNFZjdn5D",
        "outputId": "b067d574-4be1-4c1f-d212-0334c42a3348"
      },
      "outputs": [
        {
          "output_type": "stream",
          "name": "stdout",
          "text": [
            "Mounted at /content/drive\n"
          ]
        }
      ],
      "source": [
        "# %% [markdown]\n",
        "# # 1. Mount Google Drive\n",
        "#\n",
        "# Mount Google Drive to access and save data persistently.\n",
        "\n",
        "# %%\n",
        "from google.colab import drive\n",
        "drive.mount('/content/drive')"
      ]
    },
    {
      "cell_type": "code",
      "execution_count": 2,
      "metadata": {
        "colab": {
          "base_uri": "https://localhost:8080/"
        },
        "id": "aFLxChhldpIX",
        "outputId": "a1abb726-0dcf-4276-e1e8-c2ddc36cd019"
      },
      "outputs": [
        {
          "output_type": "stream",
          "name": "stdout",
          "text": [
            "Collecting optuna\n",
            "  Downloading optuna-4.1.0-py3-none-any.whl.metadata (16 kB)\n",
            "Collecting ta\n",
            "  Downloading ta-0.11.0.tar.gz (25 kB)\n",
            "  Preparing metadata (setup.py) ... \u001b[?25l\u001b[?25hdone\n",
            "Collecting catboost\n",
            "  Downloading catboost-1.2.7-cp310-cp310-manylinux2014_x86_64.whl.metadata (1.2 kB)\n",
            "Collecting alembic>=1.5.0 (from optuna)\n",
            "  Downloading alembic-1.14.0-py3-none-any.whl.metadata (7.4 kB)\n",
            "Collecting colorlog (from optuna)\n",
            "  Downloading colorlog-6.9.0-py3-none-any.whl.metadata (10 kB)\n",
            "Requirement already satisfied: numpy in /usr/local/lib/python3.10/dist-packages (from optuna) (1.26.4)\n",
            "Requirement already satisfied: packaging>=20.0 in /usr/local/lib/python3.10/dist-packages (from optuna) (24.2)\n",
            "Requirement already satisfied: sqlalchemy>=1.4.2 in /usr/local/lib/python3.10/dist-packages (from optuna) (2.0.36)\n",
            "Requirement already satisfied: tqdm in /usr/local/lib/python3.10/dist-packages (from optuna) (4.66.6)\n",
            "Requirement already satisfied: PyYAML in /usr/local/lib/python3.10/dist-packages (from optuna) (6.0.2)\n",
            "Requirement already satisfied: pandas in /usr/local/lib/python3.10/dist-packages (from ta) (2.2.2)\n",
            "Requirement already satisfied: graphviz in /usr/local/lib/python3.10/dist-packages (from catboost) (0.20.3)\n",
            "Requirement already satisfied: matplotlib in /usr/local/lib/python3.10/dist-packages (from catboost) (3.8.0)\n",
            "Requirement already satisfied: scipy in /usr/local/lib/python3.10/dist-packages (from catboost) (1.13.1)\n",
            "Requirement already satisfied: plotly in /usr/local/lib/python3.10/dist-packages (from catboost) (5.24.1)\n",
            "Requirement already satisfied: six in /usr/local/lib/python3.10/dist-packages (from catboost) (1.17.0)\n",
            "Collecting Mako (from alembic>=1.5.0->optuna)\n",
            "  Downloading Mako-1.3.8-py3-none-any.whl.metadata (2.9 kB)\n",
            "Requirement already satisfied: typing-extensions>=4 in /usr/local/lib/python3.10/dist-packages (from alembic>=1.5.0->optuna) (4.12.2)\n",
            "Requirement already satisfied: python-dateutil>=2.8.2 in /usr/local/lib/python3.10/dist-packages (from pandas->ta) (2.8.2)\n",
            "Requirement already satisfied: pytz>=2020.1 in /usr/local/lib/python3.10/dist-packages (from pandas->ta) (2024.2)\n",
            "Requirement already satisfied: tzdata>=2022.7 in /usr/local/lib/python3.10/dist-packages (from pandas->ta) (2024.2)\n",
            "Requirement already satisfied: greenlet!=0.4.17 in /usr/local/lib/python3.10/dist-packages (from sqlalchemy>=1.4.2->optuna) (3.1.1)\n",
            "Requirement already satisfied: contourpy>=1.0.1 in /usr/local/lib/python3.10/dist-packages (from matplotlib->catboost) (1.3.1)\n",
            "Requirement already satisfied: cycler>=0.10 in /usr/local/lib/python3.10/dist-packages (from matplotlib->catboost) (0.12.1)\n",
            "Requirement already satisfied: fonttools>=4.22.0 in /usr/local/lib/python3.10/dist-packages (from matplotlib->catboost) (4.55.3)\n",
            "Requirement already satisfied: kiwisolver>=1.0.1 in /usr/local/lib/python3.10/dist-packages (from matplotlib->catboost) (1.4.7)\n",
            "Requirement already satisfied: pillow>=6.2.0 in /usr/local/lib/python3.10/dist-packages (from matplotlib->catboost) (11.0.0)\n",
            "Requirement already satisfied: pyparsing>=2.3.1 in /usr/local/lib/python3.10/dist-packages (from matplotlib->catboost) (3.2.0)\n",
            "Requirement already satisfied: tenacity>=6.2.0 in /usr/local/lib/python3.10/dist-packages (from plotly->catboost) (9.0.0)\n",
            "Requirement already satisfied: MarkupSafe>=0.9.2 in /usr/local/lib/python3.10/dist-packages (from Mako->alembic>=1.5.0->optuna) (3.0.2)\n",
            "Downloading optuna-4.1.0-py3-none-any.whl (364 kB)\n",
            "\u001b[2K   \u001b[90m━━━━━━━━━━━━━━━━━━━━━━━━━━━━━━━━━━━━━━━━\u001b[0m \u001b[32m364.4/364.4 kB\u001b[0m \u001b[31m6.1 MB/s\u001b[0m eta \u001b[36m0:00:00\u001b[0m\n",
            "\u001b[?25hDownloading catboost-1.2.7-cp310-cp310-manylinux2014_x86_64.whl (98.7 MB)\n",
            "\u001b[2K   \u001b[90m━━━━━━━━━━━━━━━━━━━━━━━━━━━━━━━━━━━━━━━━\u001b[0m \u001b[32m98.7/98.7 MB\u001b[0m \u001b[31m8.4 MB/s\u001b[0m eta \u001b[36m0:00:00\u001b[0m\n",
            "\u001b[?25hDownloading alembic-1.14.0-py3-none-any.whl (233 kB)\n",
            "\u001b[2K   \u001b[90m━━━━━━━━━━━━━━━━━━━━━━━━━━━━━━━━━━━━━━━━\u001b[0m \u001b[32m233.5/233.5 kB\u001b[0m \u001b[31m22.1 MB/s\u001b[0m eta \u001b[36m0:00:00\u001b[0m\n",
            "\u001b[?25hDownloading colorlog-6.9.0-py3-none-any.whl (11 kB)\n",
            "Downloading Mako-1.3.8-py3-none-any.whl (78 kB)\n",
            "\u001b[2K   \u001b[90m━━━━━━━━━━━━━━━━━━━━━━━━━━━━━━━━━━━━━━━━\u001b[0m \u001b[32m78.6/78.6 kB\u001b[0m \u001b[31m7.2 MB/s\u001b[0m eta \u001b[36m0:00:00\u001b[0m\n",
            "\u001b[?25hBuilding wheels for collected packages: ta\n",
            "  Building wheel for ta (setup.py) ... \u001b[?25l\u001b[?25hdone\n",
            "  Created wheel for ta: filename=ta-0.11.0-py3-none-any.whl size=29412 sha256=90cdd1fd2991920a88803f6a7a1fa6fc89f5298950d5b681c1445ee2454976ba\n",
            "  Stored in directory: /root/.cache/pip/wheels/5f/67/4f/8a9f252836e053e532c6587a3230bc72a4deb16b03a829610b\n",
            "Successfully built ta\n",
            "Installing collected packages: Mako, colorlog, alembic, ta, optuna, catboost\n",
            "Successfully installed Mako-1.3.8 alembic-1.14.0 catboost-1.2.7 colorlog-6.9.0 optuna-4.1.0 ta-0.11.0\n",
            "Collecting optuna-integration\n",
            "  Downloading optuna_integration-4.1.0-py3-none-any.whl.metadata (12 kB)\n",
            "Requirement already satisfied: optuna in /usr/local/lib/python3.10/dist-packages (from optuna-integration) (4.1.0)\n",
            "Requirement already satisfied: alembic>=1.5.0 in /usr/local/lib/python3.10/dist-packages (from optuna->optuna-integration) (1.14.0)\n",
            "Requirement already satisfied: colorlog in /usr/local/lib/python3.10/dist-packages (from optuna->optuna-integration) (6.9.0)\n",
            "Requirement already satisfied: numpy in /usr/local/lib/python3.10/dist-packages (from optuna->optuna-integration) (1.26.4)\n",
            "Requirement already satisfied: packaging>=20.0 in /usr/local/lib/python3.10/dist-packages (from optuna->optuna-integration) (24.2)\n",
            "Requirement already satisfied: sqlalchemy>=1.4.2 in /usr/local/lib/python3.10/dist-packages (from optuna->optuna-integration) (2.0.36)\n",
            "Requirement already satisfied: tqdm in /usr/local/lib/python3.10/dist-packages (from optuna->optuna-integration) (4.66.6)\n",
            "Requirement already satisfied: PyYAML in /usr/local/lib/python3.10/dist-packages (from optuna->optuna-integration) (6.0.2)\n",
            "Requirement already satisfied: Mako in /usr/local/lib/python3.10/dist-packages (from alembic>=1.5.0->optuna->optuna-integration) (1.3.8)\n",
            "Requirement already satisfied: typing-extensions>=4 in /usr/local/lib/python3.10/dist-packages (from alembic>=1.5.0->optuna->optuna-integration) (4.12.2)\n",
            "Requirement already satisfied: greenlet!=0.4.17 in /usr/local/lib/python3.10/dist-packages (from sqlalchemy>=1.4.2->optuna->optuna-integration) (3.1.1)\n",
            "Requirement already satisfied: MarkupSafe>=0.9.2 in /usr/local/lib/python3.10/dist-packages (from Mako->alembic>=1.5.0->optuna->optuna-integration) (3.0.2)\n",
            "Downloading optuna_integration-4.1.0-py3-none-any.whl (97 kB)\n",
            "\u001b[2K   \u001b[90m━━━━━━━━━━━━━━━━━━━━━━━━━━━━━━━━━━━━━━━━\u001b[0m \u001b[32m97.4/97.4 kB\u001b[0m \u001b[31m2.7 MB/s\u001b[0m eta \u001b[36m0:00:00\u001b[0m\n",
            "\u001b[?25hInstalling collected packages: optuna-integration\n",
            "Successfully installed optuna-integration-4.1.0\n"
          ]
        }
      ],
      "source": [
        "# %% [markdown]\n",
        "# # 2. Install Necessary Libraries\n",
        "#\n",
        "# Install and upgrade necessary libraries. Some libraries might already be installed in Google Colab, but specifying them ensures compatibility.\n",
        "\n",
        "# %%\n",
        "# Install necessary libraries\n",
        "!pip install --upgrade optuna ta catboost\n",
        "!pip install optuna-integration"
      ]
    },
    {
      "cell_type": "code",
      "execution_count": 3,
      "metadata": {
        "id": "oLqdtYrjaHzh"
      },
      "outputs": [],
      "source": [
        "# %%\n",
        "# Import Libraries\n",
        "import pandas as pd\n",
        "import numpy as np\n",
        "import glob\n",
        "import os\n",
        "from datetime import datetime, timedelta\n",
        "\n",
        "# Machine Learning Libraries\n",
        "from sklearn.model_selection import TimeSeriesSplit\n",
        "from sklearn.metrics import r2_score, mean_squared_error, mean_absolute_error, mean_absolute_percentage_error\n",
        "from sklearn.preprocessing import StandardScaler\n",
        "\n",
        "# For Technical Indicators\n",
        "import ta\n",
        "\n",
        "# For Optuna Hyperparameter Tuning\n",
        "import optuna\n",
        "from optuna.pruners import MedianPruner\n",
        "from optuna.exceptions import TrialPruned\n",
        "\n",
        "# For CatBoost\n",
        "from catboost import CatBoostRegressor, Pool, cv as catboost_cv\n",
        "\n",
        "# For Visualization\n",
        "import matplotlib.pyplot as plt\n",
        "import seaborn as sns\n",
        "\n",
        "# For saving/loading data\n",
        "import pickle\n",
        "\n",
        "# Suppress warnings for cleaner output\n",
        "import warnings\n",
        "warnings.filterwarnings('ignore')"
      ]
    },
    {
      "cell_type": "code",
      "execution_count": 4,
      "metadata": {
        "id": "3ao1yVXndsPj"
      },
      "outputs": [],
      "source": [
        "# %% [markdown]\n",
        "# # 3. Import Libraries\n",
        "#\n",
        "# Import all necessary libraries for data processing, model training, evaluation, and visualization.\n",
        "\n",
        "# %%\n",
        "# Import Libraries\n",
        "import pandas as pd\n",
        "import numpy as np\n",
        "import glob\n",
        "import os\n",
        "from datetime import datetime, timedelta\n",
        "\n",
        "# Machine Learning Libraries\n",
        "from sklearn.model_selection import TimeSeriesSplit\n",
        "from sklearn.metrics import r2_score, mean_squared_error, mean_absolute_error\n",
        "from sklearn.preprocessing import StandardScaler\n",
        "\n",
        "# For Technical Indicators\n",
        "import ta\n",
        "\n",
        "# For Optuna Hyperparameter Tuning\n",
        "import optuna\n",
        "from optuna.pruners import MedianPruner\n",
        "from optuna.exceptions import TrialPruned\n",
        "\n",
        "# For CatBoost\n",
        "from catboost import CatBoostRegressor, Pool, cv as catboost_cv\n",
        "\n",
        "# For Visualization\n",
        "import matplotlib.pyplot as plt\n",
        "import seaborn as sns\n",
        "\n",
        "# For saving/loading data\n",
        "import pickle\n",
        "\n",
        "# Suppress warnings for cleaner output\n",
        "import warnings\n",
        "warnings.filterwarnings('ignore')"
      ]
    },
    {
      "cell_type": "code",
      "execution_count": 5,
      "metadata": {
        "id": "LaasCwYjdubK"
      },
      "outputs": [],
      "source": [
        "# %% [markdown]\n",
        "# # 4. Define Paths and Initialize Directories\n",
        "#\n",
        "# Define file paths for data storage and ensure necessary directories exist.\n",
        "\n",
        "# %%\n",
        "# Define paths\n",
        "DATA_PATH = '/content/drive/MyDrive/data3/'\n",
        "STUDIES_DIR = os.path.join(DATA_PATH, 'optuna_studies3')\n",
        "FORECASTS_PATH = os.path.join(DATA_PATH, 'stock_forecasts3.pkl')\n",
        "PERFORMANCE_PATH = os.path.join(DATA_PATH, 'model_performance3.pkl')\n",
        "BEST_PARAMS_PATH = os.path.join(DATA_PATH, 'best_params_dict3.pkl')\n",
        "FINAL_RANKINGS_PATH = '/content/drive/MyDrive/final_stock_rankings3.csv'\n",
        "\n",
        "# Create necessary directories if they don't exist\n",
        "os.makedirs(STUDIES_DIR, exist_ok=True)"
      ]
    },
    {
      "cell_type": "code",
      "execution_count": 6,
      "metadata": {
        "colab": {
          "base_uri": "https://localhost:8080/"
        },
        "id": "3rUJCd6wd4cZ",
        "outputId": "438c77fb-96a6-498c-d36d-c939f6f2251b"
      },
      "outputs": [
        {
          "output_type": "stream",
          "name": "stdout",
          "text": [
            "Loaded existing best parameters.\n",
            "Loaded existing forecasts.\n",
            "Loaded existing model performance data.\n"
          ]
        }
      ],
      "source": [
        "# %% [markdown]\n",
        "# # 5. Load Existing Data\n",
        "#\n",
        "# Load existing best parameters, forecasts, and model performance data if available. This ensures continuity in your workflow.\n",
        "\n",
        "# %%\n",
        "# Load existing best parameters if available\n",
        "if os.path.exists(BEST_PARAMS_PATH):\n",
        "    with open(BEST_PARAMS_PATH, 'rb') as f:\n",
        "        best_params_dict = pickle.load(f)\n",
        "    print(\"Loaded existing best parameters.\")\n",
        "else:\n",
        "    best_params_dict = {}\n",
        "    print(\"No existing best parameters found. Starting fresh.\")\n",
        "\n",
        "# Load existing forecasts if available\n",
        "if os.path.exists(FORECASTS_PATH):\n",
        "    with open(FORECASTS_PATH, 'rb') as f:\n",
        "        stock_forecasts = pickle.load(f)\n",
        "    print(\"Loaded existing forecasts.\")\n",
        "else:\n",
        "    stock_forecasts = {}\n",
        "    print(\"No existing forecasts found. Starting fresh.\")\n",
        "\n",
        "# Load existing model performance data if available\n",
        "if os.path.exists(PERFORMANCE_PATH):\n",
        "    with open(PERFORMANCE_PATH, 'rb') as f:\n",
        "        model_performance = pickle.load(f)\n",
        "    print(\"Loaded existing model performance data.\")\n",
        "else:\n",
        "    model_performance = []\n",
        "    print(\"No existing model performance data found. Starting fresh.\")"
      ]
    },
    {
      "cell_type": "code",
      "execution_count": 7,
      "metadata": {
        "colab": {
          "base_uri": "https://localhost:8080/"
        },
        "id": "MebRUgxjd7Ct",
        "outputId": "def99533-da8c-4e99-f0c4-6a4e1e3e2696"
      },
      "outputs": [
        {
          "output_type": "stream",
          "name": "stdout",
          "text": [
            "Total CSV files found: 282\n",
            "Loaded final_stock_rankings3.csv.\n",
            "Number of valid tickers with FinalScore: 210\n",
            "Total stocks loaded after filtering: 210\n"
          ]
        }
      ],
      "source": [
        "# %% [markdown]\n",
        "# # 6. Load and Preprocess Stock Data\n",
        "#\n",
        "# Load all cleaned stock CSV files from the `data3` folder, merge them with `FinalScore` from `final_stock_rankings3.csv`, and discard any stocks that do not have a `FinalScore`.\n",
        "\n",
        "# %%\n",
        "# List all CSV files in the directory matching '*_data.csv'\n",
        "csv_files = glob.glob(os.path.join(DATA_PATH, '*_data.csv'))\n",
        "\n",
        "print(f\"Total CSV files found: {len(csv_files)}\")\n",
        "\n",
        "# Load FinalScore data\n",
        "if os.path.exists(FINAL_RANKINGS_PATH):\n",
        "    final_rankings = pd.read_csv(FINAL_RANKINGS_PATH)\n",
        "    print(\"Loaded final_stock_rankings3.csv.\")\n",
        "else:\n",
        "    raise FileNotFoundError(\"final_stock_rankings3.csv not found in the data3 folder.\")\n",
        "\n",
        "# Keep only 'Ticker' and 'FinalScore'\n",
        "final_rankings = final_rankings[['Ticker', 'FinalScore']].dropna()\n",
        "final_rankings = final_rankings.drop_duplicates(subset='Ticker')\n",
        "\n",
        "# List of tickers with FinalScore\n",
        "valid_tickers = set(final_rankings['Ticker'].unique())\n",
        "\n",
        "print(f\"Number of valid tickers with FinalScore: {len(valid_tickers)}\")\n",
        "\n",
        "# Initialize a dictionary to store DataFrames\n",
        "stock_data = {}\n",
        "\n",
        "# Feature Engineering Function\n",
        "def add_technical_indicators(df):\n",
        "    df = df.copy()\n",
        "    # Since the new data includes various price metrics, additional technical indicators can be minimal\n",
        "    # However, if needed, you can add more indicators here\n",
        "    df.dropna(inplace=True)\n",
        "    return df\n",
        "\n",
        "# Load and preprocess each CSV file\n",
        "for file in csv_files:\n",
        "    ticker = os.path.basename(file).split('_')[0]\n",
        "    # Only consider tickers that appear in final_rankings\n",
        "    if ticker not in valid_tickers:\n",
        "        continue\n",
        "    df = pd.read_csv(file)\n",
        "    df['Date'] = pd.to_datetime(df['Date'])\n",
        "    df = df.sort_values('Date')\n",
        "    df = add_technical_indicators(df)\n",
        "    df.reset_index(drop=True, inplace=True)\n",
        "    stock_data[ticker] = df\n",
        "\n",
        "print(f\"Total stocks loaded after filtering: {len(stock_data)}\")"
      ]
    },
    {
      "cell_type": "code",
      "execution_count": 8,
      "metadata": {
        "colab": {
          "base_uri": "https://localhost:8080/"
        },
        "id": "WiKYfzlrd9kT",
        "outputId": "f91debfa-1088-46a9-c948-9de6b9b7ff50"
      },
      "outputs": [
        {
          "output_type": "stream",
          "name": "stdout",
          "text": [
            "Total samples after combining all stocks: 754600\n"
          ]
        }
      ],
      "source": [
        "# %% [markdown]\n",
        "# # 7. Merge FinalScore and Additional Preprocessing\n",
        "#\n",
        "# Assign the `FinalScore` to each stock's DataFrame and prepare the data for modeling by defining features and the target variable.\n",
        "\n",
        "# %%\n",
        "# Initialize a dictionary to store FinalScore for each stock\n",
        "final_score_dict = final_rankings.set_index('Ticker')['FinalScore'].to_dict()\n",
        "\n",
        "# Assign FinalScore to each stock's DataFrame\n",
        "for ticker, df in stock_data.items():\n",
        "    df['FinalScore'] = final_score_dict.get(ticker, 0)  # Assign 0 if not found, though all tickers should have FinalScore\n",
        "    stock_data[ticker] = df\n",
        "\n",
        "# Feature Engineering and Target Definition\n",
        "feature_cols = ['Market_Cap_EBT_Excl_Unusual_Items', 'Market_Cap_Total_Revenue',\n",
        "               'Market_Cap_Book_Value', 'Price_Last_Quarter_Levered_FCF',\n",
        "               'Price_Funds_From_Operations', 'Price_Tangible_Book',\n",
        "               'TEV_Excl_Opp_Leases_Total_Revenue', 'TEV_Employees',\n",
        "               'Price_Last Quarter_EPS(SNL)', 'Price_Last_Quarter_Net_FCF(SNL)',\n",
        "               'Price_Sales(SNL)', 'Price_Adj_Funds_From_Opperations',\n",
        "               'Price_Forward_EPS', 'PEG_Ratio',\n",
        "               'Market_Cap_Forward_Total_Revenue',\n",
        "               'Diluted_Market_Cap_Outstanding_Forward_Total_Revenue',\n",
        "               'Diluted_Market_Cap_Exercisable_Forward_Total_Revenue',\n",
        "               'Short_Interest_Ratio', 'Day_Open_Price', 'Day_Close_Price',\n",
        "               'Day_High_Price', 'Day_Low_Price', 'VWAP',\n",
        "               'Shares_Outstanding', 'Volume', 'FinalScore']\n",
        "\n",
        "# Define prediction horizon (30 days ahead)\n",
        "TARGET_WINDOW_DAYS = 30\n",
        "\n",
        "# Initialize lists to store features, targets, and sample weights\n",
        "X_list = []\n",
        "y_list = []\n",
        "sample_weights = []\n",
        "\n",
        "# Iterate through each stock to prepare data\n",
        "for ticker, df in stock_data.items():\n",
        "    if len(df) < (TARGET_WINDOW_DAYS + 1):\n",
        "        continue  # Skip stocks with insufficient data\n",
        "\n",
        "    # Create target variable: percentage return over the next TARGET_WINDOW_DAYS\n",
        "    df['Future_Close'] = df['Day_Close_Price'].shift(-TARGET_WINDOW_DAYS)\n",
        "    df['Target_Return'] = ((df['Future_Close'] - df['Day_Close_Price']) / df['Day_Close_Price']) * 100\n",
        "    df.dropna(inplace=True)\n",
        "\n",
        "    # Features and target\n",
        "    X = df[feature_cols].values\n",
        "    y = df['Target_Return'].values\n",
        "\n",
        "    # Assign weights: higher weight for higher FinalScore\n",
        "    # Normalize FinalScore to [0.5, 1.5] for weighting purposes\n",
        "    score = df['FinalScore'].iloc[0]  # Assuming FinalScore is constant per stock\n",
        "    max_score = final_rankings['FinalScore'].max()\n",
        "    weight = 1 + (score / max_score)  # Adjust as needed\n",
        "\n",
        "    weights = np.full_like(y, weight, dtype=np.float32)\n",
        "\n",
        "    X_list.append(X)\n",
        "    y_list.append(y)\n",
        "    sample_weights.append(weights)\n",
        "\n",
        "# Combine all stocks' data\n",
        "X = np.vstack(X_list)\n",
        "y = np.hstack(y_list)\n",
        "sample_weights = np.hstack(sample_weights)\n",
        "\n",
        "print(f\"Total samples after combining all stocks: {X.shape[0]}\")"
      ]
    },
    {
      "cell_type": "code",
      "execution_count": 9,
      "metadata": {
        "id": "LKS_xjVJeCRd"
      },
      "outputs": [],
      "source": [
        "# %% [markdown]\n",
        "# # 8. Define Helper Functions\n",
        "#\n",
        "# Define functions to check the existence of Optuna studies and to allocate investments based on expected profits.\n",
        "\n",
        "# %%\n",
        "# Function to determine if a study exists\n",
        "def study_exists(study_name, storage_name):\n",
        "    from optuna.storages import RDBStorage\n",
        "    try:\n",
        "        storage = RDBStorage(url=storage_name)\n",
        "        storage.get_study_id_from_name(study_name)\n",
        "        return True\n",
        "    except KeyError:\n",
        "        return False\n",
        "\n",
        "# Function to allocate investment to the top-performing stock\n",
        "def allocate_investment(profit_df, total_investment=30):\n",
        "    \"\"\"\n",
        "    Allocates the total investment to the stock with the highest expected profit.\n",
        "\n",
        "    Parameters:\n",
        "    - profit_df (pd.DataFrame): DataFrame containing 'Stock', 'Expected_Profit'.\n",
        "    - total_investment (float): Total amount to invest.\n",
        "\n",
        "    Returns:\n",
        "    - allocation (dict): Dictionary with 'Stock', 'Investment', 'Expected_Profit'.\n",
        "    - total_profit (float): Total expected profit from the investment.\n",
        "    \"\"\"\n",
        "    if profit_df.empty:\n",
        "        print(\"No adequate stocks available for investment.\")\n",
        "        return None, 0.0\n",
        "\n",
        "    # Sort the DataFrame by Expected Profit in descending order (higher is better)\n",
        "    sorted_df = profit_df.sort_values(by='Expected_Profit', ascending=False).reset_index(drop=True)\n",
        "\n",
        "    # Select the top stock\n",
        "    top_stock = sorted_df.iloc[0]\n",
        "\n",
        "    # Allocate the entire investment to the top stock\n",
        "    allocation = {\n",
        "        'Stock': top_stock['Stock'],\n",
        "        'Investment': round(total_investment, 2),\n",
        "        'Expected_Profit': round(top_stock['Expected_Profit'], 2)\n",
        "    }\n",
        "\n",
        "    # Total profit is the expected profit from the top stock\n",
        "    total_profit = allocation['Expected_Profit']\n",
        "\n",
        "    return allocation, total_profit"
      ]
    },
    {
      "cell_type": "code",
      "execution_count": 10,
      "metadata": {
        "colab": {
          "base_uri": "https://localhost:8080/"
        },
        "id": "kbHT8zhtjBpQ",
        "outputId": "6c20ed3e-3a79-480e-f7e7-819f9488446e"
      },
      "outputs": [
        {
          "output_type": "stream",
          "name": "stdout",
          "text": [
            "Processed stock: ANET\n",
            "Processed stock: AXON\n",
            "Processed stock: ANSS\n",
            "Processed stock: AVGO\n",
            "Processed stock: AMZN\n",
            "Processed stock: AON\n",
            "Processed stock: APD\n",
            "Processed stock: AMGN\n",
            "Processed stock: AMD\n",
            "Processed stock: AMP\n",
            "Processed stock: AKAM\n",
            "Processed stock: AMAT\n",
            "Processed stock: ALNY\n",
            "Processed stock: ADP\n",
            "Processed stock: AJG\n",
            "Processed stock: AIZ\n",
            "Processed stock: ADSK\n",
            "Processed stock: A\n",
            "Processed stock: ADBE\n",
            "Processed stock: ADI\n",
            "Processed stock: AXP\n",
            "Processed stock: AAPL\n",
            "Processed stock: ACGL\n",
            "Processed stock: ABBV\n",
            "Processed stock: BKNG\n",
            "Processed stock: BK\n",
            "Processed stock: BR\n",
            "Processed stock: BAC\n",
            "Processed stock: BKR\n",
            "Processed stock: BLK\n",
            "Processed stock: BXP\n",
            "Processed stock: BBY\n",
            "Processed stock: CRM\n",
            "Processed stock: CRH\n",
            "Processed stock: CSCO\n",
            "Processed stock: CPRT\n",
            "Processed stock: COR\n",
            "Processed stock: COP\n",
            "Processed stock: COST\n",
            "Processed stock: CPB\n",
            "Processed stock: CNH\n",
            "Processed stock: COO\n",
            "Processed stock: CMS\n",
            "Processed stock: COF\n",
            "Processed stock: CMI\n",
            "Processed stock: CI\n",
            "Processed stock: CMCSA\n",
            "Processed stock: CLX\n",
            "Processed stock: CMG\n",
            "Processed stock: CHRW\n",
            "Processed stock: CBRE\n",
            "Processed stock: CAT\n",
            "Processed stock: CAH\n",
            "Processed stock: CDNS\n",
            "Processed stock: CVX\n",
            "Processed stock: C\n",
            "Processed stock: FICO\n",
            "Processed stock: FIS\n",
            "Processed stock: FERG\n",
            "Processed stock: EXC\n",
            "Processed stock: FI\n",
            "Processed stock: FDX\n",
            "Processed stock: FBIN\n",
            "Processed stock: EQT\n",
            "Processed stock: FDS\n",
            "Processed stock: EXPD\n",
            "Processed stock: FANG\n",
            "Processed stock: ETN\n",
            "Processed stock: ES\n",
            "Processed stock: EIX\n",
            "Processed stock: EQIX\n",
            "Processed stock: EME\n",
            "Processed stock: ELV\n",
            "Processed stock: DXCM\n",
            "Processed stock: EA\n",
            "Processed stock: DHR\n",
            "Processed stock: DGX\n",
            "Processed stock: DIS\n",
            "Processed stock: DLR\n",
            "Processed stock: ECL\n",
            "Processed stock: FTV\n",
            "Processed stock: DAL\n",
            "Processed stock: DE\n",
            "Processed stock: DFS\n",
            "Processed stock: IEX\n",
            "Processed stock: INTC\n",
            "Processed stock: ISRG\n",
            "Processed stock: IRM\n",
            "Processed stock: HUM\n",
            "Processed stock: IQV\n",
            "Processed stock: IP\n",
            "Processed stock: INTU\n",
            "Processed stock: IDXX\n",
            "Processed stock: HUBB\n",
            "Processed stock: HPE\n",
            "Processed stock: IBM\n",
            "Processed stock: HON\n",
            "Processed stock: HOLX\n",
            "Processed stock: HES\n",
            "Processed stock: HBAN\n",
            "Processed stock: HIG\n",
            "Processed stock: HD\n",
            "Processed stock: HCA\n",
            "Processed stock: GS\n",
            "Processed stock: GWW\n",
            "Processed stock: GOOGL\n",
            "Processed stock: GE\n",
            "Processed stock: GDDY\n",
            "Processed stock: IT\n",
            "Processed stock: KR\n",
            "Processed stock: LDOS\n",
            "Processed stock: LRCX\n",
            "Processed stock: LLY\n",
            "Processed stock: LII\n",
            "Processed stock: LH\n",
            "Processed stock: JNPR\n",
            "Processed stock: LNG\n",
            "Processed stock: LOW\n",
            "Processed stock: KHC\n",
            "Processed stock: JPM\n",
            "Processed stock: KEYS\n",
            "Processed stock: LULU\n",
            "Processed stock: KMI\n",
            "Processed stock: KMB\n",
            "Processed stock: KKR\n",
            "Processed stock: KMX\n",
            "Processed stock: JBHT\n",
            "Processed stock: J\n",
            "Processed stock: NFLX\n",
            "Processed stock: NOC\n",
            "Processed stock: NEM\n",
            "Processed stock: NOW\n",
            "Processed stock: NTAP\n",
            "Processed stock: NUE\n",
            "Processed stock: NVDA\n",
            "Processed stock: MTD\n",
            "Processed stock: NDAQ\n",
            "Processed stock: MSI\n",
            "Processed stock: MSTR\n",
            "Processed stock: MU\n",
            "Processed stock: MRVL\n",
            "Processed stock: META\n",
            "Processed stock: MS\n",
            "Processed stock: MSFT\n",
            "Processed stock: MOS\n",
            "Processed stock: MLM\n",
            "Processed stock: MMM\n",
            "Processed stock: MMC\n",
            "Processed stock: MA\n",
            "Processed stock: MCO\n",
            "Processed stock: MCD\n",
            "Processed stock: NXPI\n",
            "Processed stock: MET\n",
            "Processed stock: MCK\n",
            "Processed stock: MRK\n",
            "Processed stock: MELI\n",
            "Processed stock: RJF\n",
            "Processed stock: RCL\n",
            "Processed stock: PWR\n",
            "Processed stock: PPG\n",
            "Processed stock: PTC\n",
            "Processed stock: PRU\n",
            "Processed stock: PHM\n",
            "Processed stock: PNR\n",
            "Processed stock: PNC\n",
            "Processed stock: ORCL\n",
            "Processed stock: ODFL\n",
            "Processed stock: OKE\n",
            "Processed stock: OVV\n",
            "Processed stock: POOL\n",
            "Processed stock: PFE\n",
            "Processed stock: PEG\n",
            "Processed stock: RTX\n",
            "Processed stock: OC\n",
            "Processed stock: PGR\n",
            "Processed stock: V\n",
            "Processed stock: VRTX\n",
            "Processed stock: USB\n",
            "Processed stock: VEEV\n",
            "Processed stock: URI\n",
            "Processed stock: SYK\n",
            "Processed stock: TWLO\n",
            "Processed stock: WDC\n",
            "Processed stock: SCHW\n",
            "Processed stock: TRV\n",
            "Processed stock: TXN\n",
            "Processed stock: SLB\n",
            "Processed stock: WELL\n",
            "Processed stock: UNP\n",
            "Processed stock: TT\n",
            "Processed stock: SBUX\n",
            "Processed stock: TFC\n",
            "Processed stock: TRMB\n",
            "Processed stock: TEAM\n",
            "Processed stock: WFC\n",
            "Processed stock: WBD\n",
            "Processed stock: SYF\n",
            "Processed stock: VZ\n",
            "Processed stock: T\n",
            "Processed stock: TRGP\n",
            "Processed stock: TSLA\n",
            "Processed stock: TSCO\n",
            "Processed stock: ZBH\n",
            "Processed stock: SNPS\n",
            "Processed stock: WY\n",
            "Processed stock: WST\n",
            "Processed stock: WAT\n",
            "Processed stock: UNH\n",
            "Processed stock: WTW\n",
            "Processed stock: STE\n",
            "No 'NM' values found in stock: ANET\n",
            "No 'NM' values found in stock: AXON\n",
            "No 'NM' values found in stock: ANSS\n",
            "No 'NM' values found in stock: AVGO\n",
            "No 'NM' values found in stock: AMZN\n",
            "No 'NM' values found in stock: AON\n",
            "No 'NM' values found in stock: APD\n",
            "No 'NM' values found in stock: AMGN\n",
            "No 'NM' values found in stock: AMD\n",
            "No 'NM' values found in stock: AMP\n",
            "No 'NM' values found in stock: AKAM\n",
            "No 'NM' values found in stock: AMAT\n",
            "No 'NM' values found in stock: ALNY\n",
            "No 'NM' values found in stock: ADP\n",
            "No 'NM' values found in stock: AJG\n",
            "No 'NM' values found in stock: AIZ\n",
            "No 'NM' values found in stock: ADSK\n",
            "No 'NM' values found in stock: A\n",
            "No 'NM' values found in stock: ADBE\n",
            "No 'NM' values found in stock: ADI\n",
            "No 'NM' values found in stock: AXP\n",
            "No 'NM' values found in stock: AAPL\n",
            "No 'NM' values found in stock: ACGL\n",
            "No 'NM' values found in stock: ABBV\n",
            "No 'NM' values found in stock: BKNG\n",
            "No 'NM' values found in stock: BK\n",
            "No 'NM' values found in stock: BR\n",
            "No 'NM' values found in stock: BAC\n",
            "No 'NM' values found in stock: BKR\n",
            "No 'NM' values found in stock: BLK\n",
            "No 'NM' values found in stock: BXP\n",
            "No 'NM' values found in stock: BBY\n",
            "No 'NM' values found in stock: CRM\n",
            "No 'NM' values found in stock: CRH\n",
            "No 'NM' values found in stock: CSCO\n",
            "No 'NM' values found in stock: CPRT\n",
            "No 'NM' values found in stock: COR\n",
            "No 'NM' values found in stock: COP\n",
            "No 'NM' values found in stock: COST\n",
            "No 'NM' values found in stock: CPB\n",
            "No 'NM' values found in stock: CNH\n",
            "No 'NM' values found in stock: COO\n",
            "No 'NM' values found in stock: CMS\n",
            "No 'NM' values found in stock: COF\n",
            "No 'NM' values found in stock: CMI\n",
            "No 'NM' values found in stock: CI\n",
            "No 'NM' values found in stock: CMCSA\n",
            "No 'NM' values found in stock: CLX\n",
            "No 'NM' values found in stock: CMG\n",
            "No 'NM' values found in stock: CHRW\n",
            "No 'NM' values found in stock: CBRE\n",
            "No 'NM' values found in stock: CAT\n",
            "No 'NM' values found in stock: CAH\n",
            "No 'NM' values found in stock: CDNS\n",
            "No 'NM' values found in stock: CVX\n",
            "No 'NM' values found in stock: C\n",
            "No 'NM' values found in stock: FICO\n",
            "No 'NM' values found in stock: FIS\n",
            "No 'NM' values found in stock: FERG\n",
            "No 'NM' values found in stock: EXC\n",
            "No 'NM' values found in stock: FI\n",
            "No 'NM' values found in stock: FDX\n",
            "No 'NM' values found in stock: FBIN\n",
            "No 'NM' values found in stock: EQT\n",
            "No 'NM' values found in stock: FDS\n",
            "No 'NM' values found in stock: EXPD\n",
            "No 'NM' values found in stock: FANG\n",
            "No 'NM' values found in stock: ETN\n",
            "No 'NM' values found in stock: ES\n",
            "No 'NM' values found in stock: EIX\n",
            "No 'NM' values found in stock: EQIX\n",
            "No 'NM' values found in stock: EME\n",
            "No 'NM' values found in stock: ELV\n",
            "No 'NM' values found in stock: DXCM\n",
            "No 'NM' values found in stock: EA\n",
            "No 'NM' values found in stock: DHR\n",
            "No 'NM' values found in stock: DGX\n",
            "No 'NM' values found in stock: DIS\n",
            "No 'NM' values found in stock: DLR\n",
            "No 'NM' values found in stock: ECL\n",
            "No 'NM' values found in stock: FTV\n",
            "No 'NM' values found in stock: DAL\n",
            "No 'NM' values found in stock: DE\n",
            "No 'NM' values found in stock: DFS\n",
            "No 'NM' values found in stock: IEX\n",
            "No 'NM' values found in stock: INTC\n",
            "No 'NM' values found in stock: ISRG\n",
            "No 'NM' values found in stock: IRM\n",
            "No 'NM' values found in stock: HUM\n",
            "No 'NM' values found in stock: IQV\n",
            "No 'NM' values found in stock: IP\n",
            "No 'NM' values found in stock: INTU\n",
            "No 'NM' values found in stock: IDXX\n",
            "No 'NM' values found in stock: HUBB\n",
            "No 'NM' values found in stock: HPE\n",
            "No 'NM' values found in stock: IBM\n",
            "No 'NM' values found in stock: HON\n",
            "No 'NM' values found in stock: HOLX\n",
            "No 'NM' values found in stock: HES\n",
            "No 'NM' values found in stock: HBAN\n",
            "No 'NM' values found in stock: HIG\n",
            "No 'NM' values found in stock: HD\n",
            "No 'NM' values found in stock: HCA\n",
            "No 'NM' values found in stock: GS\n",
            "No 'NM' values found in stock: GWW\n",
            "No 'NM' values found in stock: GOOGL\n",
            "No 'NM' values found in stock: GE\n",
            "No 'NM' values found in stock: GDDY\n",
            "No 'NM' values found in stock: IT\n",
            "No 'NM' values found in stock: KR\n",
            "No 'NM' values found in stock: LDOS\n",
            "No 'NM' values found in stock: LRCX\n",
            "No 'NM' values found in stock: LLY\n",
            "No 'NM' values found in stock: LII\n",
            "No 'NM' values found in stock: LH\n",
            "No 'NM' values found in stock: JNPR\n",
            "No 'NM' values found in stock: LNG\n",
            "No 'NM' values found in stock: LOW\n",
            "No 'NM' values found in stock: KHC\n",
            "No 'NM' values found in stock: JPM\n",
            "No 'NM' values found in stock: KEYS\n",
            "No 'NM' values found in stock: LULU\n",
            "No 'NM' values found in stock: KMI\n",
            "No 'NM' values found in stock: KMB\n",
            "No 'NM' values found in stock: KKR\n",
            "No 'NM' values found in stock: KMX\n",
            "No 'NM' values found in stock: JBHT\n",
            "No 'NM' values found in stock: J\n",
            "No 'NM' values found in stock: NFLX\n",
            "No 'NM' values found in stock: NOC\n",
            "No 'NM' values found in stock: NEM\n",
            "No 'NM' values found in stock: NOW\n",
            "No 'NM' values found in stock: NTAP\n",
            "No 'NM' values found in stock: NUE\n",
            "No 'NM' values found in stock: NVDA\n",
            "No 'NM' values found in stock: MTD\n",
            "No 'NM' values found in stock: NDAQ\n",
            "No 'NM' values found in stock: MSI\n",
            "No 'NM' values found in stock: MSTR\n",
            "No 'NM' values found in stock: MU\n",
            "No 'NM' values found in stock: MRVL\n",
            "No 'NM' values found in stock: META\n",
            "No 'NM' values found in stock: MS\n",
            "No 'NM' values found in stock: MSFT\n",
            "No 'NM' values found in stock: MOS\n",
            "No 'NM' values found in stock: MLM\n",
            "No 'NM' values found in stock: MMM\n",
            "No 'NM' values found in stock: MMC\n",
            "No 'NM' values found in stock: MA\n",
            "No 'NM' values found in stock: MCO\n",
            "No 'NM' values found in stock: MCD\n",
            "No 'NM' values found in stock: NXPI\n",
            "No 'NM' values found in stock: MET\n",
            "No 'NM' values found in stock: MCK\n",
            "No 'NM' values found in stock: MRK\n",
            "No 'NM' values found in stock: MELI\n",
            "No 'NM' values found in stock: RJF\n",
            "No 'NM' values found in stock: RCL\n",
            "No 'NM' values found in stock: PWR\n",
            "No 'NM' values found in stock: PPG\n",
            "No 'NM' values found in stock: PTC\n",
            "No 'NM' values found in stock: PRU\n",
            "No 'NM' values found in stock: PHM\n",
            "No 'NM' values found in stock: PNR\n",
            "No 'NM' values found in stock: PNC\n",
            "No 'NM' values found in stock: ORCL\n",
            "No 'NM' values found in stock: ODFL\n",
            "No 'NM' values found in stock: OKE\n",
            "No 'NM' values found in stock: OVV\n",
            "No 'NM' values found in stock: POOL\n",
            "No 'NM' values found in stock: PFE\n",
            "No 'NM' values found in stock: PEG\n",
            "No 'NM' values found in stock: RTX\n",
            "No 'NM' values found in stock: OC\n",
            "No 'NM' values found in stock: PGR\n",
            "No 'NM' values found in stock: V\n",
            "No 'NM' values found in stock: VRTX\n",
            "No 'NM' values found in stock: USB\n",
            "No 'NM' values found in stock: VEEV\n",
            "No 'NM' values found in stock: URI\n",
            "No 'NM' values found in stock: SYK\n",
            "No 'NM' values found in stock: TWLO\n",
            "No 'NM' values found in stock: WDC\n",
            "No 'NM' values found in stock: SCHW\n",
            "No 'NM' values found in stock: TRV\n",
            "No 'NM' values found in stock: TXN\n",
            "No 'NM' values found in stock: SLB\n",
            "No 'NM' values found in stock: WELL\n",
            "No 'NM' values found in stock: UNP\n",
            "No 'NM' values found in stock: TT\n",
            "No 'NM' values found in stock: SBUX\n",
            "No 'NM' values found in stock: TFC\n",
            "No 'NM' values found in stock: TRMB\n",
            "No 'NM' values found in stock: TEAM\n",
            "No 'NM' values found in stock: WFC\n",
            "No 'NM' values found in stock: WBD\n",
            "No 'NM' values found in stock: SYF\n",
            "No 'NM' values found in stock: VZ\n",
            "No 'NM' values found in stock: T\n",
            "No 'NM' values found in stock: TRGP\n",
            "No 'NM' values found in stock: TSLA\n",
            "No 'NM' values found in stock: TSCO\n",
            "No 'NM' values found in stock: ZBH\n",
            "No 'NM' values found in stock: SNPS\n",
            "No 'NM' values found in stock: WY\n",
            "No 'NM' values found in stock: WST\n",
            "No 'NM' values found in stock: WAT\n",
            "No 'NM' values found in stock: UNH\n",
            "No 'NM' values found in stock: WTW\n",
            "No 'NM' values found in stock: STE\n"
          ]
        }
      ],
      "source": [
        "# %%\n",
        "import pandas as pd\n",
        "import numpy as np\n",
        "\n",
        "# 1. Define the replacement function\n",
        "def replace_NM_with_prev_or_zero(df):\n",
        "    \"\"\"\n",
        "    Replace all occurrences of 'NM' in any column with the value from the row above in that column.\n",
        "    If the row above is inaccessible, replace 'NM' with 0.0.\n",
        "\n",
        "    Parameters:\n",
        "    - df (pd.DataFrame): The input DataFrame to process.\n",
        "\n",
        "    Returns:\n",
        "    - pd.DataFrame: The processed DataFrame with 'NM' replaced appropriately.\n",
        "    \"\"\"\n",
        "    df = df.copy()  # To avoid modifying the original DataFrame\n",
        "\n",
        "    # Replace 'NM' with NaN to facilitate forward filling\n",
        "    df.replace('NM', np.nan, inplace=True)\n",
        "\n",
        "    # Forward fill to replace NaN with the value from the row above\n",
        "    df.fillna(method='ffill', inplace=True)\n",
        "\n",
        "    # For any remaining NaN (which were 'NM' in the first row), replace with 0.0\n",
        "    df.fillna(0.0, inplace=True)\n",
        "\n",
        "    # Convert all columns to numeric types where possible\n",
        "    for col in df.columns:\n",
        "        df[col] = pd.to_numeric(df[col], errors='ignore')\n",
        "\n",
        "    return df\n",
        "\n",
        "# 2. Apply the function to all stocks in stock_data\n",
        "for ticker, df in stock_data.items():\n",
        "    stock_data[ticker] = replace_NM_with_prev_or_zero(df)\n",
        "    print(f\"Processed stock: {ticker}\")\n",
        "\n",
        "# 3. Verify the replacement\n",
        "def verify_replacement(stock_data):\n",
        "    \"\"\"\n",
        "    Verify that 'NM' has been replaced with previous row's value or 0.0 in all columns for all stocks.\n",
        "\n",
        "    Parameters:\n",
        "    - stock_data (dict): Dictionary containing stock tickers as keys and DataFrames as values.\n",
        "\n",
        "    Returns:\n",
        "    - None\n",
        "    \"\"\"\n",
        "    for ticker, df in stock_data.items():\n",
        "        # Check if 'NM' still exists in any column\n",
        "        if (df.astype(str) == 'NM').any().any():\n",
        "            print(f\"'NM' still found in stock: {ticker}\")\n",
        "        else:\n",
        "            print(f\"No 'NM' values found in stock: {ticker}\")\n",
        "\n",
        "# Run the verification\n",
        "verify_replacement(stock_data)"
      ]
    },
    {
      "cell_type": "code",
      "execution_count": 11,
      "metadata": {
        "colab": {
          "base_uri": "https://localhost:8080/"
        },
        "id": "tSSHDQSseE_w",
        "outputId": "b703929b-2cd6-41dc-a005-b4f026519727"
      },
      "outputs": [
        {
          "metadata": {
            "tags": null
          },
          "name": "stdout",
          "output_type": "stream",
          "text": [
            "Skipping CatBoost for ANET as it has already been processed.\n",
            "Skipping CatBoost for AXON as it has already been processed.\n",
            "Skipping CatBoost for ANSS as it has already been processed.\n",
            "Skipping CatBoost for AVGO as it has already been processed.\n",
            "Skipping CatBoost for AMZN as it has already been processed.\n",
            "Skipping CatBoost for AON as it has already been processed.\n",
            "Skipping CatBoost for APD as it has already been processed.\n",
            "Skipping CatBoost for AMGN as it has already been processed.\n",
            "Skipping CatBoost for AMD as it has already been processed.\n",
            "Skipping CatBoost for AMP as it has already been processed.\n",
            "Skipping CatBoost for AKAM as it has already been processed.\n",
            "Skipping CatBoost for AMAT as it has already been processed.\n",
            "Skipping CatBoost for ALNY as it has already been processed.\n",
            "Skipping CatBoost for ADP as it has already been processed.\n",
            "Skipping CatBoost for AJG as it has already been processed.\n",
            "Skipping CatBoost for AIZ as it has already been processed.\n",
            "Skipping CatBoost for ADSK as it has already been processed.\n",
            "Skipping CatBoost for A as it has already been processed.\n",
            "Skipping CatBoost for ADBE as it has already been processed.\n",
            "Skipping CatBoost for ADI as it has already been processed.\n",
            "Skipping CatBoost for AXP as it has already been processed.\n",
            "Skipping CatBoost for AAPL as it has already been processed.\n",
            "Skipping CatBoost for ACGL as it has already been processed.\n",
            "Skipping CatBoost for ABBV as it has already been processed.\n",
            "Skipping CatBoost for BKNG as it has already been processed.\n",
            "Skipping CatBoost for BK as it has already been processed.\n",
            "Skipping CatBoost for BR as it has already been processed.\n",
            "Skipping CatBoost for BAC as it has already been processed.\n",
            "Skipping CatBoost for BKR as it has already been processed.\n",
            "Skipping CatBoost for BLK as it has already been processed.\n",
            "Skipping CatBoost for BXP as it has already been processed.\n",
            "Skipping CatBoost for BBY as it has already been processed.\n",
            "Skipping CatBoost for CRM as it has already been processed.\n",
            "Skipping CatBoost for CRH as it has already been processed.\n",
            "Skipping CatBoost for CSCO as it has already been processed.\n",
            "Skipping CatBoost for CPRT as it has already been processed.\n",
            "Skipping CatBoost for COR as it has already been processed.\n",
            "Skipping CatBoost for COP as it has already been processed.\n",
            "Skipping CatBoost for COST as it has already been processed.\n",
            "Skipping CatBoost for CPB as it has already been processed.\n",
            "Skipping CatBoost for CNH as it has already been processed.\n",
            "Skipping CatBoost for COO as it has already been processed.\n",
            "Skipping CatBoost for CMS as it has already been processed.\n",
            "Skipping CatBoost for COF as it has already been processed.\n",
            "Skipping CatBoost for CMI as it has already been processed.\n",
            "Skipping CatBoost for CI as it has already been processed.\n",
            "Skipping CatBoost for CMCSA as it has already been processed.\n",
            "Skipping CatBoost for CLX as it has already been processed.\n",
            "Skipping CatBoost for CMG as it has already been processed.\n",
            "Skipping CatBoost for CHRW as it has already been processed.\n",
            "Skipping CatBoost for CBRE as it has already been processed.\n",
            "Skipping CatBoost for CAT as it has already been processed.\n",
            "Skipping CatBoost for CAH as it has already been processed.\n",
            "Skipping CatBoost for CDNS as it has already been processed.\n",
            "Skipping CatBoost for CVX as it has already been processed.\n",
            "Skipping CatBoost for C as it has already been processed.\n",
            "Skipping CatBoost for FICO as it has already been processed.\n",
            "Skipping CatBoost for FIS as it has already been processed.\n",
            "Skipping CatBoost for FERG as it has already been processed.\n",
            "Skipping CatBoost for EXC as it has already been processed.\n",
            "Skipping CatBoost for FI as it has already been processed.\n",
            "Skipping CatBoost for FDX as it has already been processed.\n",
            "Skipping CatBoost for FBIN as it has already been processed.\n",
            "\n",
            "Processing CatBoost model for stock: EQT\n",
            "Loaded existing CatBoost study for EQT.\n"
          ]
        },
        {
          "metadata": {
            "tags": null
          },
          "name": "stderr",
          "output_type": "stream",
          "text": [
            "[I 2024-12-15 06:03:30,023] Trial 42 pruned. \n"
          ]
        },
        {
          "metadata": {
            "tags": null
          },
          "name": "stdout",
          "output_type": "stream",
          "text": [
            "Best params for EQT (CatBoost): {'iterations': 2832, 'depth': 10, 'learning_rate': 0.0004155450736528692, 'l2_leaf_reg': 5.842041906231419, 'random_strength': 6.8902580443155355, 'bagging_temperature': 4.543213160931296}\n",
            "Best RMSE for EQT: 301.22141673573634\n",
            "Best R² for EQT: -0.06455149728984366\n",
            "Best MAPE for EQT: 33997106397903.574\n",
            "Completed CatBoost for EQT. Forecast Return: 2.9590%\n",
            "Saved CatBoost parameters, forecasts, and performance data for EQT.\n",
            "\n",
            "Processing CatBoost model for stock: FDS\n",
            "Loaded existing CatBoost study for FDS.\n"
          ]
        },
        {
          "metadata": {
            "tags": null
          },
          "name": "stderr",
          "output_type": "stream",
          "text": [
            "[I 2024-12-15 06:06:32,331] Trial 5 pruned. \n"
          ]
        },
        {
          "metadata": {
            "tags": null
          },
          "name": "stdout",
          "output_type": "stream",
          "text": [
            "Best params for FDS (CatBoost): {'iterations': 2516, 'depth': 12, 'learning_rate': 0.0005686748226746227, 'l2_leaf_reg': 4.168961569207648, 'random_strength': 5.557849701923356, 'bagging_temperature': 7.486195495421928}\n",
            "Best RMSE for FDS: 43.28806984052019\n",
            "Best R² for FDS: 0.034240280273830304\n",
            "Best MAPE for FDS: 40392579844.420105\n",
            "Completed CatBoost for FDS. Forecast Return: 0.2080%\n",
            "Saved CatBoost parameters, forecasts, and performance data for FDS.\n",
            "\n",
            "Processing CatBoost model for stock: EXPD\n",
            "Loaded existing CatBoost study for EXPD.\n"
          ]
        },
        {
          "metadata": {
            "tags": null
          },
          "name": "stderr",
          "output_type": "stream",
          "text": [
            "[I 2024-12-15 06:18:33,740] Trial 82 finished with value: 39.955391236893725 and parameters: {'iterations': 1632, 'depth': 9, 'learning_rate': 0.20210558758387787, 'l2_leaf_reg': 10.356553850616368, 'random_strength': 8.183108656227727, 'bagging_temperature': 8.037796795958098}. Best is trial 32 with value: 39.414466720647354.\n"
          ]
        },
        {
          "metadata": {
            "tags": null
          },
          "name": "stdout",
          "output_type": "stream",
          "text": [
            "Best params for EXPD (CatBoost): {'iterations': 2219, 'depth': 9, 'learning_rate': 0.19185199276708798, 'l2_leaf_reg': 11.399601778976676, 'random_strength': 8.622015727212572, 'bagging_temperature': 6.044609210953193}\n",
            "Best RMSE for EXPD: 39.414466720647354\n",
            "Best R² for EXPD: 0.10369562640593873\n",
            "Best MAPE for EXPD: 1.9084286385809477\n",
            "Completed CatBoost for EXPD. Forecast Return: 0.2185%\n",
            "Saved CatBoost parameters, forecasts, and performance data for EXPD.\n",
            "\n",
            "Processing CatBoost model for stock: FANG\n",
            "Loaded existing CatBoost study for FANG.\n"
          ]
        },
        {
          "metadata": {
            "tags": null
          },
          "name": "stderr",
          "output_type": "stream",
          "text": [
            "[I 2024-12-15 06:20:01,673] Trial 70 pruned. \n"
          ]
        },
        {
          "metadata": {
            "tags": null
          },
          "name": "stdout",
          "output_type": "stream",
          "text": [
            "Best params for FANG (CatBoost): {'iterations': 2356, 'depth': 4, 'learning_rate': 0.14143863417071645, 'l2_leaf_reg': 10.441349510438746, 'random_strength': 9.174275949344318, 'bagging_temperature': 5.855516358366044}\n",
            "Best RMSE for FANG: 232.6694260034736\n",
            "Best R² for FANG: 0.029879796304133732\n",
            "Best MAPE for FANG: 7147774152193.349\n",
            "Completed CatBoost for FANG. Forecast Return: -8.3488%\n",
            "Saved CatBoost parameters, forecasts, and performance data for FANG.\n",
            "\n",
            "Processing CatBoost model for stock: ETN\n",
            "Loaded existing CatBoost study for ETN.\n"
          ]
        },
        {
          "metadata": {
            "tags": null
          },
          "name": "stderr",
          "output_type": "stream",
          "text": [
            "[I 2024-12-15 06:20:12,916] Trial 70 finished with value: 57.13433215733377 and parameters: {'iterations': 2530, 'depth': 4, 'learning_rate': 0.07265465665735256, 'l2_leaf_reg': 8.982820151140242, 'random_strength': 1.9421154602272843, 'bagging_temperature': 6.800170202154227}. Best is trial 67 with value: 55.764083668244844.\n"
          ]
        },
        {
          "metadata": {
            "tags": null
          },
          "name": "stdout",
          "output_type": "stream",
          "text": [
            "Best params for ETN (CatBoost): {'iterations': 2654, 'depth': 4, 'learning_rate': 0.2577476734090867, 'l2_leaf_reg': 6.102533721430483, 'random_strength': 1.3593153747422022, 'bagging_temperature': 6.695207385239692}\n",
            "Best RMSE for ETN: 55.764083668244844\n",
            "Best R² for ETN: -0.026845603546513035\n",
            "Best MAPE for ETN: 6203394933922.744\n",
            "Completed CatBoost for ETN. Forecast Return: -0.5113%\n",
            "Saved CatBoost parameters, forecasts, and performance data for ETN.\n",
            "\n",
            "Processing CatBoost model for stock: ES\n",
            "Loaded existing CatBoost study for ES.\n"
          ]
        },
        {
          "metadata": {
            "tags": null
          },
          "name": "stderr",
          "output_type": "stream",
          "text": [
            "[I 2024-12-15 06:20:25,738] Trial 50 pruned. \n"
          ]
        },
        {
          "metadata": {
            "tags": null
          },
          "name": "stdout",
          "output_type": "stream",
          "text": [
            "Best params for ES (CatBoost): {'iterations': 761, 'depth': 4, 'learning_rate': 0.18687332064030884, 'l2_leaf_reg': 2.326509808142222, 'random_strength': 2.310847808957712, 'bagging_temperature': 0.303958294729163}\n",
            "Best RMSE for ES: 37.640291221869646\n",
            "Best R² for ES: 0.04566471893566019\n",
            "Best MAPE for ES: 2767435424062.7563\n",
            "Completed CatBoost for ES. Forecast Return: -1.7797%\n",
            "Saved CatBoost parameters, forecasts, and performance data for ES.\n",
            "\n",
            "Processing CatBoost model for stock: EIX\n",
            "Loaded existing CatBoost study for EIX.\n"
          ]
        },
        {
          "metadata": {
            "tags": null
          },
          "name": "stderr",
          "output_type": "stream",
          "text": [
            "[I 2024-12-15 06:20:53,151] Trial 5 finished with value: 54.75828840827881 and parameters: {'iterations': 2983, 'depth': 6, 'learning_rate': 0.0010412432810065302, 'l2_leaf_reg': 7.563406544550873, 'random_strength': 7.608339120715232, 'bagging_temperature': 9.753224724526158}. Best is trial 3 with value: 53.756808273718605.\n"
          ]
        },
        {
          "metadata": {
            "tags": null
          },
          "name": "stdout",
          "output_type": "stream",
          "text": [
            "Best params for EIX (CatBoost): {'iterations': 2270, 'depth': 12, 'learning_rate': 0.0686456351415661, 'l2_leaf_reg': 13.07860578914265, 'random_strength': 9.066913421648437, 'bagging_temperature': 1.4126683193959366}\n",
            "Best RMSE for EIX: 53.756808273718605\n",
            "Best R² for EIX: 0.049249054393819845\n",
            "Best MAPE for EIX: 2082022433901.6353\n",
            "Completed CatBoost for EIX. Forecast Return: 0.5179%\n",
            "Saved CatBoost parameters, forecasts, and performance data for EIX.\n",
            "\n",
            "Processing CatBoost model for stock: EQIX\n",
            "Loaded existing CatBoost study for EQIX.\n"
          ]
        },
        {
          "metadata": {
            "tags": null
          },
          "name": "stderr",
          "output_type": "stream",
          "text": [
            "[I 2024-12-15 06:30:58,750] Trial 70 pruned. \n"
          ]
        },
        {
          "metadata": {
            "tags": null
          },
          "name": "stdout",
          "output_type": "stream",
          "text": [
            "Best params for EQIX (CatBoost): {'iterations': 805, 'depth': 5, 'learning_rate': 0.2215104526231613, 'l2_leaf_reg': 8.407977546848198, 'random_strength': 1.0033600993099097, 'bagging_temperature': 8.976587496015123}\n",
            "Best RMSE for EQIX: 46.17073090703645\n",
            "Best R² for EQIX: 0.0474552065109064\n",
            "Best MAPE for EQIX: 1.831957264842006\n",
            "Completed CatBoost for EQIX. Forecast Return: 6.0523%\n",
            "Saved CatBoost parameters, forecasts, and performance data for EQIX.\n",
            "\n",
            "Processing CatBoost model for stock: EME\n",
            "Loaded existing CatBoost study for EME.\n"
          ]
        },
        {
          "metadata": {
            "tags": null
          },
          "name": "stderr",
          "output_type": "stream",
          "text": [
            "[I 2024-12-15 06:31:05,547] Trial 70 pruned. \n"
          ]
        },
        {
          "metadata": {
            "tags": null
          },
          "name": "stdout",
          "output_type": "stream",
          "text": [
            "Best params for EME (CatBoost): {'iterations': 1843, 'depth': 4, 'learning_rate': 0.17423322829626892, 'l2_leaf_reg': 10.123414711466697, 'random_strength': 6.225542216958969, 'bagging_temperature': 5.413829399647241}\n",
            "Best RMSE for EME: 80.02653219439001\n",
            "Best R² for EME: -0.0325809835933335\n",
            "Best MAPE for EME: 3027161257697.0586\n",
            "Completed CatBoost for EME. Forecast Return: -5.0458%\n",
            "Saved CatBoost parameters, forecasts, and performance data for EME.\n",
            "\n",
            "Processing CatBoost model for stock: ELV\n",
            "Loaded existing CatBoost study for ELV.\n"
          ]
        },
        {
          "metadata": {
            "tags": null
          },
          "name": "stderr",
          "output_type": "stream",
          "text": [
            "[I 2024-12-15 06:31:16,202] Trial 70 finished with value: 59.47818266847489 and parameters: {'iterations': 860, 'depth': 6, 'learning_rate': 0.1345588989471196, 'l2_leaf_reg': 1.7093081617306192, 'random_strength': 4.305054405427462, 'bagging_temperature': 6.620925896030274}. Best is trial 51 with value: 58.447093663506315.\n"
          ]
        },
        {
          "metadata": {
            "tags": null
          },
          "name": "stdout",
          "output_type": "stream",
          "text": [
            "Best params for ELV (CatBoost): {'iterations': 1064, 'depth': 6, 'learning_rate': 0.19780971985278656, 'l2_leaf_reg': 1.1946933658724133, 'random_strength': 2.383137670710176, 'bagging_temperature': 6.335438704477325}\n",
            "Best RMSE for ELV: 58.447093663506315\n",
            "Best R² for ELV: 0.043959205066814534\n",
            "Best MAPE for ELV: 1.758718717594028\n",
            "Completed CatBoost for ELV. Forecast Return: -7.5306%\n",
            "Saved CatBoost parameters, forecasts, and performance data for ELV.\n",
            "\n",
            "Processing CatBoost model for stock: DXCM\n",
            "Loaded existing CatBoost study for DXCM.\n"
          ]
        },
        {
          "metadata": {
            "tags": null
          },
          "name": "stderr",
          "output_type": "stream",
          "text": [
            "[I 2024-12-15 06:31:41,945] Trial 70 pruned. \n"
          ]
        },
        {
          "metadata": {
            "tags": null
          },
          "name": "stdout",
          "output_type": "stream",
          "text": [
            "Best params for DXCM (CatBoost): {'iterations': 1109, 'depth': 8, 'learning_rate': 0.15646719090408215, 'l2_leaf_reg': 14.91610911081662, 'random_strength': 3.4493480877015177, 'bagging_temperature': 7.40433355637421}\n",
            "Best RMSE for DXCM: 216.33947544852572\n",
            "Best R² for DXCM: 0.04714957889410395\n",
            "Best MAPE for DXCM: 2.0979913523363667\n",
            "Completed CatBoost for DXCM. Forecast Return: 12.0733%\n",
            "Saved CatBoost parameters, forecasts, and performance data for DXCM.\n",
            "\n",
            "Processing CatBoost model for stock: EA\n",
            "Loaded existing CatBoost study for EA.\n"
          ]
        },
        {
          "metadata": {
            "tags": null
          },
          "name": "stderr",
          "output_type": "stream",
          "text": [
            "[I 2024-12-15 06:32:34,624] Trial 55 pruned. \n"
          ]
        },
        {
          "metadata": {
            "tags": null
          },
          "name": "stdout",
          "output_type": "stream",
          "text": [
            "Best params for EA (CatBoost): {'iterations': 774, 'depth': 7, 'learning_rate': 0.15155960239526634, 'l2_leaf_reg': 9.04972965927673, 'random_strength': 9.026047630069128, 'bagging_temperature': 2.1499424415234047}\n",
            "Best RMSE for EA: 51.69185011439501\n",
            "Best R² for EA: 0.028737023707727016\n",
            "Best MAPE for EA: 4227826245028.7065\n",
            "Completed CatBoost for EA. Forecast Return: 5.4788%\n",
            "Saved CatBoost parameters, forecasts, and performance data for EA.\n",
            "\n",
            "Processing CatBoost model for stock: DHR\n",
            "Loaded existing CatBoost study for DHR.\n"
          ]
        },
        {
          "metadata": {
            "tags": null
          },
          "name": "stderr",
          "output_type": "stream",
          "text": [
            "[I 2024-12-15 06:36:22,382] Trial 52 finished with value: 52.17020458879659 and parameters: {'iterations': 2683, 'depth': 10, 'learning_rate': 0.00034539428432420866, 'l2_leaf_reg': 5.141763111675604, 'random_strength': 9.51642781234893, 'bagging_temperature': 5.994504069056772}. Best is trial 4 with value: 50.15776980602615.\n"
          ]
        },
        {
          "metadata": {
            "tags": null
          },
          "name": "stdout",
          "output_type": "stream",
          "text": [
            "Best params for DHR (CatBoost): {'iterations': 745, 'depth': 7, 'learning_rate': 0.10666230212652074, 'l2_leaf_reg': 7.77638579462104, 'random_strength': 5.27501495329906, 'bagging_temperature': 6.550662250932994}\n",
            "Best RMSE for DHR: 50.15776980602615\n",
            "Best R² for DHR: -0.03882699517068696\n",
            "Best MAPE for DHR: 2865736188701.6895\n",
            "Completed CatBoost for DHR. Forecast Return: -4.4908%\n",
            "Saved CatBoost parameters, forecasts, and performance data for DHR.\n",
            "\n",
            "Processing CatBoost model for stock: DGX\n",
            "Loaded existing CatBoost study for DGX.\n"
          ]
        },
        {
          "metadata": {
            "tags": null
          },
          "name": "stderr",
          "output_type": "stream",
          "text": [
            "[I 2024-12-15 06:36:41,836] Trial 14 pruned. \n"
          ]
        },
        {
          "metadata": {
            "tags": null
          },
          "name": "stdout",
          "output_type": "stream",
          "text": [
            "Best params for DGX (CatBoost): {'iterations': 2986, 'depth': 9, 'learning_rate': 0.002494641804074499, 'l2_leaf_reg': 6.988669863168411, 'random_strength': 3.42407719590765, 'bagging_temperature': 7.157598063197339}\n",
            "Best RMSE for DGX: 51.36075094640058\n",
            "Best R² for DGX: 0.05238545436012073\n",
            "Best MAPE for DGX: 1.8795019908526538\n",
            "Completed CatBoost for DGX. Forecast Return: -0.1230%\n",
            "Saved CatBoost parameters, forecasts, and performance data for DGX.\n",
            "\n",
            "Processing CatBoost model for stock: DIS\n",
            "Loaded existing CatBoost study for DIS.\n"
          ]
        },
        {
          "metadata": {
            "tags": null
          },
          "name": "stderr",
          "output_type": "stream",
          "text": [
            "[I 2024-12-15 06:38:26,618] Trial 70 pruned. \n"
          ]
        },
        {
          "metadata": {
            "tags": null
          },
          "name": "stdout",
          "output_type": "stream",
          "text": [
            "Best params for DIS (CatBoost): {'iterations': 2026, 'depth': 7, 'learning_rate': 0.1817826687166582, 'l2_leaf_reg': 13.84681699114156, 'random_strength': 5.893148018654909, 'bagging_temperature': 2.539895317138953}\n",
            "Best RMSE for DIS: 68.3676113650875\n",
            "Best R² for DIS: 0.06607869475947885\n",
            "Best MAPE for DIS: 1.6588401986455608\n",
            "Completed CatBoost for DIS. Forecast Return: 16.6988%\n",
            "Saved CatBoost parameters, forecasts, and performance data for DIS.\n",
            "\n",
            "Processing CatBoost model for stock: DLR\n",
            "Loaded existing CatBoost study for DLR.\n"
          ]
        },
        {
          "metadata": {
            "tags": null
          },
          "name": "stderr",
          "output_type": "stream",
          "text": [
            "[I 2024-12-15 06:39:03,903] Trial 90 pruned. \n"
          ]
        },
        {
          "metadata": {
            "tags": null
          },
          "name": "stdout",
          "output_type": "stream",
          "text": [
            "Best params for DLR (CatBoost): {'iterations': 1081, 'depth': 8, 'learning_rate': 0.22214783201408395, 'l2_leaf_reg': 11.66559145722826, 'random_strength': 2.118975098951204, 'bagging_temperature': 0.2915138491160385}\n",
            "Best RMSE for DLR: 46.681113480187\n",
            "Best R² for DLR: 0.07731306352273688\n",
            "Best MAPE for DLR: 1492781004179.5444\n",
            "Completed CatBoost for DLR. Forecast Return: 3.9074%\n",
            "Saved CatBoost parameters, forecasts, and performance data for DLR.\n",
            "\n",
            "Processing CatBoost model for stock: ECL\n",
            "Loaded existing CatBoost study for ECL.\n"
          ]
        },
        {
          "metadata": {
            "tags": null
          },
          "name": "stderr",
          "output_type": "stream",
          "text": [
            "[I 2024-12-15 06:39:35,992] Trial 70 pruned. \n"
          ]
        },
        {
          "metadata": {
            "tags": null
          },
          "name": "stdout",
          "output_type": "stream",
          "text": [
            "Best params for ECL (CatBoost): {'iterations': 2999, 'depth': 5, 'learning_rate': 0.07359595145061688, 'l2_leaf_reg': 14.20568299966912, 'random_strength': 9.98216378954667, 'bagging_temperature': 1.673939301315758}\n",
            "Best RMSE for ECL: 39.40834980026682\n",
            "Best R² for ECL: 0.04702398979126036\n",
            "Best MAPE for ECL: 2560798095428.4424\n",
            "Completed CatBoost for ECL. Forecast Return: -0.4482%\n",
            "Saved CatBoost parameters, forecasts, and performance data for ECL.\n",
            "\n",
            "Processing CatBoost model for stock: FTV\n",
            "Loaded existing CatBoost study for FTV.\n"
          ]
        },
        {
          "metadata": {
            "tags": null
          },
          "name": "stderr",
          "output_type": "stream",
          "text": [
            "[W 2024-12-15 06:39:50,147] Trial 11 failed with parameters: {'iterations': 896, 'depth': 12, 'learning_rate': 0.0017448206051418054, 'l2_leaf_reg': 9.840231356589186, 'random_strength': 1.9210658543128023, 'bagging_temperature': 9.039523587616596} because of the following error: CatBoostError('catboost/private/libs/algo/tensor_search_helpers.cpp:563: Too few sampling units (subsample=0.8, bootstrap_type=MVS): please increase sampling rate or disable sampling').\n",
            "Traceback (most recent call last):\n",
            "  File \"/usr/local/lib/python3.10/dist-packages/optuna/study/_optimize.py\", line 197, in _run_trial\n",
            "    value_or_values = func(trial)\n",
            "  File \"<ipython-input-11-50e9b8b2f916>\", line 89, in objective_cb\n",
            "    model.fit(train_pool, eval_set=(X_val_fold, y_val_fold), early_stopping_rounds=100, use_best_model=True)\n",
            "  File \"/usr/local/lib/python3.10/dist-packages/catboost/core.py\", line 5873, in fit\n",
            "    return self._fit(X, y, cat_features, text_features, embedding_features, None, graph, sample_weight, None, None, None, None, baseline,\n",
            "  File \"/usr/local/lib/python3.10/dist-packages/catboost/core.py\", line 2410, in _fit\n",
            "    self._train(\n",
            "  File \"/usr/local/lib/python3.10/dist-packages/catboost/core.py\", line 1790, in _train\n",
            "    self._object._train(train_pool, test_pool, params, allow_clear_pool, init_model._object if init_model else None)\n",
            "  File \"_catboost.pyx\", line 5017, in _catboost._CatBoost._train\n",
            "  File \"_catboost.pyx\", line 5066, in _catboost._CatBoost._train\n",
            "_catboost.CatBoostError: catboost/private/libs/algo/tensor_search_helpers.cpp:563: Too few sampling units (subsample=0.8, bootstrap_type=MVS): please increase sampling rate or disable sampling\n",
            "[W 2024-12-15 06:39:50,159] Trial 11 failed with value None.\n"
          ]
        },
        {
          "metadata": {
            "tags": null
          },
          "name": "stdout",
          "output_type": "stream",
          "text": [
            "An error occurred while processing CatBoost for FTV: catboost/private/libs/algo/tensor_search_helpers.cpp:563: Too few sampling units (subsample=0.8, bootstrap_type=MVS): please increase sampling rate or disable sampling\n",
            "Saved CatBoost parameters, forecasts, and performance data for FTV.\n",
            "\n",
            "Processing CatBoost model for stock: DAL\n",
            "Loaded existing CatBoost study for DAL.\n"
          ]
        },
        {
          "metadata": {
            "tags": null
          },
          "name": "stderr",
          "output_type": "stream",
          "text": [
            "[I 2024-12-15 06:39:51,842] Trial 70 pruned. \n"
          ]
        },
        {
          "metadata": {
            "tags": null
          },
          "name": "stdout",
          "output_type": "stream",
          "text": [
            "Best params for DAL (CatBoost): {'iterations': 2020, 'depth': 5, 'learning_rate': 0.15206400799449524, 'l2_leaf_reg': 13.9245467420155, 'random_strength': 4.857643673722597, 'bagging_temperature': 7.1876072018161725}\n",
            "Best RMSE for DAL: 144.78326511170667\n",
            "Best R² for DAL: 0.060080488093723426\n",
            "Best MAPE for DAL: 634247398199.0151\n",
            "Completed CatBoost for DAL. Forecast Return: 3.5032%\n",
            "Saved CatBoost parameters, forecasts, and performance data for DAL.\n",
            "\n",
            "Processing CatBoost model for stock: DE\n",
            "Loaded existing CatBoost study for DE.\n"
          ]
        },
        {
          "metadata": {
            "tags": null
          },
          "name": "stderr",
          "output_type": "stream",
          "text": [
            "[I 2024-12-15 06:40:01,457] Trial 70 finished with value: 66.99110604574267 and parameters: {'iterations': 1927, 'depth': 4, 'learning_rate': 0.1754557096072572, 'l2_leaf_reg': 13.82647443257093, 'random_strength': 5.116260471347561, 'bagging_temperature': 1.537584889346882}. Best is trial 17 with value: 65.21302234634005.\n"
          ]
        },
        {
          "metadata": {
            "tags": null
          },
          "name": "stdout",
          "output_type": "stream",
          "text": [
            "Best params for DE (CatBoost): {'iterations': 2084, 'depth': 4, 'learning_rate': 0.284610219897977, 'l2_leaf_reg': 14.979877862694552, 'random_strength': 5.454030333270422, 'bagging_temperature': 1.7254832962074373}\n",
            "Best RMSE for DE: 65.21302234634005\n",
            "Best R² for DE: 0.06504126648708952\n",
            "Best MAPE for DE: 1.6102685097166354\n",
            "Completed CatBoost for DE. Forecast Return: 13.3630%\n",
            "Saved CatBoost parameters, forecasts, and performance data for DE.\n",
            "\n",
            "Processing CatBoost model for stock: DFS\n",
            "Loaded existing CatBoost study for DFS.\n"
          ]
        },
        {
          "metadata": {
            "tags": null
          },
          "name": "stderr",
          "output_type": "stream",
          "text": [
            "[I 2024-12-15 06:41:38,397] Trial 43 finished with value: 124.33416312701426 and parameters: {'iterations': 1519, 'depth': 10, 'learning_rate': 0.016753561893424068, 'l2_leaf_reg': 13.245397273849713, 'random_strength': 5.336071046124396, 'bagging_temperature': 6.498787999885194}. Best is trial 3 with value: 123.57745693308522.\n"
          ]
        },
        {
          "metadata": {
            "tags": null
          },
          "name": "stdout",
          "output_type": "stream",
          "text": [
            "Best params for DFS (CatBoost): {'iterations': 2368, 'depth': 10, 'learning_rate': 0.07534569295086453, 'l2_leaf_reg': 6.367736669275987, 'random_strength': 3.4963326387187226, 'bagging_temperature': 7.423628943405106}\n",
            "Best RMSE for DFS: 123.57745693308522\n",
            "Best R² for DFS: 0.051527181069067694\n",
            "Best MAPE for DFS: 12646199967456.023\n",
            "Completed CatBoost for DFS. Forecast Return: 1.2664%\n",
            "Saved CatBoost parameters, forecasts, and performance data for DFS.\n",
            "\n",
            "Processing CatBoost model for stock: IEX\n",
            "Loaded existing CatBoost study for IEX.\n"
          ]
        },
        {
          "metadata": {
            "tags": null
          },
          "name": "stderr",
          "output_type": "stream",
          "text": [
            "[I 2024-12-15 06:43:56,933] Trial 36 pruned. \n"
          ]
        },
        {
          "metadata": {
            "tags": null
          },
          "name": "stdout",
          "output_type": "stream",
          "text": [
            "Best params for IEX (CatBoost): {'iterations': 1850, 'depth': 4, 'learning_rate': 0.07306069620401645, 'l2_leaf_reg': 7.1713426535624825, 'random_strength': 2.4230316805025334, 'bagging_temperature': 8.619198831468943}\n",
            "Best RMSE for IEX: 39.2184056370452\n",
            "Best R² for IEX: 0.04588553601556078\n",
            "Best MAPE for IEX: 667278778286.8418\n",
            "Completed CatBoost for IEX. Forecast Return: -0.2277%\n",
            "Saved CatBoost parameters, forecasts, and performance data for IEX.\n",
            "\n",
            "Processing CatBoost model for stock: INTC\n",
            "Loaded existing CatBoost study for INTC.\n"
          ]
        },
        {
          "metadata": {
            "tags": null
          },
          "name": "stderr",
          "output_type": "stream",
          "text": [
            "[I 2024-12-15 06:46:23,000] Trial 15 finished with value: 100.50064483530127 and parameters: {'iterations': 2918, 'depth': 9, 'learning_rate': 0.001651558604790849, 'l2_leaf_reg': 6.604419000532616, 'random_strength': 4.361957378240493, 'bagging_temperature': 1.6096258329235031}. Best is trial 15 with value: 100.50064483530127.\n"
          ]
        },
        {
          "metadata": {
            "tags": null
          },
          "name": "stdout",
          "output_type": "stream",
          "text": [
            "Best params for INTC (CatBoost): {'iterations': 2918, 'depth': 9, 'learning_rate': 0.001651558604790849, 'l2_leaf_reg': 6.604419000532616, 'random_strength': 4.361957378240493, 'bagging_temperature': 1.6096258329235031}\n",
            "Best RMSE for INTC: 100.50064483530127\n",
            "Best R² for INTC: 0.015827594101198755\n",
            "Best MAPE for INTC: 9216196551.20709\n",
            "Completed CatBoost for INTC. Forecast Return: -0.8865%\n",
            "Saved CatBoost parameters, forecasts, and performance data for INTC.\n",
            "\n",
            "Processing CatBoost model for stock: ISRG\n",
            "Loaded existing CatBoost study for ISRG.\n"
          ]
        },
        {
          "metadata": {
            "tags": null
          },
          "name": "stderr",
          "output_type": "stream",
          "text": [
            "[I 2024-12-15 06:48:21,577] Trial 35 finished with value: 81.48483233666316 and parameters: {'iterations': 1810, 'depth': 9, 'learning_rate': 0.11548429788740373, 'l2_leaf_reg': 5.248628794208786, 'random_strength': 7.137599790675815, 'bagging_temperature': 6.710014524049725}. Best is trial 32 with value: 81.25733068922021.\n"
          ]
        },
        {
          "metadata": {
            "tags": null
          },
          "name": "stdout",
          "output_type": "stream",
          "text": [
            "Best params for ISRG (CatBoost): {'iterations': 586, 'depth': 9, 'learning_rate': 0.09425278376639652, 'l2_leaf_reg': 7.518287254975239, 'random_strength': 3.29435557360191, 'bagging_temperature': 7.970206017851794}\n",
            "Best RMSE for ISRG: 81.25733068922021\n",
            "Best R² for ISRG: 0.008305040529334637\n",
            "Best MAPE for ISRG: 1.7328685971807443\n",
            "Completed CatBoost for ISRG. Forecast Return: 1.4455%\n",
            "Saved CatBoost parameters, forecasts, and performance data for ISRG.\n",
            "\n",
            "Processing CatBoost model for stock: IRM\n",
            "Loaded existing CatBoost study for IRM.\n"
          ]
        },
        {
          "metadata": {
            "tags": null
          },
          "name": "stderr",
          "output_type": "stream",
          "text": [
            "[I 2024-12-15 06:48:45,337] Trial 35 finished with value: 61.585139450050974 and parameters: {'iterations': 1383, 'depth': 6, 'learning_rate': 0.08079292586934055, 'l2_leaf_reg': 13.920418737548829, 'random_strength': 9.440712350977451, 'bagging_temperature': 1.1085502525768423}. Best is trial 22 with value: 60.70916426741078.\n"
          ]
        },
        {
          "metadata": {
            "tags": null
          },
          "name": "stdout",
          "output_type": "stream",
          "text": [
            "Best params for IRM (CatBoost): {'iterations': 1750, 'depth': 6, 'learning_rate': 0.2851747613869485, 'l2_leaf_reg': 8.556166582530931, 'random_strength': 9.044873248607493, 'bagging_temperature': 4.803369101910932}\n",
            "Best RMSE for IRM: 60.70916426741078\n",
            "Best R² for IRM: 0.0003906095179850855\n",
            "Best MAPE for IRM: 7659809813592.388\n",
            "Completed CatBoost for IRM. Forecast Return: -5.4358%\n",
            "Saved CatBoost parameters, forecasts, and performance data for IRM.\n",
            "\n",
            "Processing CatBoost model for stock: HUM\n",
            "Loaded existing CatBoost study for HUM.\n"
          ]
        },
        {
          "metadata": {
            "tags": null
          },
          "name": "stderr",
          "output_type": "stream",
          "text": [
            "[I 2024-12-15 06:49:08,873] Trial 35 finished with value: 72.9372240850712 and parameters: {'iterations': 2473, 'depth': 6, 'learning_rate': 0.009397305720525573, 'l2_leaf_reg': 2.101586565553906, 'random_strength': 7.4850138509609625, 'bagging_temperature': 1.1853834497115079}. Best is trial 4 with value: 71.91833251939701.\n"
          ]
        },
        {
          "metadata": {
            "tags": null
          },
          "name": "stdout",
          "output_type": "stream",
          "text": [
            "Best params for HUM (CatBoost): {'iterations': 2921, 'depth': 5, 'learning_rate': 0.007960380714793767, 'l2_leaf_reg': 12.95863869158577, 'random_strength': 9.697729030112402, 'bagging_temperature': 6.491675063692406}\n",
            "Best RMSE for HUM: 71.91833251939701\n",
            "Best R² for HUM: 0.03400472072119106\n",
            "Best MAPE for HUM: 2.2494388974809767\n",
            "Completed CatBoost for HUM. Forecast Return: 2.8973%\n",
            "Saved CatBoost parameters, forecasts, and performance data for HUM.\n",
            "\n",
            "Processing CatBoost model for stock: IQV\n",
            "Loaded existing CatBoost study for IQV.\n"
          ]
        },
        {
          "metadata": {
            "tags": null
          },
          "name": "stderr",
          "output_type": "stream",
          "text": [
            "[I 2024-12-15 06:49:23,896] Trial 35 pruned. \n"
          ]
        },
        {
          "metadata": {
            "tags": null
          },
          "name": "stdout",
          "output_type": "stream",
          "text": [
            "Best params for IQV (CatBoost): {'iterations': 879, 'depth': 8, 'learning_rate': 0.12748392231808944, 'l2_leaf_reg': 2.589585334799543, 'random_strength': 6.778631123734794, 'bagging_temperature': 5.420912441522941}\n",
            "Best RMSE for IQV: 68.89557906220558\n",
            "Best R² for IQV: 0.10714819993552353\n",
            "Best MAPE for IQV: 3691782244758.7847\n",
            "Completed CatBoost for IQV. Forecast Return: -6.9589%\n",
            "Saved CatBoost parameters, forecasts, and performance data for IQV.\n",
            "\n",
            "Processing CatBoost model for stock: IP\n",
            "Loaded existing CatBoost study for IP.\n"
          ]
        },
        {
          "metadata": {
            "tags": null
          },
          "name": "stderr",
          "output_type": "stream",
          "text": [
            "[I 2024-12-15 06:50:04,078] Trial 35 pruned. \n"
          ]
        },
        {
          "metadata": {
            "tags": null
          },
          "name": "stdout",
          "output_type": "stream",
          "text": [
            "Best params for IP (CatBoost): {'iterations': 729, 'depth': 6, 'learning_rate': 0.057562547054991156, 'l2_leaf_reg': 2.9095263862165233, 'random_strength': 9.149811246211723, 'bagging_temperature': 1.535943034385984}\n",
            "Best RMSE for IP: 64.30303552351147\n",
            "Best R² for IP: 0.08601850385218934\n",
            "Best MAPE for IP: 13978378498748.42\n",
            "Completed CatBoost for IP. Forecast Return: -3.1721%\n",
            "Saved CatBoost parameters, forecasts, and performance data for IP.\n",
            "\n",
            "Processing CatBoost model for stock: INTU\n",
            "Loaded existing CatBoost study for INTU.\n"
          ]
        },
        {
          "metadata": {
            "tags": null
          },
          "name": "stderr",
          "output_type": "stream",
          "text": [
            "[I 2024-12-15 06:50:12,326] Trial 35 pruned. \n"
          ]
        },
        {
          "metadata": {
            "tags": null
          },
          "name": "stdout",
          "output_type": "stream",
          "text": [
            "Best params for INTU (CatBoost): {'iterations': 2999, 'depth': 6, 'learning_rate': 0.009442571892813894, 'l2_leaf_reg': 10.431076048415099, 'random_strength': 4.530932149389698, 'bagging_temperature': 0.0012287418099408143}\n",
            "Best RMSE for INTU: 57.24797786208982\n",
            "Best R² for INTU: 0.010177222899533414\n",
            "Best MAPE for INTU: 2.148004053346243\n",
            "Completed CatBoost for INTU. Forecast Return: -6.0012%\n",
            "Saved CatBoost parameters, forecasts, and performance data for INTU.\n",
            "\n",
            "Processing CatBoost model for stock: IDXX\n",
            "Loaded existing CatBoost study for IDXX.\n"
          ]
        },
        {
          "metadata": {
            "tags": null
          },
          "name": "stderr",
          "output_type": "stream",
          "text": [
            "[I 2024-12-15 06:50:39,518] Trial 35 pruned. \n"
          ]
        },
        {
          "metadata": {
            "tags": null
          },
          "name": "stdout",
          "output_type": "stream",
          "text": [
            "Best params for IDXX (CatBoost): {'iterations': 1241, 'depth': 9, 'learning_rate': 0.07381722837986192, 'l2_leaf_reg': 2.5960772143949855, 'random_strength': 1.2722486898866352, 'bagging_temperature': 8.689767049518094}\n",
            "Best RMSE for IDXX: 82.92642352019622\n",
            "Best R² for IDXX: 0.03238887460596621\n",
            "Best MAPE for IDXX: 1.5590400227631822\n",
            "Completed CatBoost for IDXX. Forecast Return: 1.9866%\n",
            "Saved CatBoost parameters, forecasts, and performance data for IDXX.\n",
            "\n",
            "Processing CatBoost model for stock: HUBB\n",
            "Loaded existing CatBoost study for HUBB.\n"
          ]
        },
        {
          "metadata": {
            "tags": null
          },
          "name": "stderr",
          "output_type": "stream",
          "text": [
            "[I 2024-12-15 06:51:27,478] Trial 35 finished with value: 59.9175013564654 and parameters: {'iterations': 974, 'depth': 4, 'learning_rate': 0.18835224885408636, 'l2_leaf_reg': 9.702960916041999, 'random_strength': 9.306623644784594, 'bagging_temperature': 4.421474016736662}. Best is trial 6 with value: 58.35724778671655.\n"
          ]
        },
        {
          "metadata": {
            "tags": null
          },
          "name": "stdout",
          "output_type": "stream",
          "text": [
            "Best params for HUBB (CatBoost): {'iterations': 2083, 'depth': 6, 'learning_rate': 0.043968872353991474, 'l2_leaf_reg': 9.113120769108734, 'random_strength': 5.117612640896005, 'bagging_temperature': 1.7867269167419342}\n",
            "Best RMSE for HUBB: 58.35724778671655\n",
            "Best R² for HUBB: 0.013076140103274772\n",
            "Best MAPE for HUBB: 1325975943738.4963\n",
            "Completed CatBoost for HUBB. Forecast Return: -2.0100%\n",
            "Saved CatBoost parameters, forecasts, and performance data for HUBB.\n",
            "\n",
            "Processing CatBoost model for stock: HPE\n",
            "Loaded existing CatBoost study for HPE.\n"
          ]
        },
        {
          "metadata": {
            "tags": null
          },
          "name": "stderr",
          "output_type": "stream",
          "text": [
            "[W 2024-12-15 06:51:42,067] Trial 9 failed with parameters: {'iterations': 1901, 'depth': 12, 'learning_rate': 0.005147858435655151, 'l2_leaf_reg': 14.382985216956275, 'random_strength': 1.5674262501262328, 'bagging_temperature': 1.8752156947670295} because of the following error: CatBoostError('catboost/private/libs/algo/tensor_search_helpers.cpp:563: Too few sampling units (subsample=0.8, bootstrap_type=MVS): please increase sampling rate or disable sampling').\n",
            "Traceback (most recent call last):\n",
            "  File \"/usr/local/lib/python3.10/dist-packages/optuna/study/_optimize.py\", line 197, in _run_trial\n",
            "    value_or_values = func(trial)\n",
            "  File \"<ipython-input-11-50e9b8b2f916>\", line 89, in objective_cb\n",
            "    model.fit(train_pool, eval_set=(X_val_fold, y_val_fold), early_stopping_rounds=100, use_best_model=True)\n",
            "  File \"/usr/local/lib/python3.10/dist-packages/catboost/core.py\", line 5873, in fit\n",
            "    return self._fit(X, y, cat_features, text_features, embedding_features, None, graph, sample_weight, None, None, None, None, baseline,\n",
            "  File \"/usr/local/lib/python3.10/dist-packages/catboost/core.py\", line 2410, in _fit\n",
            "    self._train(\n",
            "  File \"/usr/local/lib/python3.10/dist-packages/catboost/core.py\", line 1790, in _train\n",
            "    self._object._train(train_pool, test_pool, params, allow_clear_pool, init_model._object if init_model else None)\n",
            "  File \"_catboost.pyx\", line 5017, in _catboost._CatBoost._train\n",
            "  File \"_catboost.pyx\", line 5066, in _catboost._CatBoost._train\n",
            "_catboost.CatBoostError: catboost/private/libs/algo/tensor_search_helpers.cpp:563: Too few sampling units (subsample=0.8, bootstrap_type=MVS): please increase sampling rate or disable sampling\n",
            "[W 2024-12-15 06:51:42,069] Trial 9 failed with value None.\n"
          ]
        },
        {
          "metadata": {
            "tags": null
          },
          "name": "stdout",
          "output_type": "stream",
          "text": [
            "An error occurred while processing CatBoost for HPE: catboost/private/libs/algo/tensor_search_helpers.cpp:563: Too few sampling units (subsample=0.8, bootstrap_type=MVS): please increase sampling rate or disable sampling\n",
            "Saved CatBoost parameters, forecasts, and performance data for HPE.\n",
            "\n",
            "Processing CatBoost model for stock: IBM\n",
            "Loaded existing CatBoost study for IBM.\n"
          ]
        },
        {
          "metadata": {
            "tags": null
          },
          "name": "stderr",
          "output_type": "stream",
          "text": [
            "[I 2024-12-15 06:52:14,095] Trial 48 finished with value: 46.097951942065585 and parameters: {'iterations': 1035, 'depth': 10, 'learning_rate': 0.2123552057801662, 'l2_leaf_reg': 3.6204670834441472, 'random_strength': 2.2539288374531146, 'bagging_temperature': 1.3036391166881023}. Best is trial 48 with value: 46.097951942065585.\n"
          ]
        },
        {
          "metadata": {
            "tags": null
          },
          "name": "stdout",
          "output_type": "stream",
          "text": [
            "Best params for IBM (CatBoost): {'iterations': 1035, 'depth': 10, 'learning_rate': 0.2123552057801662, 'l2_leaf_reg': 3.6204670834441472, 'random_strength': 2.2539288374531146, 'bagging_temperature': 1.3036391166881023}\n",
            "Best RMSE for IBM: 46.097951942065585\n",
            "Best R² for IBM: 0.0774618117174003\n",
            "Best MAPE for IBM: 2111308879031.321\n",
            "Completed CatBoost for IBM. Forecast Return: 9.1977%\n",
            "Saved CatBoost parameters, forecasts, and performance data for IBM.\n",
            "\n",
            "Processing CatBoost model for stock: HON\n",
            "Loaded existing CatBoost study for HON.\n"
          ]
        },
        {
          "metadata": {
            "tags": null
          },
          "name": "stderr",
          "output_type": "stream",
          "text": [
            "[I 2024-12-15 06:53:13,079] Trial 35 pruned. \n"
          ]
        },
        {
          "metadata": {
            "tags": null
          },
          "name": "stdout",
          "output_type": "stream",
          "text": [
            "Best params for HON (CatBoost): {'iterations': 934, 'depth': 4, 'learning_rate': 0.2024214345392373, 'l2_leaf_reg': 10.482353439614032, 'random_strength': 1.0080517185674618, 'bagging_temperature': 2.707031046584642}\n",
            "Best RMSE for HON: 42.289583254514774\n",
            "Best R² for HON: 0.0386681463508021\n",
            "Best MAPE for HON: 4194898129515.865\n",
            "Completed CatBoost for HON. Forecast Return: 3.1472%\n",
            "Saved CatBoost parameters, forecasts, and performance data for HON.\n",
            "\n",
            "Processing CatBoost model for stock: HOLX\n",
            "Loaded existing CatBoost study for HOLX.\n"
          ]
        },
        {
          "metadata": {
            "tags": null
          },
          "name": "stderr",
          "output_type": "stream",
          "text": [
            "[I 2024-12-15 06:53:17,263] Trial 35 pruned. \n"
          ]
        },
        {
          "metadata": {
            "tags": null
          },
          "name": "stdout",
          "output_type": "stream",
          "text": [
            "Best params for HOLX (CatBoost): {'iterations': 2342, 'depth': 5, 'learning_rate': 0.009354766349987546, 'l2_leaf_reg': 10.700600517440801, 'random_strength': 6.7543236994262905, 'bagging_temperature': 9.208357807825116}\n",
            "Best RMSE for HOLX: 71.29091573015671\n",
            "Best R² for HOLX: 0.036363476416926464\n",
            "Best MAPE for HOLX: 1967245614138.488\n",
            "Completed CatBoost for HOLX. Forecast Return: -0.3772%\n",
            "Saved CatBoost parameters, forecasts, and performance data for HOLX.\n",
            "\n",
            "Processing CatBoost model for stock: HES\n",
            "Loaded existing CatBoost study for HES.\n"
          ]
        },
        {
          "metadata": {
            "tags": null
          },
          "name": "stderr",
          "output_type": "stream",
          "text": [
            "[I 2024-12-15 06:53:29,874] Trial 35 pruned. \n"
          ]
        },
        {
          "metadata": {
            "tags": null
          },
          "name": "stdout",
          "output_type": "stream",
          "text": [
            "Best params for HES (CatBoost): {'iterations': 900, 'depth': 6, 'learning_rate': 0.13769096083964877, 'l2_leaf_reg': 10.60996282535655, 'random_strength': 5.366029698750826, 'bagging_temperature': 6.300526627516662}\n",
            "Best RMSE for HES: 146.16813084156132\n",
            "Best R² for HES: 0.030100821394613564\n",
            "Best MAPE for HES: 3761500736080.5957\n",
            "Completed CatBoost for HES. Forecast Return: 1.1291%\n",
            "Saved CatBoost parameters, forecasts, and performance data for HES.\n",
            "\n",
            "Processing CatBoost model for stock: HBAN\n",
            "Loaded existing CatBoost study for HBAN.\n"
          ]
        },
        {
          "metadata": {
            "tags": null
          },
          "name": "stderr",
          "output_type": "stream",
          "text": [
            "[I 2024-12-15 06:54:13,279] Trial 35 pruned. \n"
          ]
        },
        {
          "metadata": {
            "tags": null
          },
          "name": "stdout",
          "output_type": "stream",
          "text": [
            "Best params for HBAN (CatBoost): {'iterations': 521, 'depth': 4, 'learning_rate': 0.16885948015191282, 'l2_leaf_reg': 11.299804411940524, 'random_strength': 6.139038164084372, 'bagging_temperature': 7.045566855945543}\n",
            "Best RMSE for HBAN: 89.06380927483637\n",
            "Best R² for HBAN: 0.08074566509909527\n",
            "Best MAPE for HBAN: 19740472489340.777\n",
            "Completed CatBoost for HBAN. Forecast Return: 0.5871%\n",
            "Saved CatBoost parameters, forecasts, and performance data for HBAN.\n",
            "\n",
            "Processing CatBoost model for stock: HIG\n",
            "Loaded existing CatBoost study for HIG.\n"
          ]
        },
        {
          "metadata": {
            "tags": null
          },
          "name": "stderr",
          "output_type": "stream",
          "text": [
            "[I 2024-12-15 06:54:17,846] Trial 35 pruned. \n"
          ]
        },
        {
          "metadata": {
            "tags": null
          },
          "name": "stdout",
          "output_type": "stream",
          "text": [
            "Best params for HIG (CatBoost): {'iterations': 2530, 'depth': 6, 'learning_rate': 0.16422609248301537, 'l2_leaf_reg': 3.8309578320793496, 'random_strength': 9.385614241511224, 'bagging_temperature': 7.363353503795592}\n",
            "Best RMSE for HIG: 58.51856685118534\n",
            "Best R² for HIG: 0.04673768243495894\n",
            "Best MAPE for HIG: 6948281135717.988\n",
            "Completed CatBoost for HIG. Forecast Return: -0.9914%\n",
            "Saved CatBoost parameters, forecasts, and performance data for HIG.\n",
            "\n",
            "Processing CatBoost model for stock: HD\n",
            "Loaded existing CatBoost study for HD.\n"
          ]
        },
        {
          "metadata": {
            "tags": null
          },
          "name": "stderr",
          "output_type": "stream",
          "text": [
            "[I 2024-12-15 06:54:40,771] Trial 35 pruned. \n"
          ]
        },
        {
          "metadata": {
            "tags": null
          },
          "name": "stdout",
          "output_type": "stream",
          "text": [
            "Best params for HD (CatBoost): {'iterations': 1143, 'depth': 8, 'learning_rate': 0.20344434020736507, 'l2_leaf_reg': 3.1527097399406125, 'random_strength': 9.354158031920521, 'bagging_temperature': 0.1698817198086211}\n",
            "Best RMSE for HD: 49.1463971408072\n",
            "Best R² for HD: 0.05321778664517196\n",
            "Best MAPE for HD: 1.6425249595886577\n",
            "Completed CatBoost for HD. Forecast Return: 4.5181%\n",
            "Saved CatBoost parameters, forecasts, and performance data for HD.\n",
            "\n",
            "Processing CatBoost model for stock: HCA\n",
            "Loaded existing CatBoost study for HCA.\n"
          ]
        },
        {
          "metadata": {
            "tags": null
          },
          "name": "stderr",
          "output_type": "stream",
          "text": [
            "[I 2024-12-15 06:55:03,214] Trial 35 pruned. \n"
          ]
        },
        {
          "metadata": {
            "tags": null
          },
          "name": "stdout",
          "output_type": "stream",
          "text": [
            "Best params for HCA (CatBoost): {'iterations': 1512, 'depth': 6, 'learning_rate': 0.16587382382290414, 'l2_leaf_reg': 11.669859126405582, 'random_strength': 5.682187687674104, 'bagging_temperature': 5.679943901283546}\n",
            "Best RMSE for HCA: 97.53670119481838\n",
            "Best R² for HCA: 0.003438138756894175\n",
            "Best MAPE for HCA: 1790806141702.626\n",
            "Completed CatBoost for HCA. Forecast Return: -10.0742%\n",
            "Saved CatBoost parameters, forecasts, and performance data for HCA.\n",
            "\n",
            "Processing CatBoost model for stock: GS\n",
            "Loaded existing CatBoost study for GS.\n"
          ]
        },
        {
          "metadata": {
            "tags": null
          },
          "name": "stderr",
          "output_type": "stream",
          "text": [
            "[I 2024-12-15 06:55:19,200] Trial 35 pruned. \n"
          ]
        },
        {
          "metadata": {
            "tags": null
          },
          "name": "stdout",
          "output_type": "stream",
          "text": [
            "Best params for GS (CatBoost): {'iterations': 769, 'depth': 4, 'learning_rate': 0.04586318211307038, 'l2_leaf_reg': 12.269685591688592, 'random_strength': 8.138046934813515, 'bagging_temperature': 8.896092499502377}\n",
            "Best RMSE for GS: 69.67927158473007\n",
            "Best R² for GS: 0.02009154569944131\n",
            "Best MAPE for GS: 1.7553505647558154\n",
            "Completed CatBoost for GS. Forecast Return: 2.6972%\n",
            "Saved CatBoost parameters, forecasts, and performance data for GS.\n",
            "\n",
            "Processing CatBoost model for stock: GWW\n",
            "Loaded existing CatBoost study for GWW.\n"
          ]
        },
        {
          "metadata": {
            "tags": null
          },
          "name": "stderr",
          "output_type": "stream",
          "text": [
            "[I 2024-12-15 06:55:25,142] Trial 35 pruned. \n"
          ]
        },
        {
          "metadata": {
            "tags": null
          },
          "name": "stdout",
          "output_type": "stream",
          "text": [
            "Best params for GWW (CatBoost): {'iterations': 1932, 'depth': 10, 'learning_rate': 0.00312181756256694, 'l2_leaf_reg': 6.162387124504217, 'random_strength': 2.2161863584784984, 'bagging_temperature': 6.33697778610895}\n",
            "Best RMSE for GWW: 70.40109002614139\n",
            "Best R² for GWW: -0.08634981074794035\n",
            "Best MAPE for GWW: 399892230499.978\n",
            "Completed CatBoost for GWW. Forecast Return: 4.8127%\n",
            "Saved CatBoost parameters, forecasts, and performance data for GWW.\n",
            "\n",
            "Processing CatBoost model for stock: GOOGL\n",
            "Loaded existing CatBoost study for GOOGL.\n"
          ]
        },
        {
          "metadata": {
            "tags": null
          },
          "name": "stderr",
          "output_type": "stream",
          "text": [
            "[I 2024-12-15 06:57:17,371] Trial 35 finished with value: 52.11694607456292 and parameters: {'iterations': 1735, 'depth': 6, 'learning_rate': 0.07370542322486562, 'l2_leaf_reg': 2.8430067853870216, 'random_strength': 8.39269450722468, 'bagging_temperature': 6.269022287456535}. Best is trial 32 with value: 51.09830495880476.\n"
          ]
        },
        {
          "metadata": {
            "tags": null
          },
          "name": "stdout",
          "output_type": "stream",
          "text": [
            "Best params for GOOGL (CatBoost): {'iterations': 2738, 'depth': 4, 'learning_rate': 0.1330472829768654, 'l2_leaf_reg': 8.680265196552893, 'random_strength': 6.944561435010155, 'bagging_temperature': 1.1579234618722531}\n",
            "Best RMSE for GOOGL: 51.09830495880476\n",
            "Best R² for GOOGL: 0.05034129975914403\n",
            "Best MAPE for GOOGL: 5.123402833900248\n",
            "Completed CatBoost for GOOGL. Forecast Return: 0.8985%\n",
            "Saved CatBoost parameters, forecasts, and performance data for GOOGL.\n",
            "\n",
            "Processing CatBoost model for stock: GE\n",
            "Loaded existing CatBoost study for GE.\n"
          ]
        },
        {
          "metadata": {
            "tags": null
          },
          "name": "stderr",
          "output_type": "stream",
          "text": [
            "[I 2024-12-15 06:57:28,553] Trial 35 pruned. \n"
          ]
        },
        {
          "metadata": {
            "tags": null
          },
          "name": "stdout",
          "output_type": "stream",
          "text": [
            "Best params for GE (CatBoost): {'iterations': 2949, 'depth': 4, 'learning_rate': 0.013833289465164812, 'l2_leaf_reg': 1.1757986522328583, 'random_strength': 7.597108571568989, 'bagging_temperature': 0.6648010719423121}\n",
            "Best RMSE for GE: 139.21228983839964\n",
            "Best R² for GE: -0.059349388272119885\n",
            "Best MAPE for GE: 22173406290767.98\n",
            "Completed CatBoost for GE. Forecast Return: -3.2937%\n",
            "Saved CatBoost parameters, forecasts, and performance data for GE.\n",
            "\n",
            "Processing CatBoost model for stock: GDDY\n",
            "Loaded existing CatBoost study for GDDY.\n"
          ]
        },
        {
          "metadata": {
            "tags": null
          },
          "name": "stderr",
          "output_type": "stream",
          "text": [
            "[W 2024-12-15 06:57:37,159] Trial 8 failed with parameters: {'iterations': 2262, 'depth': 4, 'learning_rate': 0.012846598961989399, 'l2_leaf_reg': 2.882865456817166, 'random_strength': 2.1293964656450823, 'bagging_temperature': 9.899304621164305} because of the following error: CatBoostError('catboost/private/libs/algo/tensor_search_helpers.cpp:563: Too few sampling units (subsample=0.8, bootstrap_type=MVS): please increase sampling rate or disable sampling').\n",
            "Traceback (most recent call last):\n",
            "  File \"/usr/local/lib/python3.10/dist-packages/optuna/study/_optimize.py\", line 197, in _run_trial\n",
            "    value_or_values = func(trial)\n",
            "  File \"<ipython-input-11-50e9b8b2f916>\", line 89, in objective_cb\n",
            "    model.fit(train_pool, eval_set=(X_val_fold, y_val_fold), early_stopping_rounds=100, use_best_model=True)\n",
            "  File \"/usr/local/lib/python3.10/dist-packages/catboost/core.py\", line 5873, in fit\n",
            "    return self._fit(X, y, cat_features, text_features, embedding_features, None, graph, sample_weight, None, None, None, None, baseline,\n",
            "  File \"/usr/local/lib/python3.10/dist-packages/catboost/core.py\", line 2410, in _fit\n",
            "    self._train(\n",
            "  File \"/usr/local/lib/python3.10/dist-packages/catboost/core.py\", line 1790, in _train\n",
            "    self._object._train(train_pool, test_pool, params, allow_clear_pool, init_model._object if init_model else None)\n",
            "  File \"_catboost.pyx\", line 5017, in _catboost._CatBoost._train\n",
            "  File \"_catboost.pyx\", line 5066, in _catboost._CatBoost._train\n",
            "_catboost.CatBoostError: catboost/private/libs/algo/tensor_search_helpers.cpp:563: Too few sampling units (subsample=0.8, bootstrap_type=MVS): please increase sampling rate or disable sampling\n",
            "[W 2024-12-15 06:57:37,162] Trial 8 failed with value None.\n"
          ]
        },
        {
          "metadata": {
            "tags": null
          },
          "name": "stdout",
          "output_type": "stream",
          "text": [
            "An error occurred while processing CatBoost for GDDY: catboost/private/libs/algo/tensor_search_helpers.cpp:563: Too few sampling units (subsample=0.8, bootstrap_type=MVS): please increase sampling rate or disable sampling\n",
            "Saved CatBoost parameters, forecasts, and performance data for GDDY.\n",
            "\n",
            "Processing CatBoost model for stock: IT\n",
            "Loaded existing CatBoost study for IT.\n"
          ]
        },
        {
          "metadata": {
            "tags": null
          },
          "name": "stderr",
          "output_type": "stream",
          "text": [
            "[I 2024-12-15 06:57:44,000] Trial 35 finished with value: 78.3460753143187 and parameters: {'iterations': 2685, 'depth': 5, 'learning_rate': 0.022130382573486616, 'l2_leaf_reg': 11.19958504713329, 'random_strength': 4.806156284376268, 'bagging_temperature': 6.195336220094117}. Best is trial 23 with value: 77.66534209971674.\n"
          ]
        },
        {
          "metadata": {
            "tags": null
          },
          "name": "stdout",
          "output_type": "stream",
          "text": [
            "Best params for IT (CatBoost): {'iterations': 1901, 'depth': 5, 'learning_rate': 0.023700656288094004, 'l2_leaf_reg': 12.539243473733091, 'random_strength': 7.954371688258728, 'bagging_temperature': 4.951086485437144}\n",
            "Best RMSE for IT: 77.66534209971674\n",
            "Best R² for IT: 0.0729479742347328\n",
            "Best MAPE for IT: 2.0453585091806974\n",
            "Completed CatBoost for IT. Forecast Return: -3.4302%\n",
            "Saved CatBoost parameters, forecasts, and performance data for IT.\n",
            "\n",
            "Processing CatBoost model for stock: KR\n",
            "Loaded existing CatBoost study for KR.\n"
          ]
        },
        {
          "metadata": {
            "tags": null
          },
          "name": "stderr",
          "output_type": "stream",
          "text": [
            "[I 2024-12-15 06:57:58,670] Trial 59 pruned. \n"
          ]
        },
        {
          "metadata": {
            "tags": null
          },
          "name": "stdout",
          "output_type": "stream",
          "text": [
            "Best params for KR (CatBoost): {'iterations': 823, 'depth': 11, 'learning_rate': 0.0008186460842689035, 'l2_leaf_reg': 1.1487995579827106, 'random_strength': 6.110897698340183, 'bagging_temperature': 6.208148462832605}\n",
            "Best RMSE for KR: 58.90060337831889\n",
            "Best R² for KR: -0.031017457528804915\n",
            "Best MAPE for KR: 5263250277368.572\n",
            "Completed CatBoost for KR. Forecast Return: 0.1143%\n",
            "Saved CatBoost parameters, forecasts, and performance data for KR.\n",
            "\n",
            "Processing CatBoost model for stock: LDOS\n",
            "Loaded existing CatBoost study for LDOS.\n"
          ]
        },
        {
          "metadata": {
            "tags": null
          },
          "name": "stderr",
          "output_type": "stream",
          "text": [
            "[I 2024-12-15 06:59:35,297] Trial 35 pruned. \n"
          ]
        },
        {
          "metadata": {
            "tags": null
          },
          "name": "stdout",
          "output_type": "stream",
          "text": [
            "Best params for LDOS (CatBoost): {'iterations': 1934, 'depth': 4, 'learning_rate': 0.006297140958493777, 'l2_leaf_reg': 2.8417645875972077, 'random_strength': 3.1023066024719568, 'bagging_temperature': 5.091823376034133}\n",
            "Best RMSE for LDOS: 60.23221669429673\n",
            "Best R² for LDOS: 0.019110634097640466\n",
            "Best MAPE for LDOS: 4418161552234.689\n",
            "Completed CatBoost for LDOS. Forecast Return: -15.9219%\n",
            "Saved CatBoost parameters, forecasts, and performance data for LDOS.\n",
            "\n",
            "Processing CatBoost model for stock: LRCX\n",
            "Loaded existing CatBoost study for LRCX.\n"
          ]
        },
        {
          "metadata": {
            "tags": null
          },
          "name": "stderr",
          "output_type": "stream",
          "text": [
            "[I 2024-12-15 06:59:44,205] Trial 35 pruned. \n"
          ]
        },
        {
          "metadata": {
            "tags": null
          },
          "name": "stdout",
          "output_type": "stream",
          "text": [
            "Best params for LRCX (CatBoost): {'iterations': 904, 'depth': 7, 'learning_rate': 0.06363010487629889, 'l2_leaf_reg': 1.9676385816357151, 'random_strength': 4.588513418467121, 'bagging_temperature': 0.8823058159834961}\n",
            "Best RMSE for LRCX: 134.34131568717\n",
            "Best R² for LRCX: 0.02426923291237726\n",
            "Best MAPE for LRCX: 8686958042093.274\n",
            "Completed CatBoost for LRCX. Forecast Return: -2.9261%\n",
            "Saved CatBoost parameters, forecasts, and performance data for LRCX.\n",
            "\n",
            "Processing CatBoost model for stock: LLY\n",
            "Loaded existing CatBoost study for LLY.\n"
          ]
        },
        {
          "metadata": {
            "tags": null
          },
          "name": "stderr",
          "output_type": "stream",
          "text": [
            "[I 2024-12-15 07:00:22,865] Trial 35 pruned. \n"
          ]
        },
        {
          "metadata": {
            "tags": null
          },
          "name": "stdout",
          "output_type": "stream",
          "text": [
            "Best params for LLY (CatBoost): {'iterations': 1440, 'depth': 12, 'learning_rate': 0.009548512600824514, 'l2_leaf_reg': 6.082167507245447, 'random_strength': 8.761474615676287, 'bagging_temperature': 4.826469318202897}\n",
            "Best RMSE for LLY: 64.77584726329196\n",
            "Best R² for LLY: -0.03343712062083393\n",
            "Best MAPE for LLY: 1230042720957.0227\n",
            "Completed CatBoost for LLY. Forecast Return: -1.2817%\n",
            "Saved CatBoost parameters, forecasts, and performance data for LLY.\n",
            "\n",
            "Processing CatBoost model for stock: LII\n",
            "Loaded existing CatBoost study for LII.\n"
          ]
        },
        {
          "metadata": {
            "tags": null
          },
          "name": "stderr",
          "output_type": "stream",
          "text": [
            "[I 2024-12-15 07:06:11,267] Trial 35 pruned. \n"
          ]
        },
        {
          "metadata": {
            "tags": null
          },
          "name": "stdout",
          "output_type": "stream",
          "text": [
            "Best params for LII (CatBoost): {'iterations': 1425, 'depth': 7, 'learning_rate': 0.0712188345235892, 'l2_leaf_reg': 14.634526227013634, 'random_strength': 8.314205992356158, 'bagging_temperature': 1.0640924358372383}\n",
            "Best RMSE for LII: 57.46044371667182\n",
            "Best R² for LII: -0.012044545394380416\n",
            "Best MAPE for LII: 1.622710473829984\n",
            "Completed CatBoost for LII. Forecast Return: 3.0821%\n",
            "Saved CatBoost parameters, forecasts, and performance data for LII.\n",
            "\n",
            "Processing CatBoost model for stock: LH\n",
            "Loaded existing CatBoost study for LH.\n"
          ]
        },
        {
          "metadata": {
            "tags": null
          },
          "name": "stderr",
          "output_type": "stream",
          "text": [
            "[I 2024-12-15 07:07:16,792] Trial 4 finished with value: 57.56928348658406 and parameters: {'iterations': 1252, 'depth': 11, 'learning_rate': 0.06165086810405055, 'l2_leaf_reg': 7.054627412511923, 'random_strength': 6.688828923490146, 'bagging_temperature': 5.168517807693381}. Best is trial 3 with value: 56.99454428629289.\n"
          ]
        },
        {
          "metadata": {
            "tags": null
          },
          "name": "stdout",
          "output_type": "stream",
          "text": [
            "Best params for LH (CatBoost): {'iterations': 2783, 'depth': 10, 'learning_rate': 0.00109462787083354, 'l2_leaf_reg': 3.768790377416671, 'random_strength': 6.477810614053805, 'bagging_temperature': 3.9962917781366603}\n",
            "Best RMSE for LH: 56.99454428629289\n",
            "Best R² for LH: 0.08853210096143656\n",
            "Best MAPE for LH: 344996922079.915\n",
            "Completed CatBoost for LH. Forecast Return: -2.7292%\n",
            "Saved CatBoost parameters, forecasts, and performance data for LH.\n",
            "\n",
            "Processing CatBoost model for stock: JNPR\n",
            "Loaded existing CatBoost study for JNPR.\n"
          ]
        },
        {
          "metadata": {
            "tags": null
          },
          "name": "stderr",
          "output_type": "stream",
          "text": [
            "[I 2024-12-15 07:10:08,410] Trial 35 pruned. \n"
          ]
        },
        {
          "metadata": {
            "tags": null
          },
          "name": "stdout",
          "output_type": "stream",
          "text": [
            "Best params for JNPR (CatBoost): {'iterations': 2622, 'depth': 9, 'learning_rate': 0.2740666602667434, 'l2_leaf_reg': 7.935710133325221, 'random_strength': 9.572423972490949, 'bagging_temperature': 7.844708677522768}\n",
            "Best RMSE for JNPR: 47.96198677930381\n",
            "Best R² for JNPR: 0.04745634868016546\n",
            "Best MAPE for JNPR: 23508170098359.2\n",
            "Completed CatBoost for JNPR. Forecast Return: -5.0096%\n",
            "Saved CatBoost parameters, forecasts, and performance data for JNPR.\n",
            "\n",
            "Processing CatBoost model for stock: LNG\n",
            "Loaded existing CatBoost study for LNG.\n"
          ]
        },
        {
          "metadata": {
            "tags": null
          },
          "name": "stderr",
          "output_type": "stream",
          "text": [
            "[I 2024-12-15 07:11:50,122] Trial 35 finished with value: 73.48412910040393 and parameters: {'iterations': 769, 'depth': 6, 'learning_rate': 0.006190246224734139, 'l2_leaf_reg': 2.4546454391830816, 'random_strength': 7.522958433753636, 'bagging_temperature': 2.90031255558898}. Best is trial 29 with value: 73.01135417857348.\n"
          ]
        },
        {
          "metadata": {
            "tags": null
          },
          "name": "stdout",
          "output_type": "stream",
          "text": [
            "Best params for LNG (CatBoost): {'iterations': 946, 'depth': 4, 'learning_rate': 0.002666772785878551, 'l2_leaf_reg': 4.297905173215872, 'random_strength': 6.916488870266698, 'bagging_temperature': 1.5141924739778185}\n",
            "Best RMSE for LNG: 73.01135417857348\n",
            "Best R² for LNG: -0.019317766004963415\n",
            "Best MAPE for LNG: 4447707489478.454\n",
            "Completed CatBoost for LNG. Forecast Return: 3.1959%\n",
            "Saved CatBoost parameters, forecasts, and performance data for LNG.\n",
            "\n",
            "Processing CatBoost model for stock: LOW\n",
            "Loaded existing CatBoost study for LOW.\n"
          ]
        },
        {
          "metadata": {
            "tags": null
          },
          "name": "stderr",
          "output_type": "stream",
          "text": [
            "[I 2024-12-15 07:11:57,955] Trial 35 pruned. \n"
          ]
        },
        {
          "metadata": {
            "tags": null
          },
          "name": "stdout",
          "output_type": "stream",
          "text": [
            "Best params for LOW (CatBoost): {'iterations': 1039, 'depth': 8, 'learning_rate': 0.15676481033042416, 'l2_leaf_reg': 9.2775858077548, 'random_strength': 7.653762228128879, 'bagging_temperature': 9.919479135960078}\n",
            "Best RMSE for LOW: 72.5742518782788\n",
            "Best R² for LOW: 0.06069044567207804\n",
            "Best MAPE for LOW: 3468540131963.8276\n",
            "Completed CatBoost for LOW. Forecast Return: -0.0936%\n",
            "Saved CatBoost parameters, forecasts, and performance data for LOW.\n",
            "\n",
            "Processing CatBoost model for stock: KHC\n",
            "Loaded existing CatBoost study for KHC.\n"
          ]
        },
        {
          "metadata": {
            "tags": null
          },
          "name": "stderr",
          "output_type": "stream",
          "text": [
            "[W 2024-12-15 07:12:20,086] Trial 7 failed with parameters: {'iterations': 2412, 'depth': 5, 'learning_rate': 0.00019184889857702504, 'l2_leaf_reg': 4.93178788803926, 'random_strength': 3.0588133749787847, 'bagging_temperature': 8.730519627417731} because of the following error: CatBoostError('catboost/private/libs/algo/tensor_search_helpers.cpp:563: Too few sampling units (subsample=0.8, bootstrap_type=MVS): please increase sampling rate or disable sampling').\n",
            "Traceback (most recent call last):\n",
            "  File \"/usr/local/lib/python3.10/dist-packages/optuna/study/_optimize.py\", line 197, in _run_trial\n",
            "    value_or_values = func(trial)\n",
            "  File \"<ipython-input-11-50e9b8b2f916>\", line 89, in objective_cb\n",
            "    model.fit(train_pool, eval_set=(X_val_fold, y_val_fold), early_stopping_rounds=100, use_best_model=True)\n",
            "  File \"/usr/local/lib/python3.10/dist-packages/catboost/core.py\", line 5873, in fit\n",
            "    return self._fit(X, y, cat_features, text_features, embedding_features, None, graph, sample_weight, None, None, None, None, baseline,\n",
            "  File \"/usr/local/lib/python3.10/dist-packages/catboost/core.py\", line 2410, in _fit\n",
            "    self._train(\n",
            "  File \"/usr/local/lib/python3.10/dist-packages/catboost/core.py\", line 1790, in _train\n",
            "    self._object._train(train_pool, test_pool, params, allow_clear_pool, init_model._object if init_model else None)\n",
            "  File \"_catboost.pyx\", line 5017, in _catboost._CatBoost._train\n",
            "  File \"_catboost.pyx\", line 5066, in _catboost._CatBoost._train\n",
            "_catboost.CatBoostError: catboost/private/libs/algo/tensor_search_helpers.cpp:563: Too few sampling units (subsample=0.8, bootstrap_type=MVS): please increase sampling rate or disable sampling\n",
            "[W 2024-12-15 07:12:20,093] Trial 7 failed with value None.\n"
          ]
        },
        {
          "metadata": {
            "tags": null
          },
          "name": "stdout",
          "output_type": "stream",
          "text": [
            "An error occurred while processing CatBoost for KHC: catboost/private/libs/algo/tensor_search_helpers.cpp:563: Too few sampling units (subsample=0.8, bootstrap_type=MVS): please increase sampling rate or disable sampling\n",
            "Saved CatBoost parameters, forecasts, and performance data for KHC.\n",
            "\n",
            "Processing CatBoost model for stock: JPM\n",
            "Loaded existing CatBoost study for JPM.\n"
          ]
        },
        {
          "metadata": {
            "tags": null
          },
          "name": "stderr",
          "output_type": "stream",
          "text": [
            "[I 2024-12-15 07:12:25,640] Trial 35 pruned. \n"
          ]
        },
        {
          "metadata": {
            "tags": null
          },
          "name": "stdout",
          "output_type": "stream",
          "text": [
            "Best params for JPM (CatBoost): {'iterations': 1507, 'depth': 6, 'learning_rate': 0.0902732694923341, 'l2_leaf_reg': 14.788542616586556, 'random_strength': 7.919446327401996, 'bagging_temperature': 9.36772088768642}\n",
            "Best RMSE for JPM: 51.76602825380385\n",
            "Best R² for JPM: 0.010421433467246\n",
            "Best MAPE for JPM: 1.8584499283309728\n",
            "Completed CatBoost for JPM. Forecast Return: 3.3236%\n",
            "Saved CatBoost parameters, forecasts, and performance data for JPM.\n",
            "\n",
            "Processing CatBoost model for stock: KEYS\n",
            "Loaded existing CatBoost study for KEYS.\n"
          ]
        },
        {
          "metadata": {
            "tags": null
          },
          "name": "stderr",
          "output_type": "stream",
          "text": [
            "[I 2024-12-15 07:12:37,447] Trial 40 pruned. \n"
          ]
        },
        {
          "metadata": {
            "tags": null
          },
          "name": "stdout",
          "output_type": "stream",
          "text": [
            "Best params for KEYS (CatBoost): {'iterations': 1613, 'depth': 4, 'learning_rate': 0.2978985954365584, 'l2_leaf_reg': 11.875776879584652, 'random_strength': 9.14973009543794, 'bagging_temperature': 1.2948858473201477}\n",
            "Best RMSE for KEYS: 65.09871456529231\n",
            "Best R² for KEYS: 0.03945221458815851\n",
            "Best MAPE for KEYS: 2247571210107.719\n",
            "Completed CatBoost for KEYS. Forecast Return: 3.6802%\n",
            "Saved CatBoost parameters, forecasts, and performance data for KEYS.\n",
            "\n",
            "Processing CatBoost model for stock: LULU\n",
            "Loaded existing CatBoost study for LULU.\n"
          ]
        },
        {
          "metadata": {
            "tags": null
          },
          "name": "stderr",
          "output_type": "stream",
          "text": [
            "[I 2024-12-15 07:12:52,926] Trial 31 pruned. \n"
          ]
        },
        {
          "metadata": {
            "tags": null
          },
          "name": "stdout",
          "output_type": "stream",
          "text": [
            "Best params for LULU (CatBoost): {'iterations': 1659, 'depth': 11, 'learning_rate': 0.002870337181510327, 'l2_leaf_reg': 11.71106796713073, 'random_strength': 5.278636691773385, 'bagging_temperature': 1.223976879919166}\n",
            "Best RMSE for LULU: 126.50186230716655\n",
            "Best R² for LULU: -0.04209143393254985\n",
            "Best MAPE for LULU: 5064715084803.715\n",
            "Completed CatBoost for LULU. Forecast Return: 7.4676%\n",
            "Saved CatBoost parameters, forecasts, and performance data for LULU.\n",
            "\n",
            "Processing CatBoost model for stock: KMI\n",
            "Loaded existing CatBoost study for KMI.\n"
          ]
        },
        {
          "metadata": {
            "tags": null
          },
          "name": "stderr",
          "output_type": "stream",
          "text": [
            "[I 2024-12-15 07:16:09,501] Trial 52 pruned. \n"
          ]
        },
        {
          "metadata": {
            "tags": null
          },
          "name": "stdout",
          "output_type": "stream",
          "text": [
            "Best params for KMI (CatBoost): {'iterations': 813, 'depth': 9, 'learning_rate': 0.1009617603612474, 'l2_leaf_reg': 13.621725132115298, 'random_strength': 3.2322990461465304, 'bagging_temperature': 3.2163437392010645}\n",
            "Best RMSE for KMI: 51.227629603606836\n",
            "Best R² for KMI: 0.07553404743757908\n",
            "Best MAPE for KMI: 24051381499219.273\n",
            "Completed CatBoost for KMI. Forecast Return: 2.1501%\n",
            "Saved CatBoost parameters, forecasts, and performance data for KMI.\n",
            "\n",
            "Processing CatBoost model for stock: KMB\n",
            "Loaded existing CatBoost study for KMB.\n"
          ]
        },
        {
          "metadata": {
            "tags": null
          },
          "name": "stderr",
          "output_type": "stream",
          "text": [
            "[I 2024-12-15 07:16:44,762] Trial 35 finished with value: 24.14524922182727 and parameters: {'iterations': 2349, 'depth': 5, 'learning_rate': 0.051041220885430866, 'l2_leaf_reg': 5.873779513480887, 'random_strength': 9.022255926616106, 'bagging_temperature': 7.491426329075804}. Best is trial 3 with value: 23.99222426021838.\n"
          ]
        },
        {
          "metadata": {
            "tags": null
          },
          "name": "stdout",
          "output_type": "stream",
          "text": [
            "Best params for KMB (CatBoost): {'iterations': 1885, 'depth': 4, 'learning_rate': 0.26298936571642795, 'l2_leaf_reg': 9.66174493373097, 'random_strength': 8.311084465525061, 'bagging_temperature': 8.331085499117034}\n",
            "Best RMSE for KMB: 23.99222426021838\n",
            "Best R² for KMB: 0.0852550690596962\n",
            "Best MAPE for KMB: 3254772602751.0796\n",
            "Completed CatBoost for KMB. Forecast Return: 0.2288%\n",
            "Saved CatBoost parameters, forecasts, and performance data for KMB.\n",
            "\n",
            "Processing CatBoost model for stock: KKR\n",
            "Loaded existing CatBoost study for KKR.\n"
          ]
        },
        {
          "metadata": {
            "tags": null
          },
          "name": "stderr",
          "output_type": "stream",
          "text": [
            "[I 2024-12-15 07:16:51,504] Trial 35 pruned. \n"
          ]
        },
        {
          "metadata": {
            "tags": null
          },
          "name": "stdout",
          "output_type": "stream",
          "text": [
            "Best params for KKR (CatBoost): {'iterations': 2955, 'depth': 8, 'learning_rate': 0.01167455988802638, 'l2_leaf_reg': 10.86332982705704, 'random_strength': 6.416244467279339, 'bagging_temperature': 3.638389663909613}\n",
            "Best RMSE for KKR: 96.6967346399914\n",
            "Best R² for KKR: -0.061896433281357265\n",
            "Best MAPE for KKR: 6014476259144.118\n",
            "Completed CatBoost for KKR. Forecast Return: 1.9621%\n",
            "Saved CatBoost parameters, forecasts, and performance data for KKR.\n",
            "\n",
            "Processing CatBoost model for stock: KMX\n",
            "Loaded existing CatBoost study for KMX.\n"
          ]
        },
        {
          "metadata": {
            "tags": null
          },
          "name": "stderr",
          "output_type": "stream",
          "text": [
            "[I 2024-12-15 07:17:51,509] Trial 10 finished with value: 125.33004619919656 and parameters: {'iterations': 1526, 'depth': 5, 'learning_rate': 0.030143250597346547, 'l2_leaf_reg': 11.49870136450618, 'random_strength': 6.423988532455532, 'bagging_temperature': 3.562007208298466}. Best is trial 9 with value: 122.49009161911677.\n"
          ]
        },
        {
          "metadata": {
            "tags": null
          },
          "name": "stdout",
          "output_type": "stream",
          "text": [
            "Best params for KMX (CatBoost): {'iterations': 1825, 'depth': 12, 'learning_rate': 0.013831057301063553, 'l2_leaf_reg': 8.300812367990392, 'random_strength': 7.033182472164826, 'bagging_temperature': 8.253986068203288}\n",
            "Best RMSE for KMX: 122.49009161911677\n",
            "Best R² for KMX: 0.05920130194477369\n",
            "Best MAPE for KMX: 10648783753781.291\n",
            "Completed CatBoost for KMX. Forecast Return: 9.2390%\n",
            "Saved CatBoost parameters, forecasts, and performance data for KMX.\n",
            "\n",
            "Processing CatBoost model for stock: JBHT\n",
            "Loaded existing CatBoost study for JBHT.\n"
          ]
        },
        {
          "metadata": {
            "tags": null
          },
          "name": "stderr",
          "output_type": "stream",
          "text": [
            "[I 2024-12-15 07:25:07,944] Trial 35 pruned. \n"
          ]
        },
        {
          "metadata": {
            "tags": null
          },
          "name": "stdout",
          "output_type": "stream",
          "text": [
            "Best params for JBHT (CatBoost): {'iterations': 2873, 'depth': 4, 'learning_rate': 0.11337975859491639, 'l2_leaf_reg': 14.123055717457728, 'random_strength': 6.650713191052714, 'bagging_temperature': 5.312126256438626}\n",
            "Best RMSE for JBHT: 58.18880151633639\n",
            "Best R² for JBHT: 0.03999418986897607\n",
            "Best MAPE for JBHT: 1.339068362427052\n",
            "Completed CatBoost for JBHT. Forecast Return: -5.4504%\n",
            "Saved CatBoost parameters, forecasts, and performance data for JBHT.\n",
            "\n",
            "Processing CatBoost model for stock: J\n",
            "Loaded existing CatBoost study for J.\n"
          ]
        },
        {
          "metadata": {
            "tags": null
          },
          "name": "stderr",
          "output_type": "stream",
          "text": [
            "[I 2024-12-15 07:25:22,648] Trial 35 pruned. \n"
          ]
        },
        {
          "metadata": {
            "tags": null
          },
          "name": "stdout",
          "output_type": "stream",
          "text": [
            "Best params for J (CatBoost): {'iterations': 1621, 'depth': 12, 'learning_rate': 0.014826692618654491, 'l2_leaf_reg': 10.998836622918061, 'random_strength': 8.722721775282926, 'bagging_temperature': 7.813550214675773}\n",
            "Best RMSE for J: 45.19792093871425\n",
            "Best R² for J: 0.03652712930358848\n",
            "Best MAPE for J: 6682432203711.526\n",
            "Completed CatBoost for J. Forecast Return: -4.9999%\n",
            "Saved CatBoost parameters, forecasts, and performance data for J.\n",
            "\n",
            "Processing CatBoost model for stock: NFLX\n",
            "Loaded existing CatBoost study for NFLX.\n"
          ]
        },
        {
          "metadata": {
            "tags": null
          },
          "name": "stderr",
          "output_type": "stream",
          "text": [
            "[I 2024-12-15 07:31:43,910] Trial 35 pruned. \n"
          ]
        },
        {
          "metadata": {
            "tags": null
          },
          "name": "stdout",
          "output_type": "stream",
          "text": [
            "Best params for NFLX (CatBoost): {'iterations': 2836, 'depth': 4, 'learning_rate': 0.019160110714580063, 'l2_leaf_reg': 4.264394318482691, 'random_strength': 1.0274109768188904, 'bagging_temperature': 0.32548466913852714}\n",
            "Best RMSE for NFLX: 151.60019889303234\n",
            "Best R² for NFLX: -0.04221214986642056\n",
            "Best MAPE for NFLX: 1.3245026791384713\n",
            "Completed CatBoost for NFLX. Forecast Return: 14.7229%\n",
            "Saved CatBoost parameters, forecasts, and performance data for NFLX.\n",
            "\n",
            "Processing CatBoost model for stock: NOC\n",
            "Loaded existing CatBoost study for NOC.\n"
          ]
        },
        {
          "metadata": {
            "tags": null
          },
          "name": "stderr",
          "output_type": "stream",
          "text": [
            "[I 2024-12-15 07:31:57,489] Trial 5 finished with value: 40.667774592484584 and parameters: {'iterations': 1360, 'depth': 7, 'learning_rate': 0.07265232146789491, 'l2_leaf_reg': 1.246033700194973, 'random_strength': 8.235751652894958, 'bagging_temperature': 7.660167986274027}. Best is trial 0 with value: 39.33887805469453.\n"
          ]
        },
        {
          "metadata": {
            "tags": null
          },
          "name": "stdout",
          "output_type": "stream",
          "text": [
            "Best params for NOC (CatBoost): {'iterations': 2766, 'depth': 8, 'learning_rate': 0.15920589693396617, 'l2_leaf_reg': 10.89181780975645, 'random_strength': 3.8149195818084243, 'bagging_temperature': 6.082435164465901}\n",
            "Best RMSE for NOC: 39.33887805469453\n",
            "Best R² for NOC: 0.0586036795860434\n",
            "Best MAPE for NOC: 5793264383707.793\n",
            "Completed CatBoost for NOC. Forecast Return: -9.6701%\n",
            "Saved CatBoost parameters, forecasts, and performance data for NOC.\n",
            "\n",
            "Processing CatBoost model for stock: NEM\n",
            "Loaded existing CatBoost study for NEM.\n"
          ]
        },
        {
          "metadata": {
            "tags": null
          },
          "name": "stderr",
          "output_type": "stream",
          "text": [
            "[I 2024-12-15 07:33:04,810] Trial 35 finished with value: 88.7221169581693 and parameters: {'iterations': 721, 'depth': 9, 'learning_rate': 0.11634242790890124, 'l2_leaf_reg': 3.633982341836238, 'random_strength': 6.496231845685193, 'bagging_temperature': 2.8036151896420414}. Best is trial 27 with value: 83.51138988344256.\n"
          ]
        },
        {
          "metadata": {
            "tags": null
          },
          "name": "stdout",
          "output_type": "stream",
          "text": [
            "Best params for NEM (CatBoost): {'iterations': 1703, 'depth': 9, 'learning_rate': 0.2624005764448671, 'l2_leaf_reg': 6.369799450679951, 'random_strength': 6.125399752436138, 'bagging_temperature': 1.7064485186685168}\n",
            "Best RMSE for NEM: 83.51138988344256\n",
            "Best R² for NEM: 0.10778936878075103\n",
            "Best MAPE for NEM: 10775211919730.887\n",
            "Completed CatBoost for NEM. Forecast Return: -7.9988%\n",
            "Saved CatBoost parameters, forecasts, and performance data for NEM.\n",
            "\n",
            "Processing CatBoost model for stock: NOW\n",
            "Loaded existing CatBoost study for NOW.\n"
          ]
        },
        {
          "metadata": {
            "tags": null
          },
          "name": "stderr",
          "output_type": "stream",
          "text": [
            "[I 2024-12-15 07:34:19,449] Trial 35 pruned. \n"
          ]
        },
        {
          "metadata": {
            "tags": null
          },
          "name": "stdout",
          "output_type": "stream",
          "text": [
            "Best params for NOW (CatBoost): {'iterations': 505, 'depth': 11, 'learning_rate': 0.03654744963866787, 'l2_leaf_reg': 13.615435233734651, 'random_strength': 8.519092684358185, 'bagging_temperature': 4.72316630670213}\n",
            "Best RMSE for NOW: 86.88767280745155\n",
            "Best R² for NOW: 0.027493152833387862\n",
            "Best MAPE for NOW: 1.9286565540230751\n",
            "Completed CatBoost for NOW. Forecast Return: 11.4807%\n",
            "Saved CatBoost parameters, forecasts, and performance data for NOW.\n",
            "\n",
            "Processing CatBoost model for stock: NTAP\n",
            "Loaded existing CatBoost study for NTAP.\n"
          ]
        },
        {
          "metadata": {
            "tags": null
          },
          "name": "stderr",
          "output_type": "stream",
          "text": [
            "[I 2024-12-15 07:35:21,784] Trial 35 finished with value: 92.77385903314233 and parameters: {'iterations': 2783, 'depth': 8, 'learning_rate': 0.22401906452162407, 'l2_leaf_reg': 12.898220525951581, 'random_strength': 5.452423370387586, 'bagging_temperature': 4.268013421183078}. Best is trial 35 with value: 92.77385903314233.\n"
          ]
        },
        {
          "metadata": {
            "tags": null
          },
          "name": "stdout",
          "output_type": "stream",
          "text": [
            "Best params for NTAP (CatBoost): {'iterations': 2783, 'depth': 8, 'learning_rate': 0.22401906452162407, 'l2_leaf_reg': 12.898220525951581, 'random_strength': 5.452423370387586, 'bagging_temperature': 4.268013421183078}\n",
            "Best RMSE for NTAP: 92.77385903314233\n",
            "Best R² for NTAP: 0.01008790660178216\n",
            "Best MAPE for NTAP: 958463039388.7413\n",
            "Completed CatBoost for NTAP. Forecast Return: 2.0901%\n",
            "Saved CatBoost parameters, forecasts, and performance data for NTAP.\n",
            "\n",
            "Processing CatBoost model for stock: NUE\n",
            "Loaded existing CatBoost study for NUE.\n"
          ]
        },
        {
          "metadata": {
            "tags": null
          },
          "name": "stderr",
          "output_type": "stream",
          "text": [
            "[I 2024-12-15 07:36:16,231] Trial 35 finished with value: 117.4791790334641 and parameters: {'iterations': 2464, 'depth': 4, 'learning_rate': 0.15902734950394737, 'l2_leaf_reg': 1.0732167978570177, 'random_strength': 8.473493715694925, 'bagging_temperature': 5.016171313111811}. Best is trial 13 with value: 113.4569069445904.\n"
          ]
        },
        {
          "metadata": {
            "tags": null
          },
          "name": "stdout",
          "output_type": "stream",
          "text": [
            "Best params for NUE (CatBoost): {'iterations': 2561, 'depth': 6, 'learning_rate': 0.07036408924643629, 'l2_leaf_reg': 4.562654011780241, 'random_strength': 8.051962533667743, 'bagging_temperature': 9.405264652462275}\n",
            "Best RMSE for NUE: 113.4569069445904\n",
            "Best R² for NUE: 0.07364899902712185\n",
            "Best MAPE for NUE: 1.4094544153575117\n",
            "Completed CatBoost for NUE. Forecast Return: -10.3446%\n",
            "Saved CatBoost parameters, forecasts, and performance data for NUE.\n",
            "\n",
            "Processing CatBoost model for stock: NVDA\n",
            "Loaded existing CatBoost study for NVDA.\n"
          ]
        },
        {
          "metadata": {
            "tags": null
          },
          "name": "stderr",
          "output_type": "stream",
          "text": [
            "[I 2024-12-15 07:37:45,951] Trial 35 finished with value: 213.10741095121804 and parameters: {'iterations': 2556, 'depth': 10, 'learning_rate': 0.0007585379493496423, 'l2_leaf_reg': 7.992471820267433, 'random_strength': 1.015498628571543, 'bagging_temperature': 5.909028125994905}. Best is trial 34 with value: 213.0829516662577.\n"
          ]
        },
        {
          "metadata": {
            "tags": null
          },
          "name": "stdout",
          "output_type": "stream",
          "text": [
            "Best params for NVDA (CatBoost): {'iterations': 2526, 'depth': 10, 'learning_rate': 0.0007078766286245681, 'l2_leaf_reg': 5.755110858299401, 'random_strength': 1.002182224073136, 'bagging_temperature': 6.122109832201742}\n",
            "Best RMSE for NVDA: 213.0829516662577\n",
            "Best R² for NVDA: -0.07356500517094018\n",
            "Best MAPE for NVDA: 2.8653179846932306\n",
            "Completed CatBoost for NVDA. Forecast Return: 0.6552%\n",
            "Saved CatBoost parameters, forecasts, and performance data for NVDA.\n",
            "\n",
            "Processing CatBoost model for stock: MTD\n",
            "Loaded existing CatBoost study for MTD.\n"
          ]
        },
        {
          "metadata": {
            "tags": null
          },
          "name": "stderr",
          "output_type": "stream",
          "text": [
            "[I 2024-12-15 07:40:08,141] Trial 35 pruned. \n"
          ]
        },
        {
          "metadata": {
            "tags": null
          },
          "name": "stdout",
          "output_type": "stream",
          "text": [
            "Best params for MTD (CatBoost): {'iterations': 1316, 'depth': 6, 'learning_rate': 0.16500906677298313, 'l2_leaf_reg': 4.635556415994463, 'random_strength': 6.977444269510327, 'bagging_temperature': 6.0105485369206}\n",
            "Best RMSE for MTD: 63.726918451434045\n",
            "Best R² for MTD: 0.027612779410529087\n",
            "Best MAPE for MTD: 2.2307207035482075\n",
            "Completed CatBoost for MTD. Forecast Return: -3.6908%\n",
            "Saved CatBoost parameters, forecasts, and performance data for MTD.\n",
            "\n",
            "Processing CatBoost model for stock: NDAQ\n",
            "Loaded existing CatBoost study for NDAQ.\n"
          ]
        },
        {
          "metadata": {
            "tags": null
          },
          "name": "stderr",
          "output_type": "stream",
          "text": [
            "[I 2024-12-15 07:40:20,557] Trial 35 finished with value: 43.69499973002806 and parameters: {'iterations': 794, 'depth': 6, 'learning_rate': 0.02366661336290131, 'l2_leaf_reg': 4.822348966723009, 'random_strength': 6.1592455468626985, 'bagging_temperature': 3.731067359310115}. Best is trial 5 with value: 43.30042051649113.\n"
          ]
        },
        {
          "metadata": {
            "tags": null
          },
          "name": "stdout",
          "output_type": "stream",
          "text": [
            "Best params for NDAQ (CatBoost): {'iterations': 2515, 'depth': 5, 'learning_rate': 0.16079538337561522, 'l2_leaf_reg': 6.0204385739624, 'random_strength': 2.420278641105269, 'bagging_temperature': 8.25532700579916}\n",
            "Best RMSE for NDAQ: 43.30042051649113\n",
            "Best R² for NDAQ: 0.025249583653825274\n",
            "Best MAPE for NDAQ: 4040968996280.212\n",
            "Completed CatBoost for NDAQ. Forecast Return: 2.2298%\n",
            "Saved CatBoost parameters, forecasts, and performance data for NDAQ.\n",
            "\n",
            "Processing CatBoost model for stock: MSI\n",
            "Loaded existing CatBoost study for MSI.\n"
          ]
        },
        {
          "metadata": {
            "tags": null
          },
          "name": "stderr",
          "output_type": "stream",
          "text": [
            "[I 2024-12-15 07:42:46,217] Trial 33 pruned. \n"
          ]
        },
        {
          "metadata": {
            "tags": null
          },
          "name": "stdout",
          "output_type": "stream",
          "text": [
            "Best params for MSI (CatBoost): {'iterations': 546, 'depth': 4, 'learning_rate': 0.006375951114645387, 'l2_leaf_reg': 6.613418782022762, 'random_strength': 2.115627673548456, 'bagging_temperature': 2.722504867863412}\n",
            "Best RMSE for MSI: 42.72570855167108\n",
            "Best R² for MSI: -0.02323237814665206\n",
            "Best MAPE for MSI: 3897894818218.884\n",
            "Completed CatBoost for MSI. Forecast Return: 3.3371%\n",
            "Saved CatBoost parameters, forecasts, and performance data for MSI.\n",
            "\n",
            "Processing CatBoost model for stock: MSTR\n",
            "Loaded existing CatBoost study for MSTR.\n"
          ]
        },
        {
          "metadata": {
            "tags": null
          },
          "name": "stderr",
          "output_type": "stream",
          "text": [
            "[I 2024-12-15 07:43:36,837] Trial 17 finished with value: 799.6503351320758 and parameters: {'iterations': 2518, 'depth': 11, 'learning_rate': 0.0038967379511840395, 'l2_leaf_reg': 8.963481719226476, 'random_strength': 4.72910293039477, 'bagging_temperature': 3.457702232647397}. Best is trial 8 with value: 799.6494944978343.\n"
          ]
        },
        {
          "metadata": {
            "tags": null
          },
          "name": "stdout",
          "output_type": "stream",
          "text": [
            "Best params for MSTR (CatBoost): {'iterations': 2106, 'depth': 11, 'learning_rate': 0.001029402062751893, 'l2_leaf_reg': 12.353917900033053, 'random_strength': 3.463208320323317, 'bagging_temperature': 2.090348598341505}\n",
            "Best RMSE for MSTR: 799.6494944978343\n",
            "Best R² for MSTR: -0.06044909309356691\n",
            "Best MAPE for MSTR: 3966696862892.0957\n",
            "Completed CatBoost for MSTR. Forecast Return: 43.9535%\n",
            "Saved CatBoost parameters, forecasts, and performance data for MSTR.\n",
            "\n",
            "Processing CatBoost model for stock: MU\n",
            "Loaded existing CatBoost study for MU.\n"
          ]
        },
        {
          "metadata": {
            "tags": null
          },
          "name": "stderr",
          "output_type": "stream",
          "text": [
            "[I 2024-12-15 07:47:30,646] Trial 35 pruned. \n"
          ]
        },
        {
          "metadata": {
            "tags": null
          },
          "name": "stdout",
          "output_type": "stream",
          "text": [
            "Best params for MU (CatBoost): {'iterations': 1707, 'depth': 6, 'learning_rate': 0.13614526629094495, 'l2_leaf_reg': 6.155874711456599, 'random_strength': 2.4170936263712077, 'bagging_temperature': 7.351746803081035}\n",
            "Best RMSE for MU: 140.59117599261674\n",
            "Best R² for MU: 0.09200856271655211\n",
            "Best MAPE for MU: 1398740294933.0103\n",
            "Completed CatBoost for MU. Forecast Return: -10.1711%\n",
            "Saved CatBoost parameters, forecasts, and performance data for MU.\n",
            "\n",
            "Processing CatBoost model for stock: MRVL\n",
            "Loaded existing CatBoost study for MRVL.\n"
          ]
        },
        {
          "metadata": {
            "tags": null
          },
          "name": "stderr",
          "output_type": "stream",
          "text": [
            "[I 2024-12-15 07:47:52,115] Trial 35 pruned. \n"
          ]
        },
        {
          "metadata": {
            "tags": null
          },
          "name": "stdout",
          "output_type": "stream",
          "text": [
            "Best params for MRVL (CatBoost): {'iterations': 1312, 'depth': 11, 'learning_rate': 0.13613466481939143, 'l2_leaf_reg': 9.453470117544882, 'random_strength': 9.202538244951581, 'bagging_temperature': 0.9850356057183056}\n",
            "Best RMSE for MRVL: 146.8607218533722\n",
            "Best R² for MRVL: 0.00260999481655777\n",
            "Best MAPE for MRVL: 5441775747529.472\n",
            "Completed CatBoost for MRVL. Forecast Return: 16.2065%\n",
            "Saved CatBoost parameters, forecasts, and performance data for MRVL.\n",
            "\n",
            "Processing CatBoost model for stock: META\n",
            "Loaded existing CatBoost study for META.\n"
          ]
        },
        {
          "metadata": {
            "tags": null
          },
          "name": "stderr",
          "output_type": "stream",
          "text": [
            "[I 2024-12-15 07:50:20,730] Trial 35 pruned. \n"
          ]
        },
        {
          "metadata": {
            "tags": null
          },
          "name": "stdout",
          "output_type": "stream",
          "text": [
            "Best params for META (CatBoost): {'iterations': 2225, 'depth': 5, 'learning_rate': 0.06442524043572974, 'l2_leaf_reg': 9.520989239946038, 'random_strength': 8.083256660720384, 'bagging_temperature': 2.8806750225144606}\n",
            "Best RMSE for META: 114.10033721350469\n",
            "Best R² for META: -0.021852870528850838\n",
            "Best MAPE for META: 1.6738985289788353\n",
            "Completed CatBoost for META. Forecast Return: 4.7643%\n",
            "Saved CatBoost parameters, forecasts, and performance data for META.\n",
            "\n",
            "Processing CatBoost model for stock: MS\n",
            "Loaded existing CatBoost study for MS.\n"
          ]
        },
        {
          "metadata": {
            "tags": null
          },
          "name": "stderr",
          "output_type": "stream",
          "text": [
            "[I 2024-12-15 07:50:31,147] Trial 35 pruned. \n"
          ]
        },
        {
          "metadata": {
            "tags": null
          },
          "name": "stdout",
          "output_type": "stream",
          "text": [
            "Best params for MS (CatBoost): {'iterations': 2332, 'depth': 5, 'learning_rate': 0.2988974505446746, 'l2_leaf_reg': 6.828330322888733, 'random_strength': 1.3741195095027692, 'bagging_temperature': 4.339748066269235}\n",
            "Best RMSE for MS: 74.57087272661404\n",
            "Best R² for MS: 0.039782875948932296\n",
            "Best MAPE for MS: 9113044407486.145\n",
            "Completed CatBoost for MS. Forecast Return: -0.8769%\n",
            "Saved CatBoost parameters, forecasts, and performance data for MS.\n",
            "\n",
            "Processing CatBoost model for stock: MSFT\n",
            "Loaded existing CatBoost study for MSFT.\n"
          ]
        },
        {
          "metadata": {
            "tags": null
          },
          "name": "stderr",
          "output_type": "stream",
          "text": [
            "[I 2024-12-15 07:50:43,951] Trial 35 pruned. \n"
          ]
        },
        {
          "metadata": {
            "tags": null
          },
          "name": "stdout",
          "output_type": "stream",
          "text": [
            "Best params for MSFT (CatBoost): {'iterations': 503, 'depth': 6, 'learning_rate': 0.25713327124156954, 'l2_leaf_reg': 7.879048172239111, 'random_strength': 9.644713553984879, 'bagging_temperature': 4.255691535196046}\n",
            "Best RMSE for MSFT: 35.942015487891396\n",
            "Best R² for MSFT: 0.04976138516783335\n",
            "Best MAPE for MSFT: 6816982634338.88\n",
            "Completed CatBoost for MSFT. Forecast Return: 5.2529%\n",
            "Saved CatBoost parameters, forecasts, and performance data for MSFT.\n",
            "\n",
            "Processing CatBoost model for stock: MOS\n",
            "Loaded existing CatBoost study for MOS.\n"
          ]
        },
        {
          "metadata": {
            "tags": null
          },
          "name": "stderr",
          "output_type": "stream",
          "text": [
            "[I 2024-12-15 07:51:57,925] Trial 46 pruned. \n"
          ]
        },
        {
          "metadata": {
            "tags": null
          },
          "name": "stdout",
          "output_type": "stream",
          "text": [
            "Best params for MOS (CatBoost): {'iterations': 938, 'depth': 10, 'learning_rate': 0.2790820181277065, 'l2_leaf_reg': 5.582752332898975, 'random_strength': 1.8163165136194377, 'bagging_temperature': 9.930286816377288}\n",
            "Best RMSE for MOS: 159.86997279229186\n",
            "Best R² for MOS: 0.020097299347204462\n",
            "Best MAPE for MOS: 16626701800441.205\n",
            "Completed CatBoost for MOS. Forecast Return: -6.9693%\n",
            "Saved CatBoost parameters, forecasts, and performance data for MOS.\n",
            "\n",
            "Processing CatBoost model for stock: MLM\n",
            "Loaded existing CatBoost study for MLM.\n"
          ]
        },
        {
          "metadata": {
            "tags": null
          },
          "name": "stderr",
          "output_type": "stream",
          "text": [
            "[I 2024-12-15 07:53:01,004] Trial 35 finished with value: 65.56105661534872 and parameters: {'iterations': 2546, 'depth': 4, 'learning_rate': 0.15802727136324254, 'l2_leaf_reg': 14.35762040128114, 'random_strength': 4.386738227859861, 'bagging_temperature': 5.89349089232041}. Best is trial 11 with value: 64.28831761832913.\n"
          ]
        },
        {
          "metadata": {
            "tags": null
          },
          "name": "stdout",
          "output_type": "stream",
          "text": [
            "Best params for MLM (CatBoost): {'iterations': 2997, 'depth': 6, 'learning_rate': 0.25399417884962916, 'l2_leaf_reg': 11.600821496677856, 'random_strength': 4.724701065610926, 'bagging_temperature': 4.472690289915273}\n",
            "Best RMSE for MLM: 64.28831761832913\n",
            "Best R² for MLM: 0.03948022442759195\n",
            "Best MAPE for MLM: 1.4187158598035445\n",
            "Completed CatBoost for MLM. Forecast Return: -7.5227%\n",
            "Saved CatBoost parameters, forecasts, and performance data for MLM.\n",
            "\n",
            "Processing CatBoost model for stock: MMM\n",
            "Loaded existing CatBoost study for MMM.\n"
          ]
        },
        {
          "metadata": {
            "tags": null
          },
          "name": "stderr",
          "output_type": "stream",
          "text": [
            "[I 2024-12-15 07:53:21,906] Trial 35 pruned. \n"
          ]
        },
        {
          "metadata": {
            "tags": null
          },
          "name": "stdout",
          "output_type": "stream",
          "text": [
            "Best params for MMM (CatBoost): {'iterations': 2042, 'depth': 5, 'learning_rate': 0.009703015655868038, 'l2_leaf_reg': 7.56110301415991, 'random_strength': 1.6758616853200952, 'bagging_temperature': 5.493546527681072}\n",
            "Best RMSE for MMM: 55.483970430432315\n",
            "Best R² for MMM: -0.012564049711499789\n",
            "Best MAPE for MMM: 304835978248.0548\n",
            "Completed CatBoost for MMM. Forecast Return: 0.5727%\n",
            "Saved CatBoost parameters, forecasts, and performance data for MMM.\n",
            "\n",
            "Processing CatBoost model for stock: MMC\n",
            "Loaded existing CatBoost study for MMC.\n"
          ]
        },
        {
          "metadata": {
            "tags": null
          },
          "name": "stderr",
          "output_type": "stream",
          "text": [
            "[I 2024-12-15 07:53:33,918] Trial 24 pruned. \n"
          ]
        },
        {
          "metadata": {
            "tags": null
          },
          "name": "stdout",
          "output_type": "stream",
          "text": [
            "Best params for MMC (CatBoost): {'iterations': 2364, 'depth': 10, 'learning_rate': 0.019637665528202494, 'l2_leaf_reg': 9.294348254292256, 'random_strength': 8.831311327940375, 'bagging_temperature': 8.619385121175442}\n",
            "Best RMSE for MMC: 30.4204125365945\n",
            "Best R² for MMC: 0.012089250765341434\n",
            "Best MAPE for MMC: 4578483367532.473\n",
            "Completed CatBoost for MMC. Forecast Return: -2.0910%\n",
            "Saved CatBoost parameters, forecasts, and performance data for MMC.\n",
            "\n",
            "Processing CatBoost model for stock: MA\n",
            "Loaded existing CatBoost study for MA.\n"
          ]
        },
        {
          "metadata": {
            "tags": null
          },
          "name": "stderr",
          "output_type": "stream",
          "text": [
            "[I 2024-12-15 07:55:53,969] Trial 35 pruned. \n"
          ]
        },
        {
          "metadata": {
            "tags": null
          },
          "name": "stdout",
          "output_type": "stream",
          "text": [
            "Best params for MA (CatBoost): {'iterations': 2644, 'depth': 8, 'learning_rate': 0.03609212683000859, 'l2_leaf_reg': 4.674673269293728, 'random_strength': 7.810155789028486, 'bagging_temperature': 7.294644957297642}\n",
            "Best RMSE for MA: 39.49188897309491\n",
            "Best R² for MA: 0.015563168875887675\n",
            "Best MAPE for MA: 1.5613220362089661\n",
            "Completed CatBoost for MA. Forecast Return: 0.4386%\n",
            "Saved CatBoost parameters, forecasts, and performance data for MA.\n",
            "\n",
            "Processing CatBoost model for stock: MCO\n",
            "Loaded existing CatBoost study for MCO.\n"
          ]
        },
        {
          "metadata": {
            "tags": null
          },
          "name": "stderr",
          "output_type": "stream",
          "text": [
            "[I 2024-12-15 07:57:21,415] Trial 35 finished with value: 50.53304894341024 and parameters: {'iterations': 1911, 'depth': 8, 'learning_rate': 0.08412499798861948, 'l2_leaf_reg': 2.6871545803824577, 'random_strength': 1.11088951833809, 'bagging_temperature': 7.807483633165783}. Best is trial 35 with value: 50.53304894341024.\n"
          ]
        },
        {
          "metadata": {
            "tags": null
          },
          "name": "stdout",
          "output_type": "stream",
          "text": [
            "Best params for MCO (CatBoost): {'iterations': 1911, 'depth': 8, 'learning_rate': 0.08412499798861948, 'l2_leaf_reg': 2.6871545803824577, 'random_strength': 1.11088951833809, 'bagging_temperature': 7.807483633165783}\n",
            "Best RMSE for MCO: 50.53304894341024\n",
            "Best R² for MCO: 0.046340938866177295\n",
            "Best MAPE for MCO: 2152472273261.5366\n",
            "Completed CatBoost for MCO. Forecast Return: 3.1448%\n",
            "Saved CatBoost parameters, forecasts, and performance data for MCO.\n",
            "\n",
            "Processing CatBoost model for stock: MCD\n",
            "Loaded existing CatBoost study for MCD.\n"
          ]
        },
        {
          "metadata": {
            "tags": null
          },
          "name": "stderr",
          "output_type": "stream",
          "text": [
            "[I 2024-12-15 07:58:06,888] Trial 42 finished with value: 28.757281941101553 and parameters: {'iterations': 2978, 'depth': 5, 'learning_rate': 0.1013675208196267, 'l2_leaf_reg': 3.9271881799210515, 'random_strength': 3.135897525291731, 'bagging_temperature': 0.42044040887112855}. Best is trial 34 with value: 27.81459764810279.\n"
          ]
        },
        {
          "metadata": {
            "tags": null
          },
          "name": "stdout",
          "output_type": "stream",
          "text": [
            "Best params for MCD (CatBoost): {'iterations': 2919, 'depth': 6, 'learning_rate': 0.18076735896648627, 'l2_leaf_reg': 6.0899283230676655, 'random_strength': 2.35799028310656, 'bagging_temperature': 1.694956992064547}\n",
            "Best RMSE for MCD: 27.81459764810279\n",
            "Best R² for MCD: 0.07872302137070293\n",
            "Best MAPE for MCD: 2.034491707614861\n",
            "Completed CatBoost for MCD. Forecast Return: 0.4598%\n",
            "Saved CatBoost parameters, forecasts, and performance data for MCD.\n",
            "\n",
            "Processing CatBoost model for stock: NXPI\n",
            "Loaded existing CatBoost study for NXPI.\n"
          ]
        },
        {
          "metadata": {
            "tags": null
          },
          "name": "stderr",
          "output_type": "stream",
          "text": [
            "[I 2024-12-15 07:58:29,664] Trial 35 pruned. \n"
          ]
        },
        {
          "metadata": {
            "tags": null
          },
          "name": "stdout",
          "output_type": "stream",
          "text": [
            "Best params for NXPI (CatBoost): {'iterations': 946, 'depth': 11, 'learning_rate': 0.19753070467734857, 'l2_leaf_reg': 1.562846059905389, 'random_strength': 2.0590011888425876, 'bagging_temperature': 1.6394451853001124}\n",
            "Best RMSE for NXPI: 85.79952313816618\n",
            "Best R² for NXPI: 0.07675305164282382\n",
            "Best MAPE for NXPI: 413780322435.8467\n",
            "Completed CatBoost for NXPI. Forecast Return: -5.9197%\n",
            "Saved CatBoost parameters, forecasts, and performance data for NXPI.\n",
            "\n",
            "Processing CatBoost model for stock: MET\n",
            "Loaded existing CatBoost study for MET.\n"
          ]
        },
        {
          "metadata": {
            "tags": null
          },
          "name": "stderr",
          "output_type": "stream",
          "text": [
            "[I 2024-12-15 08:00:14,731] Trial 10 finished with value: 67.29306917149616 and parameters: {'iterations': 771, 'depth': 6, 'learning_rate': 0.02665983895243499, 'l2_leaf_reg': 6.683981199533085, 'random_strength': 9.973788694234912, 'bagging_temperature': 7.614698024379239}. Best is trial 3 with value: 65.43078154318185.\n"
          ]
        },
        {
          "metadata": {
            "tags": null
          },
          "name": "stdout",
          "output_type": "stream",
          "text": [
            "Best params for MET (CatBoost): {'iterations': 1409, 'depth': 4, 'learning_rate': 0.14675131351510518, 'l2_leaf_reg': 5.797464865079828, 'random_strength': 4.8802825187623355, 'bagging_temperature': 4.019340313859883}\n",
            "Best RMSE for MET: 65.43078154318185\n",
            "Best R² for MET: 0.11416291681551467\n",
            "Best MAPE for MET: 1.7702372290364723\n",
            "Completed CatBoost for MET. Forecast Return: 3.0940%\n",
            "Saved CatBoost parameters, forecasts, and performance data for MET.\n",
            "\n",
            "Processing CatBoost model for stock: MCK\n",
            "Loaded existing CatBoost study for MCK.\n"
          ]
        },
        {
          "metadata": {
            "tags": null
          },
          "name": "stderr",
          "output_type": "stream",
          "text": [
            "[I 2024-12-15 08:00:19,758] Trial 35 pruned. \n"
          ]
        },
        {
          "metadata": {
            "tags": null
          },
          "name": "stdout",
          "output_type": "stream",
          "text": [
            "Best params for MCK (CatBoost): {'iterations': 574, 'depth': 10, 'learning_rate': 0.1135718297298558, 'l2_leaf_reg': 8.785291743937304, 'random_strength': 6.034590261197939, 'bagging_temperature': 6.9748003222494415}\n",
            "Best RMSE for MCK: 51.016668267042924\n",
            "Best R² for MCK: -0.0547595480366719\n",
            "Best MAPE for MCK: 1.3350919917995248\n",
            "Completed CatBoost for MCK. Forecast Return: -3.3450%\n",
            "Saved CatBoost parameters, forecasts, and performance data for MCK.\n",
            "\n",
            "Processing CatBoost model for stock: MRK\n",
            "Loaded existing CatBoost study for MRK.\n"
          ]
        },
        {
          "metadata": {
            "tags": null
          },
          "name": "stderr",
          "output_type": "stream",
          "text": [
            "[I 2024-12-15 08:01:09,782] Trial 35 finished with value: 33.39096945204282 and parameters: {'iterations': 2740, 'depth': 10, 'learning_rate': 0.003883182919859875, 'l2_leaf_reg': 8.55050985858054, 'random_strength': 6.745275102770945, 'bagging_temperature': 3.8972432791013043}. Best is trial 21 with value: 33.2980004861773.\n"
          ]
        },
        {
          "metadata": {
            "tags": null
          },
          "name": "stdout",
          "output_type": "stream",
          "text": [
            "Best params for MRK (CatBoost): {'iterations': 1813, 'depth': 5, 'learning_rate': 0.03678043572062031, 'l2_leaf_reg': 9.71073070973945, 'random_strength': 5.0215802279622, 'bagging_temperature': 3.927809132784575}\n",
            "Best RMSE for MRK: 33.2980004861773\n",
            "Best R² for MRK: -0.014573259193724505\n",
            "Best MAPE for MRK: 4169152501046.8354\n",
            "Completed CatBoost for MRK. Forecast Return: 0.0042%\n",
            "Saved CatBoost parameters, forecasts, and performance data for MRK.\n",
            "\n",
            "Processing CatBoost model for stock: MELI\n",
            "Loaded existing CatBoost study for MELI.\n"
          ]
        },
        {
          "metadata": {
            "tags": null
          },
          "name": "stderr",
          "output_type": "stream",
          "text": [
            "[I 2024-12-15 08:01:29,366] Trial 35 pruned. \n"
          ]
        },
        {
          "metadata": {
            "tags": null
          },
          "name": "stdout",
          "output_type": "stream",
          "text": [
            "Best params for MELI (CatBoost): {'iterations': 2220, 'depth': 8, 'learning_rate': 0.28387235354631163, 'l2_leaf_reg': 4.894877611416235, 'random_strength': 2.537542918278062, 'bagging_temperature': 8.80569663200831}\n",
            "Best RMSE for MELI: 205.17516791263256\n",
            "Best R² for MELI: 0.007838124940670562\n",
            "Best MAPE for MELI: 2.0305817973091553\n",
            "Completed CatBoost for MELI. Forecast Return: -0.4444%\n",
            "Saved CatBoost parameters, forecasts, and performance data for MELI.\n",
            "\n",
            "Processing CatBoost model for stock: RJF\n",
            "Loaded existing CatBoost study for RJF.\n"
          ]
        },
        {
          "metadata": {
            "tags": null
          },
          "name": "stderr",
          "output_type": "stream",
          "text": [
            "[I 2024-12-15 08:02:20,988] Trial 35 pruned. \n"
          ]
        },
        {
          "metadata": {
            "tags": null
          },
          "name": "stdout",
          "output_type": "stream",
          "text": [
            "Best params for RJF (CatBoost): {'iterations': 2978, 'depth': 11, 'learning_rate': 0.10719569125268627, 'l2_leaf_reg': 10.687261558523101, 'random_strength': 6.44015493862914, 'bagging_temperature': 1.5821403276340351}\n",
            "Best RMSE for RJF: 70.00863725500716\n",
            "Best R² for RJF: 0.030576510100961147\n",
            "Best MAPE for RJF: 6662008040710.377\n",
            "Completed CatBoost for RJF. Forecast Return: 2.0341%\n",
            "Saved CatBoost parameters, forecasts, and performance data for RJF.\n",
            "\n",
            "Processing CatBoost model for stock: RCL\n",
            "Loaded existing CatBoost study for RCL.\n"
          ]
        },
        {
          "metadata": {
            "tags": null
          },
          "name": "stderr",
          "output_type": "stream",
          "text": [
            "[I 2024-12-15 08:07:55,846] Trial 35 pruned. \n"
          ]
        },
        {
          "metadata": {
            "tags": null
          },
          "name": "stdout",
          "output_type": "stream",
          "text": [
            "Best params for RCL (CatBoost): {'iterations': 775, 'depth': 4, 'learning_rate': 0.10552133117474292, 'l2_leaf_reg': 10.125649691664272, 'random_strength': 9.439211632346048, 'bagging_temperature': 9.2243593602625}\n",
            "Best RMSE for RCL: 259.0056961586767\n",
            "Best R² for RCL: -0.029844983267050318\n",
            "Best MAPE for RCL: 14367595963224.773\n",
            "Completed CatBoost for RCL. Forecast Return: 14.8888%\n",
            "Saved CatBoost parameters, forecasts, and performance data for RCL.\n",
            "\n",
            "Processing CatBoost model for stock: PWR\n",
            "Loaded existing CatBoost study for PWR.\n"
          ]
        },
        {
          "metadata": {
            "tags": null
          },
          "name": "stderr",
          "output_type": "stream",
          "text": [
            "[I 2024-12-15 08:08:10,884] Trial 35 pruned. \n"
          ]
        },
        {
          "metadata": {
            "tags": null
          },
          "name": "stdout",
          "output_type": "stream",
          "text": [
            "Best params for PWR (CatBoost): {'iterations': 2218, 'depth': 10, 'learning_rate': 0.29659352700996966, 'l2_leaf_reg': 2.233820025737896, 'random_strength': 6.092975572436421, 'bagging_temperature': 7.463842125906655}\n",
            "Best RMSE for PWR: 83.48329969076711\n",
            "Best R² for PWR: -0.008047482378379303\n",
            "Best MAPE for PWR: 1.450216749715194\n",
            "Completed CatBoost for PWR. Forecast Return: -1.8724%\n",
            "Saved CatBoost parameters, forecasts, and performance data for PWR.\n",
            "\n",
            "Processing CatBoost model for stock: PPG\n",
            "Loaded existing CatBoost study for PPG.\n"
          ]
        },
        {
          "metadata": {
            "tags": null
          },
          "name": "stderr",
          "output_type": "stream",
          "text": [
            "[I 2024-12-15 08:10:31,930] Trial 41 finished with value: 51.08913001534675 and parameters: {'iterations': 679, 'depth': 5, 'learning_rate': 0.012167068964665713, 'l2_leaf_reg': 7.8532750478941455, 'random_strength': 8.299582334262535, 'bagging_temperature': 5.351186912378642}. Best is trial 37 with value: 50.29643731893805.\n"
          ]
        },
        {
          "metadata": {
            "tags": null
          },
          "name": "stdout",
          "output_type": "stream",
          "text": [
            "Best params for PPG (CatBoost): {'iterations': 793, 'depth': 4, 'learning_rate': 0.014561396512124255, 'l2_leaf_reg': 11.476032772959147, 'random_strength': 9.208456802570801, 'bagging_temperature': 8.950695221435328}\n",
            "Best RMSE for PPG: 50.29643731893805\n",
            "Best R² for PPG: 0.06183579304945567\n",
            "Best MAPE for PPG: 2250666083633.12\n",
            "Completed CatBoost for PPG. Forecast Return: -0.6952%\n",
            "Saved CatBoost parameters, forecasts, and performance data for PPG.\n",
            "\n",
            "Processing CatBoost model for stock: PTC\n",
            "Loaded existing CatBoost study for PTC.\n"
          ]
        },
        {
          "metadata": {
            "tags": null
          },
          "name": "stderr",
          "output_type": "stream",
          "text": [
            "[I 2024-12-15 08:11:55,131] Trial 36 finished with value: 77.13278134107195 and parameters: {'iterations': 2661, 'depth': 11, 'learning_rate': 0.04974717086408925, 'l2_leaf_reg': 14.290676920606883, 'random_strength': 7.060544077878556, 'bagging_temperature': 6.1162590399201004}. Best is trial 1 with value: 76.68573225942403.\n"
          ]
        },
        {
          "metadata": {
            "tags": null
          },
          "name": "stdout",
          "output_type": "stream",
          "text": [
            "Best params for PTC (CatBoost): {'iterations': 2532, 'depth': 9, 'learning_rate': 0.03124796031315162, 'l2_leaf_reg': 12.337382778471037, 'random_strength': 4.2199184546884325, 'bagging_temperature': 8.057658472691864}\n",
            "Best RMSE for PTC: 76.68573225942403\n",
            "Best R² for PTC: 0.09644384501956549\n",
            "Best MAPE for PTC: 2602251577346.3564\n",
            "Completed CatBoost for PTC. Forecast Return: 3.6961%\n",
            "Saved CatBoost parameters, forecasts, and performance data for PTC.\n",
            "\n",
            "Processing CatBoost model for stock: PRU\n",
            "Loaded existing CatBoost study for PRU.\n"
          ]
        },
        {
          "metadata": {
            "tags": null
          },
          "name": "stderr",
          "output_type": "stream",
          "text": [
            "[I 2024-12-15 08:13:24,943] Trial 36 pruned. \n"
          ]
        },
        {
          "metadata": {
            "tags": null
          },
          "name": "stdout",
          "output_type": "stream",
          "text": [
            "Best params for PRU (CatBoost): {'iterations': 1761, 'depth': 6, 'learning_rate': 0.07409602724623056, 'l2_leaf_reg': 6.5981588007864245, 'random_strength': 3.4700377522646813, 'bagging_temperature': 3.403046401465862}\n",
            "Best RMSE for PRU: 76.99177728484578\n",
            "Best R² for PRU: 0.026031985515818385\n",
            "Best MAPE for PRU: 1.9080287020072049\n",
            "Completed CatBoost for PRU. Forecast Return: 1.8699%\n",
            "Saved CatBoost parameters, forecasts, and performance data for PRU.\n",
            "\n",
            "Processing CatBoost model for stock: PHM\n",
            "Loaded existing CatBoost study for PHM.\n"
          ]
        },
        {
          "metadata": {
            "tags": null
          },
          "name": "stderr",
          "output_type": "stream",
          "text": [
            "[I 2024-12-15 08:13:54,295] Trial 36 pruned. \n"
          ]
        },
        {
          "metadata": {
            "tags": null
          },
          "name": "stdout",
          "output_type": "stream",
          "text": [
            "Best params for PHM (CatBoost): {'iterations': 1292, 'depth': 6, 'learning_rate': 0.013322725290965643, 'l2_leaf_reg': 2.0895564766342787, 'random_strength': 9.309135256509101, 'bagging_temperature': 8.16457592192853}\n",
            "Best RMSE for PHM: 99.07226906704074\n",
            "Best R² for PHM: 0.02357629794751792\n",
            "Best MAPE for PHM: 10648658848793.21\n",
            "Completed CatBoost for PHM. Forecast Return: -0.5641%\n",
            "Saved CatBoost parameters, forecasts, and performance data for PHM.\n",
            "\n",
            "Processing CatBoost model for stock: PNR\n",
            "Loaded existing CatBoost study for PNR.\n"
          ]
        },
        {
          "metadata": {
            "tags": null
          },
          "name": "stderr",
          "output_type": "stream",
          "text": [
            "[I 2024-12-15 08:14:12,373] Trial 36 pruned. \n"
          ]
        },
        {
          "metadata": {
            "tags": null
          },
          "name": "stdout",
          "output_type": "stream",
          "text": [
            "Best params for PNR (CatBoost): {'iterations': 2990, 'depth': 8, 'learning_rate': 0.004557385694199803, 'l2_leaf_reg': 3.410509804558446, 'random_strength': 3.192181952998454, 'bagging_temperature': 1.892235361914144}\n",
            "Best RMSE for PNR: 80.04330858768505\n",
            "Best R² for PNR: -0.024199254664199144\n",
            "Best MAPE for PNR: 1.2064184428001061\n",
            "Completed CatBoost for PNR. Forecast Return: 5.5569%\n",
            "Saved CatBoost parameters, forecasts, and performance data for PNR.\n",
            "\n",
            "Processing CatBoost model for stock: PNC\n",
            "Loaded existing CatBoost study for PNC.\n"
          ]
        },
        {
          "metadata": {
            "tags": null
          },
          "name": "stderr",
          "output_type": "stream",
          "text": [
            "[I 2024-12-15 08:15:09,356] Trial 36 finished with value: 64.89915302231412 and parameters: {'iterations': 681, 'depth': 5, 'learning_rate': 0.19109324911452075, 'l2_leaf_reg': 9.283674162024285, 'random_strength': 4.933460355330309, 'bagging_temperature': 8.330851496617397}. Best is trial 21 with value: 64.26564113447323.\n"
          ]
        },
        {
          "metadata": {
            "tags": null
          },
          "name": "stdout",
          "output_type": "stream",
          "text": [
            "Best params for PNC (CatBoost): {'iterations': 847, 'depth': 7, 'learning_rate': 0.2907537933036833, 'l2_leaf_reg': 4.628229615941169, 'random_strength': 4.8879675158475235, 'bagging_temperature': 9.87775055816309}\n",
            "Best RMSE for PNC: 64.26564113447323\n",
            "Best R² for PNC: 0.06332797905748573\n",
            "Best MAPE for PNC: 1.4830892007541958\n",
            "Completed CatBoost for PNC. Forecast Return: 0.8464%\n",
            "Saved CatBoost parameters, forecasts, and performance data for PNC.\n",
            "\n",
            "Processing CatBoost model for stock: ORCL\n",
            "Loaded existing CatBoost study for ORCL.\n"
          ]
        },
        {
          "metadata": {
            "tags": null
          },
          "name": "stderr",
          "output_type": "stream",
          "text": [
            "[I 2024-12-15 08:15:19,528] Trial 36 pruned. \n"
          ]
        },
        {
          "metadata": {
            "tags": null
          },
          "name": "stdout",
          "output_type": "stream",
          "text": [
            "Best params for ORCL (CatBoost): {'iterations': 1682, 'depth': 5, 'learning_rate': 0.0014346291990984276, 'l2_leaf_reg': 1.0277984738249306, 'random_strength': 4.340592011498327, 'bagging_temperature': 2.1042149092258864}\n",
            "Best RMSE for ORCL: 56.765126880332154\n",
            "Best R² for ORCL: -0.03207519073546109\n",
            "Best MAPE for ORCL: 2830191201980.169\n",
            "Completed CatBoost for ORCL. Forecast Return: 3.0635%\n",
            "Saved CatBoost parameters, forecasts, and performance data for ORCL.\n",
            "\n",
            "Processing CatBoost model for stock: ODFL\n",
            "Loaded existing CatBoost study for ODFL.\n"
          ]
        },
        {
          "metadata": {
            "tags": null
          },
          "name": "stderr",
          "output_type": "stream",
          "text": [
            "[I 2024-12-15 08:15:29,128] Trial 36 pruned. \n"
          ]
        },
        {
          "metadata": {
            "tags": null
          },
          "name": "stdout",
          "output_type": "stream",
          "text": [
            "Best params for ODFL (CatBoost): {'iterations': 2952, 'depth': 7, 'learning_rate': 0.013100153417981831, 'l2_leaf_reg': 2.037750137139673, 'random_strength': 1.19798819094528, 'bagging_temperature': 2.0617556189413366}\n",
            "Best RMSE for ODFL: 73.47427889670804\n",
            "Best R² for ODFL: -0.01074563901787673\n",
            "Best MAPE for ODFL: 1.2743636877451092\n",
            "Completed CatBoost for ODFL. Forecast Return: -10.0423%\n",
            "Saved CatBoost parameters, forecasts, and performance data for ODFL.\n",
            "\n",
            "Processing CatBoost model for stock: OKE\n",
            "Loaded existing CatBoost study for OKE.\n"
          ]
        },
        {
          "metadata": {
            "tags": null
          },
          "name": "stderr",
          "output_type": "stream",
          "text": [
            "[I 2024-12-15 08:16:02,196] Trial 36 pruned. \n"
          ]
        },
        {
          "metadata": {
            "tags": null
          },
          "name": "stdout",
          "output_type": "stream",
          "text": [
            "Best params for OKE (CatBoost): {'iterations': 957, 'depth': 8, 'learning_rate': 0.13725418045189663, 'l2_leaf_reg': 4.970377215821129, 'random_strength': 8.800865004811325, 'bagging_temperature': 3.0781194414084103}\n",
            "Best RMSE for OKE: 125.50370977012479\n",
            "Best R² for OKE: 0.054645905770205706\n",
            "Best MAPE for OKE: 2.4228037223102326\n",
            "Completed CatBoost for OKE. Forecast Return: -1.0019%\n",
            "Saved CatBoost parameters, forecasts, and performance data for OKE.\n",
            "\n",
            "Processing CatBoost model for stock: OVV\n",
            "Loaded existing CatBoost study for OVV.\n"
          ]
        },
        {
          "metadata": {
            "tags": null
          },
          "name": "stderr",
          "output_type": "stream",
          "text": [
            "[I 2024-12-15 08:16:30,768] Trial 36 pruned. \n"
          ]
        },
        {
          "metadata": {
            "tags": null
          },
          "name": "stdout",
          "output_type": "stream",
          "text": [
            "Best params for OVV (CatBoost): {'iterations': 2065, 'depth': 4, 'learning_rate': 0.009839365190114628, 'l2_leaf_reg': 3.034349368277967, 'random_strength': 4.434613070590579, 'bagging_temperature': 3.628157083350225}\n",
            "Best RMSE for OVV: 384.56608476171203\n",
            "Best R² for OVV: -0.005297837170426349\n",
            "Best MAPE for OVV: 40925425132494.0\n",
            "Completed CatBoost for OVV. Forecast Return: -1.8552%\n",
            "Saved CatBoost parameters, forecasts, and performance data for OVV.\n",
            "\n",
            "Processing CatBoost model for stock: POOL\n",
            "Loaded existing CatBoost study for POOL.\n"
          ]
        },
        {
          "metadata": {
            "tags": null
          },
          "name": "stderr",
          "output_type": "stream",
          "text": [
            "[I 2024-12-15 08:16:41,739] Trial 36 pruned. \n"
          ]
        },
        {
          "metadata": {
            "tags": null
          },
          "name": "stdout",
          "output_type": "stream",
          "text": [
            "Best params for POOL (CatBoost): {'iterations': 1782, 'depth': 9, 'learning_rate': 0.10554139114381587, 'l2_leaf_reg': 9.048921919719863, 'random_strength': 4.328181742772646, 'bagging_temperature': 1.0468419622937777}\n",
            "Best RMSE for POOL: 68.32990211777528\n",
            "Best R² for POOL: 0.04605044180666932\n",
            "Best MAPE for POOL: 4229216111715.7476\n",
            "Completed CatBoost for POOL. Forecast Return: 1.0516%\n",
            "Saved CatBoost parameters, forecasts, and performance data for POOL.\n",
            "\n",
            "Processing CatBoost model for stock: PFE\n",
            "Loaded existing CatBoost study for PFE.\n"
          ]
        },
        {
          "metadata": {
            "tags": null
          },
          "name": "stderr",
          "output_type": "stream",
          "text": [
            "[I 2024-12-15 08:17:50,835] Trial 35 finished with value: 50.028254630064176 and parameters: {'iterations': 1218, 'depth': 7, 'learning_rate': 0.04925866765101595, 'l2_leaf_reg': 10.389993303197116, 'random_strength': 1.6576681826458948, 'bagging_temperature': 0.6698721844620664}. Best is trial 6 with value: 49.16163299162275.\n"
          ]
        },
        {
          "metadata": {
            "tags": null
          },
          "name": "stdout",
          "output_type": "stream",
          "text": [
            "Best params for PFE (CatBoost): {'iterations': 795, 'depth': 4, 'learning_rate': 0.017002923591031255, 'l2_leaf_reg': 10.553868110868532, 'random_strength': 1.1189062382371764, 'bagging_temperature': 7.677162412158104}\n",
            "Best RMSE for PFE: 49.16163299162275\n",
            "Best R² for PFE: -0.04170255237172649\n",
            "Best MAPE for PFE: 5282375236070.02\n",
            "Completed CatBoost for PFE. Forecast Return: -3.4897%\n",
            "Saved CatBoost parameters, forecasts, and performance data for PFE.\n",
            "\n",
            "Processing CatBoost model for stock: PEG\n",
            "Loaded existing CatBoost study for PEG.\n"
          ]
        },
        {
          "metadata": {
            "tags": null
          },
          "name": "stderr",
          "output_type": "stream",
          "text": [
            "[I 2024-12-15 08:17:56,805] Trial 36 pruned. \n"
          ]
        },
        {
          "metadata": {
            "tags": null
          },
          "name": "stdout",
          "output_type": "stream",
          "text": [
            "Best params for PEG (CatBoost): {'iterations': 1274, 'depth': 4, 'learning_rate': 0.008290421229633117, 'l2_leaf_reg': 9.483510781188293, 'random_strength': 3.192941594917425, 'bagging_temperature': 2.384104805585374}\n",
            "Best RMSE for PEG: 37.2030297305522\n",
            "Best R² for PEG: 0.003768093977974729\n",
            "Best MAPE for PEG: 3378299999653.726\n",
            "Completed CatBoost for PEG. Forecast Return: 3.4694%\n",
            "Saved CatBoost parameters, forecasts, and performance data for PEG.\n",
            "\n",
            "Processing CatBoost model for stock: RTX\n",
            "Loaded existing CatBoost study for RTX.\n"
          ]
        },
        {
          "metadata": {
            "tags": null
          },
          "name": "stderr",
          "output_type": "stream",
          "text": [
            "[I 2024-12-15 08:18:00,877] Trial 35 pruned. \n"
          ]
        },
        {
          "metadata": {
            "tags": null
          },
          "name": "stdout",
          "output_type": "stream",
          "text": [
            "Best params for RTX (CatBoost): {'iterations': 2308, 'depth': 4, 'learning_rate': 0.19844538820452276, 'l2_leaf_reg': 12.978904416170447, 'random_strength': 7.691789906514996, 'bagging_temperature': 7.053545154027018}\n",
            "Best RMSE for RTX: 71.67886267152083\n",
            "Best R² for RTX: 0.0714237959539572\n",
            "Best MAPE for RTX: 2822224356048.7197\n",
            "Completed CatBoost for RTX. Forecast Return: -5.0080%\n",
            "Saved CatBoost parameters, forecasts, and performance data for RTX.\n",
            "\n",
            "Processing CatBoost model for stock: OC\n",
            "Loaded existing CatBoost study for OC.\n"
          ]
        },
        {
          "metadata": {
            "tags": null
          },
          "name": "stderr",
          "output_type": "stream",
          "text": [
            "[I 2024-12-15 08:18:10,849] Trial 35 pruned. \n"
          ]
        },
        {
          "metadata": {
            "tags": null
          },
          "name": "stdout",
          "output_type": "stream",
          "text": [
            "Best params for OC (CatBoost): {'iterations': 2855, 'depth': 5, 'learning_rate': 0.00043713628547586037, 'l2_leaf_reg': 14.372260965475574, 'random_strength': 8.087131679283244, 'bagging_temperature': 9.752508784343949}\n",
            "Best RMSE for OC: 93.23058629269003\n",
            "Best R² for OC: -0.019288439215297843\n",
            "Best MAPE for OC: 4497514127431.791\n",
            "Completed CatBoost for OC. Forecast Return: 1.7832%\n",
            "Saved CatBoost parameters, forecasts, and performance data for OC.\n",
            "\n",
            "Processing CatBoost model for stock: PGR\n",
            "Loaded existing CatBoost study for PGR.\n"
          ]
        },
        {
          "metadata": {
            "tags": null
          },
          "name": "stderr",
          "output_type": "stream",
          "text": [
            "[I 2024-12-15 08:18:27,803] Trial 35 finished with value: 35.73870919442043 and parameters: {'iterations': 2794, 'depth': 7, 'learning_rate': 0.1015234945442392, 'l2_leaf_reg': 9.750314586808972, 'random_strength': 7.603758337404328, 'bagging_temperature': 0.13504102293253384}. Best is trial 0 with value: 35.594714323177236.\n"
          ]
        },
        {
          "metadata": {
            "tags": null
          },
          "name": "stdout",
          "output_type": "stream",
          "text": [
            "Best params for PGR (CatBoost): {'iterations': 2494, 'depth': 9, 'learning_rate': 0.23214412525961872, 'l2_leaf_reg': 1.9346198643883934, 'random_strength': 1.8405549815959579, 'bagging_temperature': 3.7130065251667768}\n",
            "Best RMSE for PGR: 35.594714323177236\n",
            "Best R² for PGR: 0.0067885463238711585\n",
            "Best MAPE for PGR: 1.8632848960832122\n",
            "Completed CatBoost for PGR. Forecast Return: -5.4419%\n",
            "Saved CatBoost parameters, forecasts, and performance data for PGR.\n",
            "\n",
            "Processing CatBoost model for stock: V\n",
            "Loaded existing CatBoost study for V.\n"
          ]
        },
        {
          "metadata": {
            "tags": null
          },
          "name": "stderr",
          "output_type": "stream",
          "text": [
            "[I 2024-12-15 08:20:32,095] Trial 35 finished with value: 30.007867210154142 and parameters: {'iterations': 1329, 'depth': 10, 'learning_rate': 0.1479504686776506, 'l2_leaf_reg': 7.605159475825915, 'random_strength': 6.022632996045412, 'bagging_temperature': 3.489083463991412}. Best is trial 29 with value: 28.41285053032284.\n"
          ]
        },
        {
          "metadata": {
            "tags": null
          },
          "name": "stdout",
          "output_type": "stream",
          "text": [
            "Best params for V (CatBoost): {'iterations': 1208, 'depth': 11, 'learning_rate': 0.1525916362804137, 'l2_leaf_reg': 7.197962072319868, 'random_strength': 5.422482293620142, 'bagging_temperature': 4.515327184070751}\n",
            "Best RMSE for V: 28.41285053032284\n",
            "Best R² for V: 0.06593059105885406\n",
            "Best MAPE for V: 3777119283226.4946\n",
            "Completed CatBoost for V. Forecast Return: 0.9004%\n",
            "Saved CatBoost parameters, forecasts, and performance data for V.\n",
            "\n",
            "Processing CatBoost model for stock: VRTX\n",
            "Loaded existing CatBoost study for VRTX.\n"
          ]
        },
        {
          "metadata": {
            "tags": null
          },
          "name": "stderr",
          "output_type": "stream",
          "text": [
            "[I 2024-12-15 08:23:20,665] Trial 35 pruned. \n"
          ]
        },
        {
          "metadata": {
            "tags": null
          },
          "name": "stdout",
          "output_type": "stream",
          "text": [
            "Best params for VRTX (CatBoost): {'iterations': 857, 'depth': 4, 'learning_rate': 0.06167718679033784, 'l2_leaf_reg': 8.819983136387838, 'random_strength': 5.757749045445161, 'bagging_temperature': 7.778964278947134}\n",
            "Best RMSE for VRTX: 54.00383997916904\n",
            "Best R² for VRTX: 0.02188775163904999\n",
            "Best MAPE for VRTX: 3798503960716.97\n",
            "Completed CatBoost for VRTX. Forecast Return: -7.1326%\n",
            "Saved CatBoost parameters, forecasts, and performance data for VRTX.\n",
            "\n",
            "Processing CatBoost model for stock: USB\n",
            "Loaded existing CatBoost study for USB.\n"
          ]
        },
        {
          "metadata": {
            "tags": null
          },
          "name": "stderr",
          "output_type": "stream",
          "text": [
            "[I 2024-12-15 08:23:27,463] Trial 35 pruned. \n"
          ]
        },
        {
          "metadata": {
            "tags": null
          },
          "name": "stdout",
          "output_type": "stream",
          "text": [
            "Best params for USB (CatBoost): {'iterations': 2458, 'depth': 4, 'learning_rate': 0.10308875668566846, 'l2_leaf_reg': 12.404781725513352, 'random_strength': 2.145497715400187, 'bagging_temperature': 0.6718002908171907}\n",
            "Best RMSE for USB: 57.86745501900322\n",
            "Best R² for USB: 0.201109045072509\n",
            "Best MAPE for USB: 6234205300468.373\n",
            "Completed CatBoost for USB. Forecast Return: 4.0065%\n",
            "Saved CatBoost parameters, forecasts, and performance data for USB.\n",
            "\n",
            "Processing CatBoost model for stock: VEEV\n",
            "Loaded existing CatBoost study for VEEV.\n"
          ]
        },
        {
          "metadata": {
            "tags": null
          },
          "name": "stderr",
          "output_type": "stream",
          "text": [
            "[I 2024-12-15 08:23:37,035] Trial 35 pruned. \n"
          ]
        },
        {
          "metadata": {
            "tags": null
          },
          "name": "stdout",
          "output_type": "stream",
          "text": [
            "Best params for VEEV (CatBoost): {'iterations': 2990, 'depth': 4, 'learning_rate': 0.0691982604432537, 'l2_leaf_reg': 14.241986674106277, 'random_strength': 2.6856140297389812, 'bagging_temperature': 9.902206347451319}\n",
            "Best RMSE for VEEV: 102.45820106936615\n",
            "Best R² for VEEV: 0.05448518241041852\n",
            "Best MAPE for VEEV: 1.7411305864118907\n",
            "Completed CatBoost for VEEV. Forecast Return: 4.3538%\n",
            "Saved CatBoost parameters, forecasts, and performance data for VEEV.\n",
            "\n",
            "Processing CatBoost model for stock: URI\n"
          ]
        },
        {
          "metadata": {
            "tags": null
          },
          "name": "stderr",
          "output_type": "stream",
          "text": [
            "[I 2024-12-15 08:23:46,949] A new study created in RDB with name: cb_study_URI\n"
          ]
        },
        {
          "metadata": {
            "tags": null
          },
          "name": "stdout",
          "output_type": "stream",
          "text": [
            "Created new CatBoost study for URI.\n"
          ]
        },
        {
          "metadata": {
            "tags": null
          },
          "name": "stderr",
          "output_type": "stream",
          "text": [
            "[I 2024-12-15 08:24:25,481] Trial 0 finished with value: 148.35591157164393 and parameters: {'iterations': 1345, 'depth': 10, 'learning_rate': 0.0018059661883446042, 'l2_leaf_reg': 10.496669049700815, 'random_strength': 2.9957240351068424, 'bagging_temperature': 9.561423652542214}. Best is trial 0 with value: 148.35591157164393.\n"
          ]
        },
        {
          "metadata": {
            "tags": null
          },
          "name": "stdout",
          "output_type": "stream",
          "text": [
            "Best params for URI (CatBoost): {'iterations': 1345, 'depth': 10, 'learning_rate': 0.0018059661883446042, 'l2_leaf_reg': 10.496669049700815, 'random_strength': 2.9957240351068424, 'bagging_temperature': 9.561423652542214}\n",
            "Best RMSE for URI: 148.35591157164393\n",
            "Best R² for URI: -0.0005434580684789969\n",
            "Best MAPE for URI: 1.7364682559688571\n",
            "Completed CatBoost for URI. Forecast Return: 2.1827%\n",
            "Saved CatBoost parameters, forecasts, and performance data for URI.\n",
            "\n",
            "Processing CatBoost model for stock: SYK\n",
            "Loaded existing CatBoost study for SYK.\n"
          ]
        },
        {
          "metadata": {
            "tags": null
          },
          "name": "stderr",
          "output_type": "stream",
          "text": [
            "[I 2024-12-15 08:28:33,176] Trial 11 finished with value: 45.22084464364854 and parameters: {'iterations': 2912, 'depth': 9, 'learning_rate': 0.0009781286246401137, 'l2_leaf_reg': 1.0320767278148215, 'random_strength': 7.1903600468217705, 'bagging_temperature': 3.6764128288414937}. Best is trial 11 with value: 45.22084464364854.\n"
          ]
        },
        {
          "metadata": {
            "tags": null
          },
          "name": "stdout",
          "output_type": "stream",
          "text": [
            "Best params for SYK (CatBoost): {'iterations': 2912, 'depth': 9, 'learning_rate': 0.0009781286246401137, 'l2_leaf_reg': 1.0320767278148215, 'random_strength': 7.1903600468217705, 'bagging_temperature': 3.6764128288414937}\n",
            "Best RMSE for SYK: 45.22084464364854\n",
            "Best R² for SYK: 0.017268012672274586\n",
            "Best MAPE for SYK: 732793743265.4246\n",
            "Completed CatBoost for SYK. Forecast Return: 0.4769%\n",
            "Saved CatBoost parameters, forecasts, and performance data for SYK.\n",
            "\n",
            "Processing CatBoost model for stock: TWLO\n",
            "Loaded existing CatBoost study for TWLO.\n"
          ]
        },
        {
          "metadata": {
            "tags": null
          },
          "name": "stderr",
          "output_type": "stream",
          "text": [
            "[W 2024-12-15 08:30:17,395] Trial 1 failed with parameters: {'iterations': 2709, 'depth': 10, 'learning_rate': 0.01994134615608208, 'l2_leaf_reg': 12.287169958921224, 'random_strength': 8.144904553595593, 'bagging_temperature': 8.307684178406147} because of the following error: CatBoostError('catboost/private/libs/algo/tensor_search_helpers.cpp:563: Too few sampling units (subsample=0.8, bootstrap_type=MVS): please increase sampling rate or disable sampling').\n",
            "Traceback (most recent call last):\n",
            "  File \"/usr/local/lib/python3.10/dist-packages/optuna/study/_optimize.py\", line 197, in _run_trial\n",
            "    value_or_values = func(trial)\n",
            "  File \"<ipython-input-11-50e9b8b2f916>\", line 89, in objective_cb\n",
            "    model.fit(train_pool, eval_set=(X_val_fold, y_val_fold), early_stopping_rounds=100, use_best_model=True)\n",
            "  File \"/usr/local/lib/python3.10/dist-packages/catboost/core.py\", line 5873, in fit\n",
            "    return self._fit(X, y, cat_features, text_features, embedding_features, None, graph, sample_weight, None, None, None, None, baseline,\n",
            "  File \"/usr/local/lib/python3.10/dist-packages/catboost/core.py\", line 2410, in _fit\n",
            "    self._train(\n",
            "  File \"/usr/local/lib/python3.10/dist-packages/catboost/core.py\", line 1790, in _train\n",
            "    self._object._train(train_pool, test_pool, params, allow_clear_pool, init_model._object if init_model else None)\n",
            "  File \"_catboost.pyx\", line 5017, in _catboost._CatBoost._train\n",
            "  File \"_catboost.pyx\", line 5066, in _catboost._CatBoost._train\n",
            "_catboost.CatBoostError: catboost/private/libs/algo/tensor_search_helpers.cpp:563: Too few sampling units (subsample=0.8, bootstrap_type=MVS): please increase sampling rate or disable sampling\n",
            "[W 2024-12-15 08:30:17,397] Trial 1 failed with value None.\n"
          ]
        },
        {
          "metadata": {
            "tags": null
          },
          "name": "stdout",
          "output_type": "stream",
          "text": [
            "An error occurred while processing CatBoost for TWLO: catboost/private/libs/algo/tensor_search_helpers.cpp:563: Too few sampling units (subsample=0.8, bootstrap_type=MVS): please increase sampling rate or disable sampling\n",
            "Saved CatBoost parameters, forecasts, and performance data for TWLO.\n",
            "\n",
            "Processing CatBoost model for stock: WDC\n",
            "Loaded existing CatBoost study for WDC.\n"
          ]
        },
        {
          "metadata": {
            "tags": null
          },
          "name": "stderr",
          "output_type": "stream",
          "text": [
            "[I 2024-12-15 08:30:19,932] Trial 35 pruned. \n"
          ]
        },
        {
          "metadata": {
            "tags": null
          },
          "name": "stdout",
          "output_type": "stream",
          "text": [
            "Best params for WDC (CatBoost): {'iterations': 2976, 'depth': 4, 'learning_rate': 0.04666225985628313, 'l2_leaf_reg': 5.4995411414345625, 'random_strength': 9.700675895068597, 'bagging_temperature': 2.645179827857248}\n",
            "Best RMSE for WDC: 154.00312101651582\n",
            "Best R² for WDC: 0.11379867697392643\n",
            "Best MAPE for WDC: 652053841978.9056\n",
            "Completed CatBoost for WDC. Forecast Return: 1.7858%\n",
            "Saved CatBoost parameters, forecasts, and performance data for WDC.\n",
            "\n",
            "Processing CatBoost model for stock: SCHW\n",
            "Loaded existing CatBoost study for SCHW.\n"
          ]
        },
        {
          "metadata": {
            "tags": null
          },
          "name": "stderr",
          "output_type": "stream",
          "text": [
            "[I 2024-12-15 08:30:33,282] Trial 35 finished with value: 98.08171606416421 and parameters: {'iterations': 1878, 'depth': 7, 'learning_rate': 0.13276782332374687, 'l2_leaf_reg': 13.465972246576865, 'random_strength': 9.54775485677504, 'bagging_temperature': 1.3888143969179056}. Best is trial 35 with value: 98.08171606416421.\n"
          ]
        },
        {
          "metadata": {
            "tags": null
          },
          "name": "stdout",
          "output_type": "stream",
          "text": [
            "Best params for SCHW (CatBoost): {'iterations': 1878, 'depth': 7, 'learning_rate': 0.13276782332374687, 'l2_leaf_reg': 13.465972246576865, 'random_strength': 9.54775485677504, 'bagging_temperature': 1.3888143969179056}\n",
            "Best RMSE for SCHW: 98.08171606416421\n",
            "Best R² for SCHW: 0.023828948170967663\n",
            "Best MAPE for SCHW: 2738192088843.9087\n",
            "Completed CatBoost for SCHW. Forecast Return: 10.7913%\n",
            "Saved CatBoost parameters, forecasts, and performance data for SCHW.\n",
            "\n",
            "Processing CatBoost model for stock: TRV\n",
            "Loaded existing CatBoost study for TRV.\n"
          ]
        },
        {
          "metadata": {
            "tags": null
          },
          "name": "stderr",
          "output_type": "stream",
          "text": [
            "[I 2024-12-15 08:30:59,024] Trial 35 pruned. \n"
          ]
        },
        {
          "metadata": {
            "tags": null
          },
          "name": "stdout",
          "output_type": "stream",
          "text": [
            "Best params for TRV (CatBoost): {'iterations': 2474, 'depth': 4, 'learning_rate': 0.15394414529217354, 'l2_leaf_reg': 11.743770139635641, 'random_strength': 6.67277702517154, 'bagging_temperature': 7.326270618113866}\n",
            "Best RMSE for TRV: 38.940565127724916\n",
            "Best R² for TRV: 0.055893351036237306\n",
            "Best MAPE for TRV: 2.3301333019221486\n",
            "Completed CatBoost for TRV. Forecast Return: -1.1912%\n",
            "Saved CatBoost parameters, forecasts, and performance data for TRV.\n",
            "\n",
            "Processing CatBoost model for stock: TXN\n",
            "Loaded existing CatBoost study for TXN.\n"
          ]
        },
        {
          "metadata": {
            "tags": null
          },
          "name": "stderr",
          "output_type": "stream",
          "text": [
            "[I 2024-12-15 08:31:07,336] Trial 35 pruned. \n"
          ]
        },
        {
          "metadata": {
            "tags": null
          },
          "name": "stdout",
          "output_type": "stream",
          "text": [
            "Best params for TXN (CatBoost): {'iterations': 2174, 'depth': 11, 'learning_rate': 0.17295557671047848, 'l2_leaf_reg': 14.125208163970065, 'random_strength': 1.5558128437029646, 'bagging_temperature': 8.632806356367885}\n",
            "Best RMSE for TXN: 42.608044472400046\n",
            "Best R² for TXN: 0.04096121821134254\n",
            "Best MAPE for TXN: 1.4441404285425916\n",
            "Completed CatBoost for TXN. Forecast Return: -12.7532%\n",
            "Saved CatBoost parameters, forecasts, and performance data for TXN.\n",
            "\n",
            "Processing CatBoost model for stock: SLB\n",
            "Loaded existing CatBoost study for SLB.\n"
          ]
        },
        {
          "metadata": {
            "tags": null
          },
          "name": "stderr",
          "output_type": "stream",
          "text": [
            "[I 2024-12-15 08:35:13,540] Trial 35 pruned. \n"
          ]
        },
        {
          "metadata": {
            "tags": null
          },
          "name": "stdout",
          "output_type": "stream",
          "text": [
            "Best params for SLB (CatBoost): {'iterations': 2343, 'depth': 7, 'learning_rate': 0.10170417560749143, 'l2_leaf_reg': 8.44524407119634, 'random_strength': 9.179037444837906, 'bagging_temperature': 6.7603128248652835}\n",
            "Best RMSE for SLB: 161.44778570799656\n",
            "Best R² for SLB: 0.06075948456521559\n",
            "Best MAPE for SLB: 23391557943527.97\n",
            "Completed CatBoost for SLB. Forecast Return: -5.3272%\n",
            "Saved CatBoost parameters, forecasts, and performance data for SLB.\n",
            "\n",
            "Processing CatBoost model for stock: WELL\n",
            "Loaded existing CatBoost study for WELL.\n"
          ]
        },
        {
          "metadata": {
            "tags": null
          },
          "name": "stderr",
          "output_type": "stream",
          "text": [
            "[I 2024-12-15 08:35:42,809] Trial 35 finished with value: 79.11245718333176 and parameters: {'iterations': 1623, 'depth': 4, 'learning_rate': 0.010270111971543884, 'l2_leaf_reg': 7.4419964058857015, 'random_strength': 6.513663509409611, 'bagging_temperature': 0.9597691307512886}. Best is trial 31 with value: 77.5130964934143.\n"
          ]
        },
        {
          "metadata": {
            "tags": null
          },
          "name": "stdout",
          "output_type": "stream",
          "text": [
            "Best params for WELL (CatBoost): {'iterations': 2466, 'depth': 7, 'learning_rate': 0.02364459088577549, 'l2_leaf_reg': 6.436604507931013, 'random_strength': 7.6070256133033105, 'bagging_temperature': 3.780459954011022}\n",
            "Best RMSE for WELL: 77.5130964934143\n",
            "Best R² for WELL: 0.01872308718237566\n",
            "Best MAPE for WELL: 1310514246545.2134\n",
            "Completed CatBoost for WELL. Forecast Return: -4.8925%\n",
            "Saved CatBoost parameters, forecasts, and performance data for WELL.\n",
            "\n",
            "Processing CatBoost model for stock: UNP\n",
            "Loaded existing CatBoost study for UNP.\n"
          ]
        },
        {
          "metadata": {
            "tags": null
          },
          "name": "stderr",
          "output_type": "stream",
          "text": [
            "[I 2024-12-15 08:36:19,469] Trial 35 pruned. \n"
          ]
        },
        {
          "metadata": {
            "tags": null
          },
          "name": "stdout",
          "output_type": "stream",
          "text": [
            "Best params for UNP (CatBoost): {'iterations': 1623, 'depth': 9, 'learning_rate': 0.13481825227790617, 'l2_leaf_reg': 4.495388853876448, 'random_strength': 5.028654515134521, 'bagging_temperature': 1.4027812863465359}\n",
            "Best RMSE for UNP: 45.597585140058534\n",
            "Best R² for UNP: 0.00900340428125664\n",
            "Best MAPE for UNP: 5412201672106.105\n",
            "Completed CatBoost for UNP. Forecast Return: -2.7800%\n",
            "Saved CatBoost parameters, forecasts, and performance data for UNP.\n",
            "\n",
            "Processing CatBoost model for stock: TT\n",
            "Loaded existing CatBoost study for TT.\n"
          ]
        },
        {
          "metadata": {
            "tags": null
          },
          "name": "stderr",
          "output_type": "stream",
          "text": [
            "[I 2024-12-15 08:37:37,744] Trial 35 finished with value: 69.46924276923805 and parameters: {'iterations': 1530, 'depth': 9, 'learning_rate': 0.13516937586397146, 'l2_leaf_reg': 7.754014075302187, 'random_strength': 5.109888206018647, 'bagging_temperature': 6.5998693630711625}. Best is trial 22 with value: 68.58651233002881.\n"
          ]
        },
        {
          "metadata": {
            "tags": null
          },
          "name": "stdout",
          "output_type": "stream",
          "text": [
            "Best params for TT (CatBoost): {'iterations': 2329, 'depth': 11, 'learning_rate': 0.1006655985255972, 'l2_leaf_reg': 6.487269686155377, 'random_strength': 4.87243298700967, 'bagging_temperature': 6.120212030059951}\n",
            "Best RMSE for TT: 68.58651233002881\n",
            "Best R² for TT: -0.038319158824932864\n",
            "Best MAPE for TT: 2886974437586.082\n",
            "Completed CatBoost for TT. Forecast Return: -1.6545%\n",
            "Saved CatBoost parameters, forecasts, and performance data for TT.\n",
            "\n",
            "Processing CatBoost model for stock: SBUX\n",
            "Loaded existing CatBoost study for SBUX.\n"
          ]
        },
        {
          "metadata": {
            "tags": null
          },
          "name": "stderr",
          "output_type": "stream",
          "text": [
            "[I 2024-12-15 08:41:50,681] Trial 35 finished with value: 55.39095683910828 and parameters: {'iterations': 644, 'depth': 7, 'learning_rate': 0.09890569251188636, 'l2_leaf_reg': 13.793630174010309, 'random_strength': 9.998305948744537, 'bagging_temperature': 3.786912504216099}. Best is trial 35 with value: 55.39095683910828.\n"
          ]
        },
        {
          "metadata": {
            "tags": null
          },
          "name": "stdout",
          "output_type": "stream",
          "text": [
            "Best params for SBUX (CatBoost): {'iterations': 644, 'depth': 7, 'learning_rate': 0.09890569251188636, 'l2_leaf_reg': 13.793630174010309, 'random_strength': 9.998305948744537, 'bagging_temperature': 3.786912504216099}\n",
            "Best RMSE for SBUX: 55.39095683910828\n",
            "Best R² for SBUX: 0.011793701231863962\n",
            "Best MAPE for SBUX: 385056441037.80963\n",
            "Completed CatBoost for SBUX. Forecast Return: 2.5077%\n",
            "Saved CatBoost parameters, forecasts, and performance data for SBUX.\n",
            "\n",
            "Processing CatBoost model for stock: TFC\n",
            "Loaded existing CatBoost study for TFC.\n"
          ]
        },
        {
          "metadata": {
            "tags": null
          },
          "name": "stderr",
          "output_type": "stream",
          "text": [
            "[I 2024-12-15 08:42:02,520] Trial 35 pruned. \n"
          ]
        },
        {
          "metadata": {
            "tags": null
          },
          "name": "stdout",
          "output_type": "stream",
          "text": [
            "Best params for TFC (CatBoost): {'iterations': 539, 'depth': 4, 'learning_rate': 0.06380605411313507, 'l2_leaf_reg': 2.9704409387432253, 'random_strength': 8.230615928093249, 'bagging_temperature': 6.313373204291598}\n",
            "Best RMSE for TFC: 83.41931068880429\n",
            "Best R² for TFC: 0.03534913638660061\n",
            "Best MAPE for TFC: 9174803105737.787\n",
            "Completed CatBoost for TFC. Forecast Return: 3.4913%\n",
            "Saved CatBoost parameters, forecasts, and performance data for TFC.\n",
            "\n",
            "Processing CatBoost model for stock: TRMB\n",
            "Loaded existing CatBoost study for TRMB.\n"
          ]
        },
        {
          "metadata": {
            "tags": null
          },
          "name": "stderr",
          "output_type": "stream",
          "text": [
            "[I 2024-12-15 08:42:05,490] Trial 35 pruned. \n"
          ]
        },
        {
          "metadata": {
            "tags": null
          },
          "name": "stdout",
          "output_type": "stream",
          "text": [
            "Best params for TRMB (CatBoost): {'iterations': 2292, 'depth': 6, 'learning_rate': 0.1398232927710246, 'l2_leaf_reg': 10.289356801081473, 'random_strength': 8.618144788365163, 'bagging_temperature': 5.485088652237773}\n",
            "Best RMSE for TRMB: 93.4232668784154\n",
            "Best R² for TRMB: 0.05871859837652116\n",
            "Best MAPE for TRMB: 1883219032736.82\n",
            "Completed CatBoost for TRMB. Forecast Return: 2.9426%\n",
            "Saved CatBoost parameters, forecasts, and performance data for TRMB.\n",
            "\n",
            "Processing CatBoost model for stock: TEAM\n",
            "Loaded existing CatBoost study for TEAM.\n"
          ]
        },
        {
          "metadata": {
            "tags": null
          },
          "name": "stderr",
          "output_type": "stream",
          "text": [
            "[W 2024-12-15 08:42:20,807] Trial 3 failed with parameters: {'iterations': 1042, 'depth': 8, 'learning_rate': 0.027441101182058236, 'l2_leaf_reg': 10.658273293488605, 'random_strength': 4.186656440478175, 'bagging_temperature': 7.17488818119432} because of the following error: CatBoostError('catboost/private/libs/algo/tensor_search_helpers.cpp:563: Too few sampling units (subsample=0.8, bootstrap_type=MVS): please increase sampling rate or disable sampling').\n",
            "Traceback (most recent call last):\n",
            "  File \"/usr/local/lib/python3.10/dist-packages/optuna/study/_optimize.py\", line 197, in _run_trial\n",
            "    value_or_values = func(trial)\n",
            "  File \"<ipython-input-11-50e9b8b2f916>\", line 89, in objective_cb\n",
            "    model.fit(train_pool, eval_set=(X_val_fold, y_val_fold), early_stopping_rounds=100, use_best_model=True)\n",
            "  File \"/usr/local/lib/python3.10/dist-packages/catboost/core.py\", line 5873, in fit\n",
            "    return self._fit(X, y, cat_features, text_features, embedding_features, None, graph, sample_weight, None, None, None, None, baseline,\n",
            "  File \"/usr/local/lib/python3.10/dist-packages/catboost/core.py\", line 2410, in _fit\n",
            "    self._train(\n",
            "  File \"/usr/local/lib/python3.10/dist-packages/catboost/core.py\", line 1790, in _train\n",
            "    self._object._train(train_pool, test_pool, params, allow_clear_pool, init_model._object if init_model else None)\n",
            "  File \"_catboost.pyx\", line 5017, in _catboost._CatBoost._train\n",
            "  File \"_catboost.pyx\", line 5066, in _catboost._CatBoost._train\n",
            "_catboost.CatBoostError: catboost/private/libs/algo/tensor_search_helpers.cpp:563: Too few sampling units (subsample=0.8, bootstrap_type=MVS): please increase sampling rate or disable sampling\n",
            "[W 2024-12-15 08:42:20,809] Trial 3 failed with value None.\n"
          ]
        },
        {
          "metadata": {
            "tags": null
          },
          "name": "stdout",
          "output_type": "stream",
          "text": [
            "An error occurred while processing CatBoost for TEAM: catboost/private/libs/algo/tensor_search_helpers.cpp:563: Too few sampling units (subsample=0.8, bootstrap_type=MVS): please increase sampling rate or disable sampling\n",
            "Saved CatBoost parameters, forecasts, and performance data for TEAM.\n",
            "\n",
            "Processing CatBoost model for stock: WFC\n",
            "Loaded existing CatBoost study for WFC.\n"
          ]
        },
        {
          "metadata": {
            "tags": null
          },
          "name": "stderr",
          "output_type": "stream",
          "text": [
            "[I 2024-12-15 08:42:22,589] Trial 35 pruned. \n"
          ]
        },
        {
          "metadata": {
            "tags": null
          },
          "name": "stdout",
          "output_type": "stream",
          "text": [
            "Best params for WFC (CatBoost): {'iterations': 2972, 'depth': 4, 'learning_rate': 0.0008976635469036964, 'l2_leaf_reg': 10.43283023723565, 'random_strength': 1.0075736032491718, 'bagging_temperature': 0.136276279498313}\n",
            "Best RMSE for WFC: 87.1573365750091\n",
            "Best R² for WFC: 0.010181698789181145\n",
            "Best MAPE for WFC: 3724120614420.8496\n",
            "Completed CatBoost for WFC. Forecast Return: 5.2995%\n",
            "Saved CatBoost parameters, forecasts, and performance data for WFC.\n",
            "\n",
            "Processing CatBoost model for stock: WBD\n",
            "Loaded existing CatBoost study for WBD.\n"
          ]
        },
        {
          "metadata": {
            "tags": null
          },
          "name": "stderr",
          "output_type": "stream",
          "text": [
            "[I 2024-12-15 08:42:33,978] Trial 35 finished with value: 215.10585360259458 and parameters: {'iterations': 956, 'depth': 4, 'learning_rate': 0.14320058798478855, 'l2_leaf_reg': 12.936739616143356, 'random_strength': 7.6183347598006295, 'bagging_temperature': 7.694909653847871}. Best is trial 27 with value: 209.7523475229476.\n"
          ]
        },
        {
          "metadata": {
            "tags": null
          },
          "name": "stdout",
          "output_type": "stream",
          "text": [
            "Best params for WBD (CatBoost): {'iterations': 645, 'depth': 5, 'learning_rate': 0.08155387620426922, 'l2_leaf_reg': 13.769054010639291, 'random_strength': 6.464574430510746, 'bagging_temperature': 9.118984130690295}\n",
            "Best RMSE for WBD: 209.7523475229476\n",
            "Best R² for WBD: 0.034531378579920315\n",
            "Best MAPE for WBD: 13527830459528.367\n",
            "Completed CatBoost for WBD. Forecast Return: 19.0936%\n",
            "Saved CatBoost parameters, forecasts, and performance data for WBD.\n",
            "\n",
            "Processing CatBoost model for stock: SYF\n",
            "Loaded existing CatBoost study for SYF.\n"
          ]
        },
        {
          "metadata": {
            "tags": null
          },
          "name": "stderr",
          "output_type": "stream",
          "text": [
            "[I 2024-12-15 08:42:49,483] Trial 35 pruned. \n"
          ]
        },
        {
          "metadata": {
            "tags": null
          },
          "name": "stdout",
          "output_type": "stream",
          "text": [
            "Best params for SYF (CatBoost): {'iterations': 1431, 'depth': 8, 'learning_rate': 0.20996282998899865, 'l2_leaf_reg': 2.8942268868387, 'random_strength': 3.586169739298149, 'bagging_temperature': 9.31429489098625}\n",
            "Best RMSE for SYF: 116.94184306701908\n",
            "Best R² for SYF: 0.04643112170315996\n",
            "Best MAPE for SYF: 9316170153380.725\n",
            "Completed CatBoost for SYF. Forecast Return: 5.9517%\n",
            "Saved CatBoost parameters, forecasts, and performance data for SYF.\n",
            "\n",
            "Processing CatBoost model for stock: VZ\n",
            "Loaded existing CatBoost study for VZ.\n"
          ]
        },
        {
          "metadata": {
            "tags": null
          },
          "name": "stderr",
          "output_type": "stream",
          "text": [
            "[I 2024-12-15 08:43:21,748] Trial 35 pruned. \n"
          ]
        },
        {
          "metadata": {
            "tags": null
          },
          "name": "stdout",
          "output_type": "stream",
          "text": [
            "Best params for VZ (CatBoost): {'iterations': 884, 'depth': 12, 'learning_rate': 0.07238516042424331, 'l2_leaf_reg': 8.808825750621663, 'random_strength': 2.1832468835275742, 'bagging_temperature': 2.784600804383654}\n",
            "Best RMSE for VZ: 27.989449281274727\n",
            "Best R² for VZ: -0.029696901489722\n",
            "Best MAPE for VZ: 1825010568575.7163\n",
            "Completed CatBoost for VZ. Forecast Return: 4.4654%\n",
            "Saved CatBoost parameters, forecasts, and performance data for VZ.\n",
            "\n",
            "Processing CatBoost model for stock: T\n",
            "Loaded existing CatBoost study for T.\n"
          ]
        },
        {
          "metadata": {
            "tags": null
          },
          "name": "stderr",
          "output_type": "stream",
          "text": [
            "[I 2024-12-15 08:47:35,744] Trial 35 pruned. \n"
          ]
        },
        {
          "metadata": {
            "tags": null
          },
          "name": "stdout",
          "output_type": "stream",
          "text": [
            "Best params for T (CatBoost): {'iterations': 1958, 'depth': 11, 'learning_rate': 0.037832674269949025, 'l2_leaf_reg': 1.063081762059415, 'random_strength': 5.250143163000707, 'bagging_temperature': 3.910381057305621}\n",
            "Best RMSE for T: 41.97134740612884\n",
            "Best R² for T: -0.002227988308512785\n",
            "Best MAPE for T: 5115475139234.909\n",
            "Completed CatBoost for T. Forecast Return: 5.6360%\n",
            "Saved CatBoost parameters, forecasts, and performance data for T.\n",
            "\n",
            "Processing CatBoost model for stock: TRGP\n",
            "Loaded existing CatBoost study for TRGP.\n"
          ]
        },
        {
          "metadata": {
            "tags": null
          },
          "name": "stderr",
          "output_type": "stream",
          "text": [
            "[I 2024-12-15 08:51:35,524] Trial 11 finished with value: 260.5416254336478 and parameters: {'iterations': 3000, 'depth': 4, 'learning_rate': 0.025628663691577302, 'l2_leaf_reg': 13.882001456994026, 'random_strength': 9.940926431247377, 'bagging_temperature': 6.103181269453681}. Best is trial 11 with value: 260.5416254336478.\n"
          ]
        },
        {
          "metadata": {
            "tags": null
          },
          "name": "stdout",
          "output_type": "stream",
          "text": [
            "Best params for TRGP (CatBoost): {'iterations': 3000, 'depth': 4, 'learning_rate': 0.025628663691577302, 'l2_leaf_reg': 13.882001456994026, 'random_strength': 9.940926431247377, 'bagging_temperature': 6.103181269453681}\n",
            "Best RMSE for TRGP: 260.5416254336478\n",
            "Best R² for TRGP: 0.031942476442199386\n",
            "Best MAPE for TRGP: 3299593277378.8535\n",
            "Completed CatBoost for TRGP. Forecast Return: 4.4520%\n",
            "Saved CatBoost parameters, forecasts, and performance data for TRGP.\n",
            "\n",
            "Processing CatBoost model for stock: TSLA\n",
            "Loaded existing CatBoost study for TSLA.\n"
          ]
        },
        {
          "metadata": {
            "tags": null
          },
          "name": "stderr",
          "output_type": "stream",
          "text": [
            "[I 2024-12-15 08:51:46,746] Trial 35 finished with value: 427.9517995565936 and parameters: {'iterations': 2601, 'depth': 6, 'learning_rate': 0.19275369765244954, 'l2_leaf_reg': 10.898552804267041, 'random_strength': 9.590483804328068, 'bagging_temperature': 5.699124816499077}. Best is trial 31 with value: 397.46864507317264.\n"
          ]
        },
        {
          "metadata": {
            "tags": null
          },
          "name": "stdout",
          "output_type": "stream",
          "text": [
            "Best params for TSLA (CatBoost): {'iterations': 2831, 'depth': 7, 'learning_rate': 0.1723806174644871, 'l2_leaf_reg': 2.1097463210567353, 'random_strength': 9.96115063822538, 'bagging_temperature': 6.63486878257145}\n",
            "Best RMSE for TSLA: 397.46864507317264\n",
            "Best R² for TSLA: 0.04553046675866079\n",
            "Best MAPE for TSLA: 1.9382619620171506\n",
            "Completed CatBoost for TSLA. Forecast Return: 22.4544%\n",
            "Saved CatBoost parameters, forecasts, and performance data for TSLA.\n",
            "\n",
            "Processing CatBoost model for stock: TSCO\n",
            "Loaded existing CatBoost study for TSCO.\n"
          ]
        },
        {
          "metadata": {
            "tags": null
          },
          "name": "stderr",
          "output_type": "stream",
          "text": [
            "[I 2024-12-15 08:53:07,610] Trial 37 pruned. \n"
          ]
        },
        {
          "metadata": {
            "tags": null
          },
          "name": "stdout",
          "output_type": "stream",
          "text": [
            "Best params for TSCO (CatBoost): {'iterations': 893, 'depth': 10, 'learning_rate': 0.0007277518292597605, 'l2_leaf_reg': 1.3146663662982645, 'random_strength': 9.398069509128492, 'bagging_temperature': 7.480609764271022}\n",
            "Best RMSE for TSCO: 65.35536177074128\n",
            "Best R² for TSCO: -0.06336873029281524\n",
            "Best MAPE for TSCO: 1849595056087.0022\n",
            "Completed CatBoost for TSCO. Forecast Return: -0.0190%\n",
            "Saved CatBoost parameters, forecasts, and performance data for TSCO.\n",
            "\n",
            "Processing CatBoost model for stock: ZBH\n",
            "Loaded existing CatBoost study for ZBH.\n"
          ]
        },
        {
          "metadata": {
            "tags": null
          },
          "name": "stderr",
          "output_type": "stream",
          "text": [
            "[I 2024-12-15 08:54:09,419] Trial 35 pruned. \n"
          ]
        },
        {
          "metadata": {
            "tags": null
          },
          "name": "stdout",
          "output_type": "stream",
          "text": [
            "Best params for ZBH (CatBoost): {'iterations': 2944, 'depth': 8, 'learning_rate': 0.012705501625177047, 'l2_leaf_reg': 3.853784748840653, 'random_strength': 5.159868381019806, 'bagging_temperature': 0.04411594349052006}\n",
            "Best RMSE for ZBH: 59.42118865643048\n",
            "Best R² for ZBH: 0.07256425988160857\n",
            "Best MAPE for ZBH: 2374551960451.1206\n",
            "Completed CatBoost for ZBH. Forecast Return: 0.9528%\n",
            "Saved CatBoost parameters, forecasts, and performance data for ZBH.\n",
            "\n",
            "Processing CatBoost model for stock: SNPS\n",
            "Loaded existing CatBoost study for SNPS.\n"
          ]
        },
        {
          "metadata": {
            "tags": null
          },
          "name": "stderr",
          "output_type": "stream",
          "text": [
            "[I 2024-12-15 08:55:06,871] Trial 35 finished with value: 71.12333847723392 and parameters: {'iterations': 514, 'depth': 5, 'learning_rate': 0.02963529232004325, 'l2_leaf_reg': 4.9594294926834745, 'random_strength': 2.9117969421438, 'bagging_temperature': 2.9743221567929354}. Best is trial 15 with value: 70.34659487351513.\n"
          ]
        },
        {
          "metadata": {
            "tags": null
          },
          "name": "stdout",
          "output_type": "stream",
          "text": [
            "Best params for SNPS (CatBoost): {'iterations': 1498, 'depth': 7, 'learning_rate': 0.04582215001963394, 'l2_leaf_reg': 4.285015632506168, 'random_strength': 2.333013520567545, 'bagging_temperature': 6.690886879485056}\n",
            "Best RMSE for SNPS: 70.34659487351513\n",
            "Best R² for SNPS: 0.04309938884055756\n",
            "Best MAPE for SNPS: 2126852262775.4707\n",
            "Completed CatBoost for SNPS. Forecast Return: -8.6866%\n",
            "Saved CatBoost parameters, forecasts, and performance data for SNPS.\n",
            "\n",
            "Processing CatBoost model for stock: WY\n"
          ]
        },
        {
          "metadata": {
            "tags": null
          },
          "name": "stderr",
          "output_type": "stream",
          "text": [
            "[I 2024-12-15 08:55:23,072] A new study created in RDB with name: cb_study_WY\n"
          ]
        },
        {
          "metadata": {
            "tags": null
          },
          "name": "stdout",
          "output_type": "stream",
          "text": [
            "Created new CatBoost study for WY.\n"
          ]
        },
        {
          "metadata": {
            "tags": null
          },
          "name": "stderr",
          "output_type": "stream",
          "text": [
            "[I 2024-12-15 08:55:26,449] Trial 0 finished with value: 71.81117930383492 and parameters: {'iterations': 1368, 'depth': 7, 'learning_rate': 0.27311310064273114, 'l2_leaf_reg': 2.1202032191695905, 'random_strength': 1.894780914282817, 'bagging_temperature': 8.248536704002305}. Best is trial 0 with value: 71.81117930383492.\n"
          ]
        },
        {
          "metadata": {
            "tags": null
          },
          "name": "stdout",
          "output_type": "stream",
          "text": [
            "Best params for WY (CatBoost): {'iterations': 1368, 'depth': 7, 'learning_rate': 0.27311310064273114, 'l2_leaf_reg': 2.1202032191695905, 'random_strength': 1.894780914282817, 'bagging_temperature': 8.248536704002305}\n",
            "Best RMSE for WY: 71.81117930383492\n",
            "Best R² for WY: 0.04972651560274662\n",
            "Best MAPE for WY: 22381730975923.246\n",
            "Completed CatBoost for WY. Forecast Return: -1.7594%\n",
            "Saved CatBoost parameters, forecasts, and performance data for WY.\n",
            "\n",
            "Processing CatBoost model for stock: WST\n",
            "Loaded existing CatBoost study for WST.\n"
          ]
        },
        {
          "metadata": {
            "tags": null
          },
          "name": "stderr",
          "output_type": "stream",
          "text": [
            "[I 2024-12-15 08:55:44,501] Trial 35 pruned. \n"
          ]
        },
        {
          "metadata": {
            "tags": null
          },
          "name": "stdout",
          "output_type": "stream",
          "text": [
            "Best params for WST (CatBoost): {'iterations': 1840, 'depth': 7, 'learning_rate': 0.26481460816635777, 'l2_leaf_reg': 2.3551352634587603, 'random_strength': 2.0967160259468964, 'bagging_temperature': 8.384979174053411}\n",
            "Best RMSE for WST: 77.65994904120662\n",
            "Best R² for WST: 0.029303513956266625\n",
            "Best MAPE for WST: 1.8381901710774542\n",
            "Completed CatBoost for WST. Forecast Return: -0.8650%\n",
            "Saved CatBoost parameters, forecasts, and performance data for WST.\n",
            "\n",
            "Processing CatBoost model for stock: WAT\n",
            "Loaded existing CatBoost study for WAT.\n"
          ]
        },
        {
          "metadata": {
            "tags": null
          },
          "name": "stderr",
          "output_type": "stream",
          "text": [
            "[I 2024-12-15 08:56:37,430] Trial 35 pruned. \n"
          ]
        },
        {
          "output_type": "stream",
          "name": "stdout",
          "text": [
            "Best params for WAT (CatBoost): {'iterations': 2645, 'depth': 11, 'learning_rate': 0.23202181137298306, 'l2_leaf_reg': 13.239709832791654, 'random_strength': 8.007604881776183, 'bagging_temperature': 7.446382710152247}\n",
            "Best RMSE for WAT: 63.637587745474406\n",
            "Best R² for WAT: 0.04918560605304745\n",
            "Best MAPE for WAT: 1.5221865683820917\n",
            "Completed CatBoost for WAT. Forecast Return: 1.1069%\n",
            "Saved CatBoost parameters, forecasts, and performance data for WAT.\n",
            "\n",
            "Processing CatBoost model for stock: UNH\n",
            "Loaded existing CatBoost study for UNH.\n"
          ]
        },
        {
          "output_type": "stream",
          "name": "stderr",
          "text": [
            "[I 2024-12-15 09:01:41,818] Trial 35 pruned. \n"
          ]
        },
        {
          "output_type": "stream",
          "name": "stdout",
          "text": [
            "Best params for UNH (CatBoost): {'iterations': 2185, 'depth': 8, 'learning_rate': 0.042427063998839436, 'l2_leaf_reg': 5.185500800274568, 'random_strength': 1.51573850265076, 'bagging_temperature': 0.09918519314308405}\n",
            "Best RMSE for UNH: 40.62019745516478\n",
            "Best R² for UNH: 0.048598323561009425\n",
            "Best MAPE for UNH: 1.880644406950555\n",
            "Completed CatBoost for UNH. Forecast Return: -9.3944%\n",
            "Saved CatBoost parameters, forecasts, and performance data for UNH.\n",
            "\n",
            "Processing CatBoost model for stock: WTW\n",
            "Loaded existing CatBoost study for WTW.\n"
          ]
        },
        {
          "output_type": "stream",
          "name": "stderr",
          "text": [
            "[I 2024-12-15 09:02:30,558] Trial 35 finished with value: 35.44211848394016 and parameters: {'iterations': 2142, 'depth': 6, 'learning_rate': 0.1105434489216777, 'l2_leaf_reg': 7.7246946762593, 'random_strength': 1.0154792166527817, 'bagging_temperature': 8.076262362107837}. Best is trial 35 with value: 35.44211848394016.\n"
          ]
        },
        {
          "output_type": "stream",
          "name": "stdout",
          "text": [
            "Best params for WTW (CatBoost): {'iterations': 2142, 'depth': 6, 'learning_rate': 0.1105434489216777, 'l2_leaf_reg': 7.7246946762593, 'random_strength': 1.0154792166527817, 'bagging_temperature': 8.076262362107837}\n",
            "Best RMSE for WTW: 35.44211848394016\n",
            "Best R² for WTW: 0.07292062305504869\n",
            "Best MAPE for WTW: 2058854443999.0833\n",
            "Completed CatBoost for WTW. Forecast Return: -0.3690%\n",
            "Saved CatBoost parameters, forecasts, and performance data for WTW.\n",
            "\n",
            "Processing CatBoost model for stock: STE\n",
            "Loaded existing CatBoost study for STE.\n"
          ]
        },
        {
          "output_type": "stream",
          "name": "stderr",
          "text": [
            "[I 2024-12-15 09:02:48,287] Trial 35 pruned. \n"
          ]
        },
        {
          "output_type": "stream",
          "name": "stdout",
          "text": [
            "Best params for STE (CatBoost): {'iterations': 2541, 'depth': 11, 'learning_rate': 0.1386330481311653, 'l2_leaf_reg': 14.987171407294884, 'random_strength': 1.6725438850257386, 'bagging_temperature': 1.5602256944131732}\n",
            "Best RMSE for STE: 46.16534433376281\n",
            "Best R² for STE: 0.03237896969023857\n",
            "Best MAPE for STE: 1.8004223547524132\n",
            "Completed CatBoost for STE. Forecast Return: -1.7945%\n",
            "Saved CatBoost parameters, forecasts, and performance data for STE.\n"
          ]
        }
      ],
      "source": [
        "# %% [markdown]\n",
        "# # 9. Hyperparameter Tuning and Model Training\n",
        "#\n",
        "# Train CatBoost models for each stock using Optuna for hyperparameter tuning. Calculate R² and MAPE for each model, and ensure that progress is saved persistently.\n",
        "\n",
        "# %%\n",
        "# Define the number of trials for Optuna\n",
        "N_TRIALS_CB = 1  # Adjust based on required accuracy and available computation time\n",
        "\n",
        "# Initialize a dictionary to store best parameters\n",
        "if os.path.exists(BEST_PARAMS_PATH):\n",
        "    with open(BEST_PARAMS_PATH, 'rb') as f:\n",
        "        best_params_dict = pickle.load(f)\n",
        "else:\n",
        "    best_params_dict = {}\n",
        "\n",
        "# Initialize a dictionary to store forecasts\n",
        "if os.path.exists(FORECASTS_PATH):\n",
        "    with open(FORECASTS_PATH, 'rb') as f:\n",
        "        stock_forecasts = pickle.load(f)\n",
        "else:\n",
        "    stock_forecasts = {}\n",
        "\n",
        "# Initialize a list to store model performance\n",
        "if os.path.exists(PERFORMANCE_PATH):\n",
        "    with open(PERFORMANCE_PATH, 'rb') as f:\n",
        "        model_performance = pickle.load(f)\n",
        "else:\n",
        "    model_performance = []\n",
        "\n",
        "# Iterate through each stock to train models\n",
        "for ticker in stock_data:\n",
        "    # Skip if the stock has already been processed\n",
        "    if ticker in stock_forecasts and 'CatBoost' in stock_forecasts[ticker]:\n",
        "        print(f\"Skipping CatBoost for {ticker} as it has already been processed.\")\n",
        "        continue\n",
        "\n",
        "    print(f\"\\nProcessing CatBoost model for stock: {ticker}\")\n",
        "    df = stock_data[ticker]\n",
        "\n",
        "    # Define features and target\n",
        "    X_stock = df[feature_cols]\n",
        "    y_stock = df['Target_Return']\n",
        "    w_stock = sample_weights[:len(X_stock)]  # Assuming sample_weights are aligned\n",
        "\n",
        "    # Define study name and storage\n",
        "    study_name = f\"cb_study_{ticker}\"\n",
        "    storage_name = f\"sqlite:///{STUDIES_DIR}/cb_study_{ticker}.db\"\n",
        "\n",
        "    # Check if the study already exists\n",
        "    if study_exists(study_name, storage_name):\n",
        "        study = optuna.load_study(study_name=study_name, storage=storage_name)\n",
        "        print(f\"Loaded existing CatBoost study for {ticker}.\")\n",
        "    else:\n",
        "        study = optuna.create_study(direction='minimize', study_name=study_name, storage=storage_name, load_if_exists=True, pruner=MedianPruner())\n",
        "        print(f\"Created new CatBoost study for {ticker}.\")\n",
        "\n",
        "    # Define the objective function within the loop to capture current X and y\n",
        "    def objective_cb(trial, X=X_stock, y=y_stock, w=w_stock):\n",
        "        param = {\n",
        "            'iterations': trial.suggest_int('iterations', 500, 3000),\n",
        "            'depth': trial.suggest_int('depth', 4, 12),\n",
        "            'learning_rate': trial.suggest_float('learning_rate', 1e-4, 0.3, log=True),\n",
        "            'l2_leaf_reg': trial.suggest_float('l2_leaf_reg', 1, 15),\n",
        "            'random_strength': trial.suggest_float('random_strength', 1, 10),\n",
        "            'bagging_temperature': trial.suggest_float('bagging_temperature', 0, 10),\n",
        "            'od_wait': 50,\n",
        "            'random_seed': 42,\n",
        "            'loss_function': 'RMSE',\n",
        "            'verbose': False\n",
        "        }\n",
        "\n",
        "        model = CatBoostRegressor(**param)\n",
        "        tscv = TimeSeriesSplit(n_splits=3)  # Reduced splits for faster tuning\n",
        "\n",
        "        mse_scores = []\n",
        "        r2_scores = []\n",
        "        all_preds = []\n",
        "        all_true = []\n",
        "\n",
        "        for i, (train_index, test_index) in enumerate(tscv.split(X)):\n",
        "            X_train_fold, X_val_fold = X.iloc[train_index], X.iloc[test_index]\n",
        "            y_train_fold, y_val_fold = y.iloc[train_index], y.iloc[test_index]\n",
        "            w_train_fold, w_val_fold = w[train_index], w[test_index]\n",
        "\n",
        "            # Create Pool with sample weights\n",
        "            train_pool = Pool(X_train_fold, y_train_fold, weight=w_train_fold)\n",
        "\n",
        "            model.fit(train_pool, eval_set=(X_val_fold, y_val_fold), early_stopping_rounds=100, use_best_model=True)\n",
        "            preds = model.predict(X_val_fold)\n",
        "            mse = mean_squared_error(y_val_fold, preds)\n",
        "            r2 = r2_score(y_val_fold, preds)\n",
        "            mse_scores.append(mse)\n",
        "            r2_scores.append(r2)\n",
        "            all_preds.extend(preds)\n",
        "            all_true.extend(y_val_fold)\n",
        "\n",
        "            # Report intermediate objective value\n",
        "            trial.report(mse, i+1)\n",
        "\n",
        "            # Prune trial if not promising\n",
        "            if trial.should_prune():\n",
        "                raise TrialPruned()\n",
        "\n",
        "        # Store the average R² and MAPE as user attributes\n",
        "        trial.set_user_attr(\"r2\", np.mean(r2_scores))\n",
        "        trial.set_user_attr(\"mape\", mean_absolute_percentage_error(all_true, all_preds))\n",
        "        trial.set_user_attr(\"preds\", all_preds)\n",
        "        trial.set_user_attr(\"true\", all_true)\n",
        "\n",
        "        return np.mean(mse_scores)\n",
        "\n",
        "    try:\n",
        "        # Optimize hyperparameters using Optuna\n",
        "        study.optimize(objective_cb, n_trials=N_TRIALS_CB, timeout=1800)  # 30 minutes timeout\n",
        "\n",
        "        best_params = study.best_params\n",
        "        print(f\"Best params for {ticker} (CatBoost): {best_params}\")\n",
        "\n",
        "        # Retrieve the best trial\n",
        "        best_trial = study.best_trial\n",
        "\n",
        "        # Store best RMSE, R², and MAPE\n",
        "        model_performance.append({\n",
        "            'Stock': ticker,\n",
        "            'Model': 'CatBoost',\n",
        "            'RMSE': best_trial.value,  # Mean MSE across folds\n",
        "            'R2': best_trial.user_attrs.get(\"r2\", None),\n",
        "            'MAPE': best_trial.user_attrs.get(\"mape\", None)\n",
        "        })\n",
        "\n",
        "        print(f\"Best RMSE for {ticker}: {best_trial.value}\")\n",
        "        print(f\"Best R² for {ticker}: {best_trial.user_attrs.get('r2', None)}\")\n",
        "        print(f\"Best MAPE for {ticker}: {best_trial.user_attrs.get('mape', None)}\")\n",
        "\n",
        "        # Save best parameters\n",
        "        best_params_dict.setdefault(ticker, {})\n",
        "        best_params_dict[ticker]['CatBoost'] = best_params\n",
        "\n",
        "        # Train the best model on the entire dataset\n",
        "        best_model = CatBoostRegressor(**best_params, loss_function='RMSE', random_seed=42, verbose=False)\n",
        "        train_pool_full = Pool(X_stock, y_stock, weight=w_stock)\n",
        "        best_model.fit(train_pool_full, eval_set=(X_stock, y_stock), use_best_model=True)\n",
        "\n",
        "        # Forecasting: Predict the Target_Return on the last day\n",
        "        latest_features = df[feature_cols].iloc[-1].values.reshape(1, -1)\n",
        "        forecast_return = best_model.predict(latest_features)[0]\n",
        "\n",
        "        # Store the forecast\n",
        "        stock_forecasts.setdefault(ticker, {})\n",
        "        stock_forecasts[ticker]['CatBoost'] = forecast_return\n",
        "\n",
        "        print(f\"Completed CatBoost for {ticker}. Forecast Return: {forecast_return:.4f}%\")\n",
        "\n",
        "    except TrialPruned:\n",
        "        print(f\"CatBoost trial for {ticker} was pruned.\")\n",
        "    except Exception as e:\n",
        "        print(f\"An error occurred while processing CatBoost for {ticker}: {e}\")\n",
        "\n",
        "    # Save the best parameters after each stock\n",
        "    with open(BEST_PARAMS_PATH, 'wb') as f:\n",
        "        pickle.dump(best_params_dict, f)\n",
        "\n",
        "    # Save the forecasts and performance after each stock\n",
        "    with open(FORECASTS_PATH, 'wb') as f:\n",
        "        pickle.dump(stock_forecasts, f)\n",
        "\n",
        "    with open(PERFORMANCE_PATH, 'wb') as f:\n",
        "        pickle.dump(model_performance, f)\n",
        "\n",
        "    print(f\"Saved CatBoost parameters, forecasts, and performance data for {ticker}.\")"
      ]
    },
    {
      "cell_type": "code",
      "source": [
        "#PPG and done"
      ],
      "metadata": {
        "id": "10_Zw2klztVM"
      },
      "execution_count": 12,
      "outputs": []
    },
    {
      "cell_type": "code",
      "source": [],
      "metadata": {
        "id": "p3yc9ZxOvJpl"
      },
      "execution_count": 12,
      "outputs": []
    },
    {
      "cell_type": "code",
      "source": [],
      "metadata": {
        "id": "AovwN956vJ0K"
      },
      "execution_count": 12,
      "outputs": []
    },
    {
      "cell_type": "code",
      "source": [],
      "metadata": {
        "id": "2viEgdtovJ8A"
      },
      "execution_count": 12,
      "outputs": []
    },
    {
      "cell_type": "code",
      "source": [],
      "metadata": {
        "id": "qNsFGX6AvKBN"
      },
      "execution_count": 12,
      "outputs": []
    },
    {
      "cell_type": "code",
      "source": [],
      "metadata": {
        "id": "XJKX_a5WvKEl"
      },
      "execution_count": 12,
      "outputs": []
    },
    {
      "cell_type": "code",
      "source": [],
      "metadata": {
        "id": "wlT8aGsXvKHv"
      },
      "execution_count": 12,
      "outputs": []
    },
    {
      "cell_type": "code",
      "source": [],
      "metadata": {
        "id": "33_BvXM5vKKl"
      },
      "execution_count": 12,
      "outputs": []
    },
    {
      "cell_type": "code",
      "source": [],
      "metadata": {
        "id": "1hqwTGALvKNh"
      },
      "execution_count": 12,
      "outputs": []
    },
    {
      "cell_type": "code",
      "source": [],
      "metadata": {
        "id": "k-6uMmu7vKTt"
      },
      "execution_count": 12,
      "outputs": []
    },
    {
      "cell_type": "code",
      "source": [],
      "metadata": {
        "id": "BI0g62dBvKXW"
      },
      "execution_count": 12,
      "outputs": []
    },
    {
      "cell_type": "code",
      "source": [],
      "metadata": {
        "id": "l60J-SjOvKav"
      },
      "execution_count": 12,
      "outputs": []
    },
    {
      "cell_type": "code",
      "source": [],
      "metadata": {
        "id": "2wyAtm5lvKeY"
      },
      "execution_count": 12,
      "outputs": []
    },
    {
      "cell_type": "code",
      "source": [],
      "metadata": {
        "id": "3Pd8XsuZvKhQ"
      },
      "execution_count": 12,
      "outputs": []
    },
    {
      "cell_type": "code",
      "source": [],
      "metadata": {
        "id": "xaXZmvblvKkL"
      },
      "execution_count": 12,
      "outputs": []
    },
    {
      "cell_type": "code",
      "source": [],
      "metadata": {
        "id": "l-oRQqe2vKnh"
      },
      "execution_count": 12,
      "outputs": []
    },
    {
      "cell_type": "code",
      "source": [],
      "metadata": {
        "id": "fGhl3PSIvKqn"
      },
      "execution_count": 12,
      "outputs": []
    },
    {
      "cell_type": "code",
      "source": [],
      "metadata": {
        "id": "3aexo8LTvKuA"
      },
      "execution_count": 12,
      "outputs": []
    },
    {
      "cell_type": "code",
      "source": [],
      "metadata": {
        "id": "Xvqyfoh5vKw3"
      },
      "execution_count": 12,
      "outputs": []
    },
    {
      "cell_type": "code",
      "execution_count": 13,
      "metadata": {
        "id": "rMl0wPh0et7t",
        "colab": {
          "base_uri": "https://localhost:8080/"
        },
        "outputId": "c44ebf75-5b4a-45cd-a3e6-ba73a1aebba5"
      },
      "outputs": [
        {
          "output_type": "stream",
          "name": "stdout",
          "text": [
            "Total Stocks: 210\n",
            "Number of Adequate Stocks: 204\n",
            "Number of Inadequate Stocks: 6\n",
            "\n",
            "List of Inadequate Stocks:\n",
            "['FTV', 'HPE', 'GDDY', 'KHC', 'TWLO', 'TEAM']\n"
          ]
        }
      ],
      "source": [
        "# %% [markdown]\n",
        "# # 10. Calculate Investment Profits and Allocate Funds\n",
        "#\n",
        "# Calculate expected profits based on model forecasts and allocate investment funds accordingly. Ensure that only adequate stocks are considered.\n",
        "\n",
        "# %%\n",
        "# Identify adequate and inadequate stocks based on performance data\n",
        "all_stocks = list(stock_data.keys())\n",
        "\n",
        "adequate_stocks = []\n",
        "inadequate_stocks = []\n",
        "\n",
        "for stock in all_stocks:\n",
        "    # Check if the stock has a forecast and RMSE\n",
        "    if stock in stock_forecasts and 'CatBoost' in stock_forecasts[stock]:\n",
        "        # Further check if RMSE and R2 are not None (indicating successful processing)\n",
        "        performance = next((item for item in model_performance if item['Stock'] == stock and item['Model'] == 'CatBoost'), None)\n",
        "        if performance and performance['RMSE'] is not None and performance['R2'] is not None:\n",
        "            adequate_stocks.append(stock)\n",
        "        else:\n",
        "            inadequate_stocks.append(stock)\n",
        "    else:\n",
        "        inadequate_stocks.append(stock)\n",
        "\n",
        "print(f\"Total Stocks: {len(all_stocks)}\")\n",
        "print(f\"Number of Adequate Stocks: {len(adequate_stocks)}\")\n",
        "print(f\"Number of Inadequate Stocks: {len(inadequate_stocks)}\")\n",
        "print(\"\\nList of Inadequate Stocks:\")\n",
        "print(inadequate_stocks)"
      ]
    },
    {
      "cell_type": "code",
      "execution_count": 14,
      "metadata": {
        "id": "WYI2GDbbgUyd",
        "colab": {
          "base_uri": "https://localhost:8080/",
          "height": 424
        },
        "outputId": "b4e34b7c-59dd-4ba5-d477-aaf79db30f40"
      },
      "outputs": [
        {
          "output_type": "execute_result",
          "data": {
            "text/plain": [
              "    Stock  Current_Price  Forecasted_Return  Expected_Profit\n",
              "0    BKNG        4943.27               5.45           269.17\n",
              "1    FICO        2332.29               7.52           175.31\n",
              "2    MSTR         270.42              43.95           118.86\n",
              "3    NFLX         795.04              14.72           117.05\n",
              "4     NOW        1008.08              11.48           115.73\n",
              "..    ...            ...                ...              ...\n",
              "199   MTD        1310.03              -3.69           -48.35\n",
              "200  SNPS         561.55              -8.69           -48.78\n",
              "201  AMGN         325.28             -15.37           -50.00\n",
              "202   NOC         528.99              -9.67           -51.15\n",
              "203   UNH         615.81              -9.39           -57.85\n",
              "\n",
              "[204 rows x 4 columns]"
            ],
            "text/html": [
              "\n",
              "  <div id=\"df-9802bfde-0029-43a4-b243-919409b7d3a6\" class=\"colab-df-container\">\n",
              "    <div>\n",
              "<style scoped>\n",
              "    .dataframe tbody tr th:only-of-type {\n",
              "        vertical-align: middle;\n",
              "    }\n",
              "\n",
              "    .dataframe tbody tr th {\n",
              "        vertical-align: top;\n",
              "    }\n",
              "\n",
              "    .dataframe thead th {\n",
              "        text-align: right;\n",
              "    }\n",
              "</style>\n",
              "<table border=\"1\" class=\"dataframe\">\n",
              "  <thead>\n",
              "    <tr style=\"text-align: right;\">\n",
              "      <th></th>\n",
              "      <th>Stock</th>\n",
              "      <th>Current_Price</th>\n",
              "      <th>Forecasted_Return</th>\n",
              "      <th>Expected_Profit</th>\n",
              "    </tr>\n",
              "  </thead>\n",
              "  <tbody>\n",
              "    <tr>\n",
              "      <th>0</th>\n",
              "      <td>BKNG</td>\n",
              "      <td>4943.27</td>\n",
              "      <td>5.45</td>\n",
              "      <td>269.17</td>\n",
              "    </tr>\n",
              "    <tr>\n",
              "      <th>1</th>\n",
              "      <td>FICO</td>\n",
              "      <td>2332.29</td>\n",
              "      <td>7.52</td>\n",
              "      <td>175.31</td>\n",
              "    </tr>\n",
              "    <tr>\n",
              "      <th>2</th>\n",
              "      <td>MSTR</td>\n",
              "      <td>270.42</td>\n",
              "      <td>43.95</td>\n",
              "      <td>118.86</td>\n",
              "    </tr>\n",
              "    <tr>\n",
              "      <th>3</th>\n",
              "      <td>NFLX</td>\n",
              "      <td>795.04</td>\n",
              "      <td>14.72</td>\n",
              "      <td>117.05</td>\n",
              "    </tr>\n",
              "    <tr>\n",
              "      <th>4</th>\n",
              "      <td>NOW</td>\n",
              "      <td>1008.08</td>\n",
              "      <td>11.48</td>\n",
              "      <td>115.73</td>\n",
              "    </tr>\n",
              "    <tr>\n",
              "      <th>...</th>\n",
              "      <td>...</td>\n",
              "      <td>...</td>\n",
              "      <td>...</td>\n",
              "      <td>...</td>\n",
              "    </tr>\n",
              "    <tr>\n",
              "      <th>199</th>\n",
              "      <td>MTD</td>\n",
              "      <td>1310.03</td>\n",
              "      <td>-3.69</td>\n",
              "      <td>-48.35</td>\n",
              "    </tr>\n",
              "    <tr>\n",
              "      <th>200</th>\n",
              "      <td>SNPS</td>\n",
              "      <td>561.55</td>\n",
              "      <td>-8.69</td>\n",
              "      <td>-48.78</td>\n",
              "    </tr>\n",
              "    <tr>\n",
              "      <th>201</th>\n",
              "      <td>AMGN</td>\n",
              "      <td>325.28</td>\n",
              "      <td>-15.37</td>\n",
              "      <td>-50.00</td>\n",
              "    </tr>\n",
              "    <tr>\n",
              "      <th>202</th>\n",
              "      <td>NOC</td>\n",
              "      <td>528.99</td>\n",
              "      <td>-9.67</td>\n",
              "      <td>-51.15</td>\n",
              "    </tr>\n",
              "    <tr>\n",
              "      <th>203</th>\n",
              "      <td>UNH</td>\n",
              "      <td>615.81</td>\n",
              "      <td>-9.39</td>\n",
              "      <td>-57.85</td>\n",
              "    </tr>\n",
              "  </tbody>\n",
              "</table>\n",
              "<p>204 rows × 4 columns</p>\n",
              "</div>\n",
              "    <div class=\"colab-df-buttons\">\n",
              "\n",
              "  <div class=\"colab-df-container\">\n",
              "    <button class=\"colab-df-convert\" onclick=\"convertToInteractive('df-9802bfde-0029-43a4-b243-919409b7d3a6')\"\n",
              "            title=\"Convert this dataframe to an interactive table.\"\n",
              "            style=\"display:none;\">\n",
              "\n",
              "  <svg xmlns=\"http://www.w3.org/2000/svg\" height=\"24px\" viewBox=\"0 -960 960 960\">\n",
              "    <path d=\"M120-120v-720h720v720H120Zm60-500h600v-160H180v160Zm220 220h160v-160H400v160Zm0 220h160v-160H400v160ZM180-400h160v-160H180v160Zm440 0h160v-160H620v160ZM180-180h160v-160H180v160Zm440 0h160v-160H620v160Z\"/>\n",
              "  </svg>\n",
              "    </button>\n",
              "\n",
              "  <style>\n",
              "    .colab-df-container {\n",
              "      display:flex;\n",
              "      gap: 12px;\n",
              "    }\n",
              "\n",
              "    .colab-df-convert {\n",
              "      background-color: #E8F0FE;\n",
              "      border: none;\n",
              "      border-radius: 50%;\n",
              "      cursor: pointer;\n",
              "      display: none;\n",
              "      fill: #1967D2;\n",
              "      height: 32px;\n",
              "      padding: 0 0 0 0;\n",
              "      width: 32px;\n",
              "    }\n",
              "\n",
              "    .colab-df-convert:hover {\n",
              "      background-color: #E2EBFA;\n",
              "      box-shadow: 0px 1px 2px rgba(60, 64, 67, 0.3), 0px 1px 3px 1px rgba(60, 64, 67, 0.15);\n",
              "      fill: #174EA6;\n",
              "    }\n",
              "\n",
              "    .colab-df-buttons div {\n",
              "      margin-bottom: 4px;\n",
              "    }\n",
              "\n",
              "    [theme=dark] .colab-df-convert {\n",
              "      background-color: #3B4455;\n",
              "      fill: #D2E3FC;\n",
              "    }\n",
              "\n",
              "    [theme=dark] .colab-df-convert:hover {\n",
              "      background-color: #434B5C;\n",
              "      box-shadow: 0px 1px 3px 1px rgba(0, 0, 0, 0.15);\n",
              "      filter: drop-shadow(0px 1px 2px rgba(0, 0, 0, 0.3));\n",
              "      fill: #FFFFFF;\n",
              "    }\n",
              "  </style>\n",
              "\n",
              "    <script>\n",
              "      const buttonEl =\n",
              "        document.querySelector('#df-9802bfde-0029-43a4-b243-919409b7d3a6 button.colab-df-convert');\n",
              "      buttonEl.style.display =\n",
              "        google.colab.kernel.accessAllowed ? 'block' : 'none';\n",
              "\n",
              "      async function convertToInteractive(key) {\n",
              "        const element = document.querySelector('#df-9802bfde-0029-43a4-b243-919409b7d3a6');\n",
              "        const dataTable =\n",
              "          await google.colab.kernel.invokeFunction('convertToInteractive',\n",
              "                                                    [key], {});\n",
              "        if (!dataTable) return;\n",
              "\n",
              "        const docLinkHtml = 'Like what you see? Visit the ' +\n",
              "          '<a target=\"_blank\" href=https://colab.research.google.com/notebooks/data_table.ipynb>data table notebook</a>'\n",
              "          + ' to learn more about interactive tables.';\n",
              "        element.innerHTML = '';\n",
              "        dataTable['output_type'] = 'display_data';\n",
              "        await google.colab.output.renderOutput(dataTable, element);\n",
              "        const docLink = document.createElement('div');\n",
              "        docLink.innerHTML = docLinkHtml;\n",
              "        element.appendChild(docLink);\n",
              "      }\n",
              "    </script>\n",
              "  </div>\n",
              "\n",
              "\n",
              "<div id=\"df-a177505f-6968-4003-a4a5-83eb4177dfdb\">\n",
              "  <button class=\"colab-df-quickchart\" onclick=\"quickchart('df-a177505f-6968-4003-a4a5-83eb4177dfdb')\"\n",
              "            title=\"Suggest charts\"\n",
              "            style=\"display:none;\">\n",
              "\n",
              "<svg xmlns=\"http://www.w3.org/2000/svg\" height=\"24px\"viewBox=\"0 0 24 24\"\n",
              "     width=\"24px\">\n",
              "    <g>\n",
              "        <path d=\"M19 3H5c-1.1 0-2 .9-2 2v14c0 1.1.9 2 2 2h14c1.1 0 2-.9 2-2V5c0-1.1-.9-2-2-2zM9 17H7v-7h2v7zm4 0h-2V7h2v10zm4 0h-2v-4h2v4z\"/>\n",
              "    </g>\n",
              "</svg>\n",
              "  </button>\n",
              "\n",
              "<style>\n",
              "  .colab-df-quickchart {\n",
              "      --bg-color: #E8F0FE;\n",
              "      --fill-color: #1967D2;\n",
              "      --hover-bg-color: #E2EBFA;\n",
              "      --hover-fill-color: #174EA6;\n",
              "      --disabled-fill-color: #AAA;\n",
              "      --disabled-bg-color: #DDD;\n",
              "  }\n",
              "\n",
              "  [theme=dark] .colab-df-quickchart {\n",
              "      --bg-color: #3B4455;\n",
              "      --fill-color: #D2E3FC;\n",
              "      --hover-bg-color: #434B5C;\n",
              "      --hover-fill-color: #FFFFFF;\n",
              "      --disabled-bg-color: #3B4455;\n",
              "      --disabled-fill-color: #666;\n",
              "  }\n",
              "\n",
              "  .colab-df-quickchart {\n",
              "    background-color: var(--bg-color);\n",
              "    border: none;\n",
              "    border-radius: 50%;\n",
              "    cursor: pointer;\n",
              "    display: none;\n",
              "    fill: var(--fill-color);\n",
              "    height: 32px;\n",
              "    padding: 0;\n",
              "    width: 32px;\n",
              "  }\n",
              "\n",
              "  .colab-df-quickchart:hover {\n",
              "    background-color: var(--hover-bg-color);\n",
              "    box-shadow: 0 1px 2px rgba(60, 64, 67, 0.3), 0 1px 3px 1px rgba(60, 64, 67, 0.15);\n",
              "    fill: var(--button-hover-fill-color);\n",
              "  }\n",
              "\n",
              "  .colab-df-quickchart-complete:disabled,\n",
              "  .colab-df-quickchart-complete:disabled:hover {\n",
              "    background-color: var(--disabled-bg-color);\n",
              "    fill: var(--disabled-fill-color);\n",
              "    box-shadow: none;\n",
              "  }\n",
              "\n",
              "  .colab-df-spinner {\n",
              "    border: 2px solid var(--fill-color);\n",
              "    border-color: transparent;\n",
              "    border-bottom-color: var(--fill-color);\n",
              "    animation:\n",
              "      spin 1s steps(1) infinite;\n",
              "  }\n",
              "\n",
              "  @keyframes spin {\n",
              "    0% {\n",
              "      border-color: transparent;\n",
              "      border-bottom-color: var(--fill-color);\n",
              "      border-left-color: var(--fill-color);\n",
              "    }\n",
              "    20% {\n",
              "      border-color: transparent;\n",
              "      border-left-color: var(--fill-color);\n",
              "      border-top-color: var(--fill-color);\n",
              "    }\n",
              "    30% {\n",
              "      border-color: transparent;\n",
              "      border-left-color: var(--fill-color);\n",
              "      border-top-color: var(--fill-color);\n",
              "      border-right-color: var(--fill-color);\n",
              "    }\n",
              "    40% {\n",
              "      border-color: transparent;\n",
              "      border-right-color: var(--fill-color);\n",
              "      border-top-color: var(--fill-color);\n",
              "    }\n",
              "    60% {\n",
              "      border-color: transparent;\n",
              "      border-right-color: var(--fill-color);\n",
              "    }\n",
              "    80% {\n",
              "      border-color: transparent;\n",
              "      border-right-color: var(--fill-color);\n",
              "      border-bottom-color: var(--fill-color);\n",
              "    }\n",
              "    90% {\n",
              "      border-color: transparent;\n",
              "      border-bottom-color: var(--fill-color);\n",
              "    }\n",
              "  }\n",
              "</style>\n",
              "\n",
              "  <script>\n",
              "    async function quickchart(key) {\n",
              "      const quickchartButtonEl =\n",
              "        document.querySelector('#' + key + ' button');\n",
              "      quickchartButtonEl.disabled = true;  // To prevent multiple clicks.\n",
              "      quickchartButtonEl.classList.add('colab-df-spinner');\n",
              "      try {\n",
              "        const charts = await google.colab.kernel.invokeFunction(\n",
              "            'suggestCharts', [key], {});\n",
              "      } catch (error) {\n",
              "        console.error('Error during call to suggestCharts:', error);\n",
              "      }\n",
              "      quickchartButtonEl.classList.remove('colab-df-spinner');\n",
              "      quickchartButtonEl.classList.add('colab-df-quickchart-complete');\n",
              "    }\n",
              "    (() => {\n",
              "      let quickchartButtonEl =\n",
              "        document.querySelector('#df-a177505f-6968-4003-a4a5-83eb4177dfdb button');\n",
              "      quickchartButtonEl.style.display =\n",
              "        google.colab.kernel.accessAllowed ? 'block' : 'none';\n",
              "    })();\n",
              "  </script>\n",
              "</div>\n",
              "\n",
              "  <div id=\"id_ab80e0e6-c3cf-40a6-8fc3-734b2abb5ab8\">\n",
              "    <style>\n",
              "      .colab-df-generate {\n",
              "        background-color: #E8F0FE;\n",
              "        border: none;\n",
              "        border-radius: 50%;\n",
              "        cursor: pointer;\n",
              "        display: none;\n",
              "        fill: #1967D2;\n",
              "        height: 32px;\n",
              "        padding: 0 0 0 0;\n",
              "        width: 32px;\n",
              "      }\n",
              "\n",
              "      .colab-df-generate:hover {\n",
              "        background-color: #E2EBFA;\n",
              "        box-shadow: 0px 1px 2px rgba(60, 64, 67, 0.3), 0px 1px 3px 1px rgba(60, 64, 67, 0.15);\n",
              "        fill: #174EA6;\n",
              "      }\n",
              "\n",
              "      [theme=dark] .colab-df-generate {\n",
              "        background-color: #3B4455;\n",
              "        fill: #D2E3FC;\n",
              "      }\n",
              "\n",
              "      [theme=dark] .colab-df-generate:hover {\n",
              "        background-color: #434B5C;\n",
              "        box-shadow: 0px 1px 3px 1px rgba(0, 0, 0, 0.15);\n",
              "        filter: drop-shadow(0px 1px 2px rgba(0, 0, 0, 0.3));\n",
              "        fill: #FFFFFF;\n",
              "      }\n",
              "    </style>\n",
              "    <button class=\"colab-df-generate\" onclick=\"generateWithVariable('profit_df')\"\n",
              "            title=\"Generate code using this dataframe.\"\n",
              "            style=\"display:none;\">\n",
              "\n",
              "  <svg xmlns=\"http://www.w3.org/2000/svg\" height=\"24px\"viewBox=\"0 0 24 24\"\n",
              "       width=\"24px\">\n",
              "    <path d=\"M7,19H8.4L18.45,9,17,7.55,7,17.6ZM5,21V16.75L18.45,3.32a2,2,0,0,1,2.83,0l1.4,1.43a1.91,1.91,0,0,1,.58,1.4,1.91,1.91,0,0,1-.58,1.4L9.25,21ZM18.45,9,17,7.55Zm-12,3A5.31,5.31,0,0,0,4.9,8.1,5.31,5.31,0,0,0,1,6.5,5.31,5.31,0,0,0,4.9,4.9,5.31,5.31,0,0,0,6.5,1,5.31,5.31,0,0,0,8.1,4.9,5.31,5.31,0,0,0,12,6.5,5.46,5.46,0,0,0,6.5,12Z\"/>\n",
              "  </svg>\n",
              "    </button>\n",
              "    <script>\n",
              "      (() => {\n",
              "      const buttonEl =\n",
              "        document.querySelector('#id_ab80e0e6-c3cf-40a6-8fc3-734b2abb5ab8 button.colab-df-generate');\n",
              "      buttonEl.style.display =\n",
              "        google.colab.kernel.accessAllowed ? 'block' : 'none';\n",
              "\n",
              "      buttonEl.onclick = () => {\n",
              "        google.colab.notebook.generateWithVariable('profit_df');\n",
              "      }\n",
              "      })();\n",
              "    </script>\n",
              "  </div>\n",
              "\n",
              "    </div>\n",
              "  </div>\n"
            ],
            "application/vnd.google.colaboratory.intrinsic+json": {
              "type": "dataframe",
              "variable_name": "profit_df",
              "summary": "{\n  \"name\": \"profit_df\",\n  \"rows\": 204,\n  \"fields\": [\n    {\n      \"column\": \"Stock\",\n      \"properties\": {\n        \"dtype\": \"string\",\n        \"num_unique_values\": 204,\n        \"samples\": [\n          \"CMI\",\n          \"DE\",\n          \"TSCO\"\n        ],\n        \"semantic_type\": \"\",\n        \"description\": \"\"\n      }\n    },\n    {\n      \"column\": \"Current_Price\",\n      \"properties\": {\n        \"dtype\": \"number\",\n        \"std\": 437.3928798889396,\n        \"min\": 9.18,\n        \"max\": 4943.27,\n        \"num_unique_values\": 204,\n        \"samples\": [\n          356.46,\n          394.06,\n          288.56\n        ],\n        \"semantic_type\": \"\",\n        \"description\": \"\"\n      }\n    },\n    {\n      \"column\": \"Forecasted_Return\",\n      \"properties\": {\n        \"dtype\": \"number\",\n        \"std\": 6.696374659804235,\n        \"min\": -15.92,\n        \"max\": 43.95,\n        \"num_unique_values\": 197,\n        \"samples\": [\n          -2.93,\n          -0.12,\n          5.25\n        ],\n        \"semantic_type\": \"\",\n        \"description\": \"\"\n      }\n    },\n    {\n      \"column\": \"Expected_Profit\",\n      \"properties\": {\n        \"dtype\": \"number\",\n        \"std\": 31.767039724928004,\n        \"min\": -57.85,\n        \"max\": 269.17,\n        \"num_unique_values\": 195,\n        \"samples\": [\n          -2.64,\n          22.2,\n          -6.51\n        ],\n        \"semantic_type\": \"\",\n        \"description\": \"\"\n      }\n    }\n  ]\n}"
            }
          },
          "metadata": {},
          "execution_count": 14
        }
      ],
      "source": [
        "# %%\n",
        "# Initialize a list to store profit calculations\n",
        "profit_list = []\n",
        "\n",
        "for stock in adequate_stocks:\n",
        "    try:\n",
        "        # Retrieve the forecasted return\n",
        "        forecast_return = stock_forecasts[stock]['CatBoost']\n",
        "\n",
        "        # Get the current Close price (last available in the DataFrame)\n",
        "        current_price = stock_data[stock]['Day_Close_Price'].iloc[-1]\n",
        "\n",
        "        # Calculate the expected return in GBP\n",
        "        expected_profit = (forecast_return / 100) * current_price\n",
        "\n",
        "        # Append a dictionary to the list\n",
        "        profit_list.append({\n",
        "            'Stock': stock,\n",
        "            'Current_Price': round(current_price, 2),\n",
        "            'Forecasted_Return': round(forecast_return, 2),\n",
        "            'Expected_Profit': round(expected_profit, 2)\n",
        "        })\n",
        "    except Exception as e:\n",
        "        print(f\"Error processing stock {stock}: {e}\")\n",
        "        # Optionally, log the error or mark the stock as inadequate\n",
        "        inadequate_stocks.append(stock)\n",
        "\n",
        "# Convert the list of dictionaries to a DataFrame\n",
        "profit_df = pd.DataFrame(profit_list)\n",
        "\n",
        "# Sort the DataFrame by Expected Profit in descending order (higher profit is better)\n",
        "profit_df.sort_values(by='Expected_Profit', ascending=False, inplace=True)\n",
        "\n",
        "# Reset index\n",
        "profit_df.reset_index(drop=True, inplace=True)\n",
        "\n",
        "# Display the profit DataFrame\n",
        "profit_df"
      ]
    },
    {
      "cell_type": "code",
      "execution_count": 15,
      "metadata": {
        "id": "VzgHbPKBgXNY",
        "colab": {
          "base_uri": "https://localhost:8080/",
          "height": 424
        },
        "outputId": "a189cb9e-fbfb-400b-c7a2-b4469f72f7c1"
      },
      "outputs": [
        {
          "output_type": "execute_result",
          "data": {
            "text/plain": [
              "    Stock  Current_Price  Forecasted_Return  Expected_Profit  Investment  \\\n",
              "0    BKNG        4943.27               5.45           269.17        9.38   \n",
              "1    FICO        2332.29               7.52           175.31        6.11   \n",
              "2    MSTR         270.42              43.95           118.86        4.14   \n",
              "3    NFLX         795.04              14.72           117.05        4.08   \n",
              "4     NOW        1008.08              11.48           115.73        4.03   \n",
              "..    ...            ...                ...              ...         ...   \n",
              "199   MTD        1310.03              -3.69           -48.35       -1.68   \n",
              "200  SNPS         561.55              -8.69           -48.78       -1.70   \n",
              "201  AMGN         325.28             -15.37           -50.00       -1.74   \n",
              "202   NOC         528.99              -9.67           -51.15       -1.78   \n",
              "203   UNH         615.81              -9.39           -57.85       -2.02   \n",
              "\n",
              "     Number_of_Shares  Allocated_Profit  \n",
              "0                0.00              0.01  \n",
              "1                0.00              0.02  \n",
              "2                0.02              0.67  \n",
              "3                0.01              0.08  \n",
              "4                0.00              0.05  \n",
              "..                ...               ...  \n",
              "199             -0.00              0.00  \n",
              "200             -0.00              0.03  \n",
              "201             -0.01              0.08  \n",
              "202             -0.00              0.03  \n",
              "203             -0.00              0.03  \n",
              "\n",
              "[204 rows x 7 columns]"
            ],
            "text/html": [
              "\n",
              "  <div id=\"df-5989a91f-7c4d-4e22-9e1a-ba0825c3c2d7\" class=\"colab-df-container\">\n",
              "    <div>\n",
              "<style scoped>\n",
              "    .dataframe tbody tr th:only-of-type {\n",
              "        vertical-align: middle;\n",
              "    }\n",
              "\n",
              "    .dataframe tbody tr th {\n",
              "        vertical-align: top;\n",
              "    }\n",
              "\n",
              "    .dataframe thead th {\n",
              "        text-align: right;\n",
              "    }\n",
              "</style>\n",
              "<table border=\"1\" class=\"dataframe\">\n",
              "  <thead>\n",
              "    <tr style=\"text-align: right;\">\n",
              "      <th></th>\n",
              "      <th>Stock</th>\n",
              "      <th>Current_Price</th>\n",
              "      <th>Forecasted_Return</th>\n",
              "      <th>Expected_Profit</th>\n",
              "      <th>Investment</th>\n",
              "      <th>Number_of_Shares</th>\n",
              "      <th>Allocated_Profit</th>\n",
              "    </tr>\n",
              "  </thead>\n",
              "  <tbody>\n",
              "    <tr>\n",
              "      <th>0</th>\n",
              "      <td>BKNG</td>\n",
              "      <td>4943.27</td>\n",
              "      <td>5.45</td>\n",
              "      <td>269.17</td>\n",
              "      <td>9.38</td>\n",
              "      <td>0.00</td>\n",
              "      <td>0.01</td>\n",
              "    </tr>\n",
              "    <tr>\n",
              "      <th>1</th>\n",
              "      <td>FICO</td>\n",
              "      <td>2332.29</td>\n",
              "      <td>7.52</td>\n",
              "      <td>175.31</td>\n",
              "      <td>6.11</td>\n",
              "      <td>0.00</td>\n",
              "      <td>0.02</td>\n",
              "    </tr>\n",
              "    <tr>\n",
              "      <th>2</th>\n",
              "      <td>MSTR</td>\n",
              "      <td>270.42</td>\n",
              "      <td>43.95</td>\n",
              "      <td>118.86</td>\n",
              "      <td>4.14</td>\n",
              "      <td>0.02</td>\n",
              "      <td>0.67</td>\n",
              "    </tr>\n",
              "    <tr>\n",
              "      <th>3</th>\n",
              "      <td>NFLX</td>\n",
              "      <td>795.04</td>\n",
              "      <td>14.72</td>\n",
              "      <td>117.05</td>\n",
              "      <td>4.08</td>\n",
              "      <td>0.01</td>\n",
              "      <td>0.08</td>\n",
              "    </tr>\n",
              "    <tr>\n",
              "      <th>4</th>\n",
              "      <td>NOW</td>\n",
              "      <td>1008.08</td>\n",
              "      <td>11.48</td>\n",
              "      <td>115.73</td>\n",
              "      <td>4.03</td>\n",
              "      <td>0.00</td>\n",
              "      <td>0.05</td>\n",
              "    </tr>\n",
              "    <tr>\n",
              "      <th>...</th>\n",
              "      <td>...</td>\n",
              "      <td>...</td>\n",
              "      <td>...</td>\n",
              "      <td>...</td>\n",
              "      <td>...</td>\n",
              "      <td>...</td>\n",
              "      <td>...</td>\n",
              "    </tr>\n",
              "    <tr>\n",
              "      <th>199</th>\n",
              "      <td>MTD</td>\n",
              "      <td>1310.03</td>\n",
              "      <td>-3.69</td>\n",
              "      <td>-48.35</td>\n",
              "      <td>-1.68</td>\n",
              "      <td>-0.00</td>\n",
              "      <td>0.00</td>\n",
              "    </tr>\n",
              "    <tr>\n",
              "      <th>200</th>\n",
              "      <td>SNPS</td>\n",
              "      <td>561.55</td>\n",
              "      <td>-8.69</td>\n",
              "      <td>-48.78</td>\n",
              "      <td>-1.70</td>\n",
              "      <td>-0.00</td>\n",
              "      <td>0.03</td>\n",
              "    </tr>\n",
              "    <tr>\n",
              "      <th>201</th>\n",
              "      <td>AMGN</td>\n",
              "      <td>325.28</td>\n",
              "      <td>-15.37</td>\n",
              "      <td>-50.00</td>\n",
              "      <td>-1.74</td>\n",
              "      <td>-0.01</td>\n",
              "      <td>0.08</td>\n",
              "    </tr>\n",
              "    <tr>\n",
              "      <th>202</th>\n",
              "      <td>NOC</td>\n",
              "      <td>528.99</td>\n",
              "      <td>-9.67</td>\n",
              "      <td>-51.15</td>\n",
              "      <td>-1.78</td>\n",
              "      <td>-0.00</td>\n",
              "      <td>0.03</td>\n",
              "    </tr>\n",
              "    <tr>\n",
              "      <th>203</th>\n",
              "      <td>UNH</td>\n",
              "      <td>615.81</td>\n",
              "      <td>-9.39</td>\n",
              "      <td>-57.85</td>\n",
              "      <td>-2.02</td>\n",
              "      <td>-0.00</td>\n",
              "      <td>0.03</td>\n",
              "    </tr>\n",
              "  </tbody>\n",
              "</table>\n",
              "<p>204 rows × 7 columns</p>\n",
              "</div>\n",
              "    <div class=\"colab-df-buttons\">\n",
              "\n",
              "  <div class=\"colab-df-container\">\n",
              "    <button class=\"colab-df-convert\" onclick=\"convertToInteractive('df-5989a91f-7c4d-4e22-9e1a-ba0825c3c2d7')\"\n",
              "            title=\"Convert this dataframe to an interactive table.\"\n",
              "            style=\"display:none;\">\n",
              "\n",
              "  <svg xmlns=\"http://www.w3.org/2000/svg\" height=\"24px\" viewBox=\"0 -960 960 960\">\n",
              "    <path d=\"M120-120v-720h720v720H120Zm60-500h600v-160H180v160Zm220 220h160v-160H400v160Zm0 220h160v-160H400v160ZM180-400h160v-160H180v160Zm440 0h160v-160H620v160ZM180-180h160v-160H180v160Zm440 0h160v-160H620v160Z\"/>\n",
              "  </svg>\n",
              "    </button>\n",
              "\n",
              "  <style>\n",
              "    .colab-df-container {\n",
              "      display:flex;\n",
              "      gap: 12px;\n",
              "    }\n",
              "\n",
              "    .colab-df-convert {\n",
              "      background-color: #E8F0FE;\n",
              "      border: none;\n",
              "      border-radius: 50%;\n",
              "      cursor: pointer;\n",
              "      display: none;\n",
              "      fill: #1967D2;\n",
              "      height: 32px;\n",
              "      padding: 0 0 0 0;\n",
              "      width: 32px;\n",
              "    }\n",
              "\n",
              "    .colab-df-convert:hover {\n",
              "      background-color: #E2EBFA;\n",
              "      box-shadow: 0px 1px 2px rgba(60, 64, 67, 0.3), 0px 1px 3px 1px rgba(60, 64, 67, 0.15);\n",
              "      fill: #174EA6;\n",
              "    }\n",
              "\n",
              "    .colab-df-buttons div {\n",
              "      margin-bottom: 4px;\n",
              "    }\n",
              "\n",
              "    [theme=dark] .colab-df-convert {\n",
              "      background-color: #3B4455;\n",
              "      fill: #D2E3FC;\n",
              "    }\n",
              "\n",
              "    [theme=dark] .colab-df-convert:hover {\n",
              "      background-color: #434B5C;\n",
              "      box-shadow: 0px 1px 3px 1px rgba(0, 0, 0, 0.15);\n",
              "      filter: drop-shadow(0px 1px 2px rgba(0, 0, 0, 0.3));\n",
              "      fill: #FFFFFF;\n",
              "    }\n",
              "  </style>\n",
              "\n",
              "    <script>\n",
              "      const buttonEl =\n",
              "        document.querySelector('#df-5989a91f-7c4d-4e22-9e1a-ba0825c3c2d7 button.colab-df-convert');\n",
              "      buttonEl.style.display =\n",
              "        google.colab.kernel.accessAllowed ? 'block' : 'none';\n",
              "\n",
              "      async function convertToInteractive(key) {\n",
              "        const element = document.querySelector('#df-5989a91f-7c4d-4e22-9e1a-ba0825c3c2d7');\n",
              "        const dataTable =\n",
              "          await google.colab.kernel.invokeFunction('convertToInteractive',\n",
              "                                                    [key], {});\n",
              "        if (!dataTable) return;\n",
              "\n",
              "        const docLinkHtml = 'Like what you see? Visit the ' +\n",
              "          '<a target=\"_blank\" href=https://colab.research.google.com/notebooks/data_table.ipynb>data table notebook</a>'\n",
              "          + ' to learn more about interactive tables.';\n",
              "        element.innerHTML = '';\n",
              "        dataTable['output_type'] = 'display_data';\n",
              "        await google.colab.output.renderOutput(dataTable, element);\n",
              "        const docLink = document.createElement('div');\n",
              "        docLink.innerHTML = docLinkHtml;\n",
              "        element.appendChild(docLink);\n",
              "      }\n",
              "    </script>\n",
              "  </div>\n",
              "\n",
              "\n",
              "<div id=\"df-879f8f93-e3a8-4d2b-af9d-5b6f6a630047\">\n",
              "  <button class=\"colab-df-quickchart\" onclick=\"quickchart('df-879f8f93-e3a8-4d2b-af9d-5b6f6a630047')\"\n",
              "            title=\"Suggest charts\"\n",
              "            style=\"display:none;\">\n",
              "\n",
              "<svg xmlns=\"http://www.w3.org/2000/svg\" height=\"24px\"viewBox=\"0 0 24 24\"\n",
              "     width=\"24px\">\n",
              "    <g>\n",
              "        <path d=\"M19 3H5c-1.1 0-2 .9-2 2v14c0 1.1.9 2 2 2h14c1.1 0 2-.9 2-2V5c0-1.1-.9-2-2-2zM9 17H7v-7h2v7zm4 0h-2V7h2v10zm4 0h-2v-4h2v4z\"/>\n",
              "    </g>\n",
              "</svg>\n",
              "  </button>\n",
              "\n",
              "<style>\n",
              "  .colab-df-quickchart {\n",
              "      --bg-color: #E8F0FE;\n",
              "      --fill-color: #1967D2;\n",
              "      --hover-bg-color: #E2EBFA;\n",
              "      --hover-fill-color: #174EA6;\n",
              "      --disabled-fill-color: #AAA;\n",
              "      --disabled-bg-color: #DDD;\n",
              "  }\n",
              "\n",
              "  [theme=dark] .colab-df-quickchart {\n",
              "      --bg-color: #3B4455;\n",
              "      --fill-color: #D2E3FC;\n",
              "      --hover-bg-color: #434B5C;\n",
              "      --hover-fill-color: #FFFFFF;\n",
              "      --disabled-bg-color: #3B4455;\n",
              "      --disabled-fill-color: #666;\n",
              "  }\n",
              "\n",
              "  .colab-df-quickchart {\n",
              "    background-color: var(--bg-color);\n",
              "    border: none;\n",
              "    border-radius: 50%;\n",
              "    cursor: pointer;\n",
              "    display: none;\n",
              "    fill: var(--fill-color);\n",
              "    height: 32px;\n",
              "    padding: 0;\n",
              "    width: 32px;\n",
              "  }\n",
              "\n",
              "  .colab-df-quickchart:hover {\n",
              "    background-color: var(--hover-bg-color);\n",
              "    box-shadow: 0 1px 2px rgba(60, 64, 67, 0.3), 0 1px 3px 1px rgba(60, 64, 67, 0.15);\n",
              "    fill: var(--button-hover-fill-color);\n",
              "  }\n",
              "\n",
              "  .colab-df-quickchart-complete:disabled,\n",
              "  .colab-df-quickchart-complete:disabled:hover {\n",
              "    background-color: var(--disabled-bg-color);\n",
              "    fill: var(--disabled-fill-color);\n",
              "    box-shadow: none;\n",
              "  }\n",
              "\n",
              "  .colab-df-spinner {\n",
              "    border: 2px solid var(--fill-color);\n",
              "    border-color: transparent;\n",
              "    border-bottom-color: var(--fill-color);\n",
              "    animation:\n",
              "      spin 1s steps(1) infinite;\n",
              "  }\n",
              "\n",
              "  @keyframes spin {\n",
              "    0% {\n",
              "      border-color: transparent;\n",
              "      border-bottom-color: var(--fill-color);\n",
              "      border-left-color: var(--fill-color);\n",
              "    }\n",
              "    20% {\n",
              "      border-color: transparent;\n",
              "      border-left-color: var(--fill-color);\n",
              "      border-top-color: var(--fill-color);\n",
              "    }\n",
              "    30% {\n",
              "      border-color: transparent;\n",
              "      border-left-color: var(--fill-color);\n",
              "      border-top-color: var(--fill-color);\n",
              "      border-right-color: var(--fill-color);\n",
              "    }\n",
              "    40% {\n",
              "      border-color: transparent;\n",
              "      border-right-color: var(--fill-color);\n",
              "      border-top-color: var(--fill-color);\n",
              "    }\n",
              "    60% {\n",
              "      border-color: transparent;\n",
              "      border-right-color: var(--fill-color);\n",
              "    }\n",
              "    80% {\n",
              "      border-color: transparent;\n",
              "      border-right-color: var(--fill-color);\n",
              "      border-bottom-color: var(--fill-color);\n",
              "    }\n",
              "    90% {\n",
              "      border-color: transparent;\n",
              "      border-bottom-color: var(--fill-color);\n",
              "    }\n",
              "  }\n",
              "</style>\n",
              "\n",
              "  <script>\n",
              "    async function quickchart(key) {\n",
              "      const quickchartButtonEl =\n",
              "        document.querySelector('#' + key + ' button');\n",
              "      quickchartButtonEl.disabled = true;  // To prevent multiple clicks.\n",
              "      quickchartButtonEl.classList.add('colab-df-spinner');\n",
              "      try {\n",
              "        const charts = await google.colab.kernel.invokeFunction(\n",
              "            'suggestCharts', [key], {});\n",
              "      } catch (error) {\n",
              "        console.error('Error during call to suggestCharts:', error);\n",
              "      }\n",
              "      quickchartButtonEl.classList.remove('colab-df-spinner');\n",
              "      quickchartButtonEl.classList.add('colab-df-quickchart-complete');\n",
              "    }\n",
              "    (() => {\n",
              "      let quickchartButtonEl =\n",
              "        document.querySelector('#df-879f8f93-e3a8-4d2b-af9d-5b6f6a630047 button');\n",
              "      quickchartButtonEl.style.display =\n",
              "        google.colab.kernel.accessAllowed ? 'block' : 'none';\n",
              "    })();\n",
              "  </script>\n",
              "</div>\n",
              "\n",
              "    </div>\n",
              "  </div>\n"
            ],
            "application/vnd.google.colaboratory.intrinsic+json": {
              "type": "dataframe",
              "summary": "{\n  \"name\": \"profit_df[['Stock', 'Current_Price', 'Forecasted_Return', 'Expected_Profit', 'Investment', 'Number_of_Shares', 'Allocated_Profit']]\",\n  \"rows\": 204,\n  \"fields\": [\n    {\n      \"column\": \"Stock\",\n      \"properties\": {\n        \"dtype\": \"string\",\n        \"num_unique_values\": 204,\n        \"samples\": [\n          \"CMI\",\n          \"DE\",\n          \"TSCO\"\n        ],\n        \"semantic_type\": \"\",\n        \"description\": \"\"\n      }\n    },\n    {\n      \"column\": \"Current_Price\",\n      \"properties\": {\n        \"dtype\": \"number\",\n        \"std\": 437.3928798889396,\n        \"min\": 9.18,\n        \"max\": 4943.27,\n        \"num_unique_values\": 204,\n        \"samples\": [\n          356.46,\n          394.06,\n          288.56\n        ],\n        \"semantic_type\": \"\",\n        \"description\": \"\"\n      }\n    },\n    {\n      \"column\": \"Forecasted_Return\",\n      \"properties\": {\n        \"dtype\": \"number\",\n        \"std\": 6.696374659804235,\n        \"min\": -15.92,\n        \"max\": 43.95,\n        \"num_unique_values\": 197,\n        \"samples\": [\n          -2.93,\n          -0.12,\n          5.25\n        ],\n        \"semantic_type\": \"\",\n        \"description\": \"\"\n      }\n    },\n    {\n      \"column\": \"Expected_Profit\",\n      \"properties\": {\n        \"dtype\": \"number\",\n        \"std\": 31.767039724928004,\n        \"min\": -57.85,\n        \"max\": 269.17,\n        \"num_unique_values\": 195,\n        \"samples\": [\n          -2.64,\n          22.2,\n          -6.51\n        ],\n        \"semantic_type\": \"\",\n        \"description\": \"\"\n      }\n    },\n    {\n      \"column\": \"Investment\",\n      \"properties\": {\n        \"dtype\": \"number\",\n        \"std\": 1.1067696644373697,\n        \"min\": -2.02,\n        \"max\": 9.38,\n        \"num_unique_values\": 113,\n        \"samples\": [\n          -0.24,\n          4.03,\n          0.23\n        ],\n        \"semantic_type\": \"\",\n        \"description\": \"\"\n      }\n    },\n    {\n      \"column\": \"Number_of_Shares\",\n      \"properties\": {\n        \"dtype\": \"number\",\n        \"std\": 0.002507113418925051,\n        \"min\": -0.01,\n        \"max\": 0.02,\n        \"num_unique_values\": 4,\n        \"samples\": [\n          0.02,\n          -0.01,\n          0.0\n        ],\n        \"semantic_type\": \"\",\n        \"description\": \"\"\n      }\n    },\n    {\n      \"column\": \"Allocated_Profit\",\n      \"properties\": {\n        \"dtype\": \"number\",\n        \"std\": 0.05210295534946142,\n        \"min\": 0.0,\n        \"max\": 0.67,\n        \"num_unique_values\": 13,\n        \"samples\": [\n          0.04,\n          0.0,\n          0.01\n        ],\n        \"semantic_type\": \"\",\n        \"description\": \"\"\n      }\n    }\n  ]\n}"
            }
          },
          "metadata": {},
          "execution_count": 15
        }
      ],
      "source": [
        "# %%\n",
        "# Total Investment\n",
        "total_investment = 30.0  # in GBP\n",
        "\n",
        "# Calculate the total expected profit of all adequate stocks\n",
        "total_expected_profit = profit_df['Expected_Profit'].sum()\n",
        "\n",
        "# Calculate the weight (allocation percentage) for each stock based on its expected profit\n",
        "# Since higher Expected_Profit is better, allocate more to stocks with higher Expected_Profit\n",
        "# Normalize Expected_Profit to sum to 1 for allocation\n",
        "if total_expected_profit == 0:\n",
        "    profit_df['Weight'] = 1 / len(profit_df)\n",
        "else:\n",
        "    profit_df['Weight'] = profit_df['Expected_Profit'] / total_expected_profit\n",
        "\n",
        "# Calculate the investment allocation for each stock\n",
        "profit_df['Investment'] = profit_df['Weight'] * total_investment\n",
        "\n",
        "# Calculate the number of shares for each stock\n",
        "profit_df['Number_of_Shares'] = profit_df['Investment'] / profit_df['Current_Price']\n",
        "\n",
        "# Calculate the expected profit for the allocated investment\n",
        "profit_df['Allocated_Profit'] = profit_df['Number_of_Shares'] * (profit_df['Forecasted_Return'])\n",
        "\n",
        "# Round the numerical columns for better readability\n",
        "profit_df[['Investment', 'Number_of_Shares', 'Allocated_Profit']] = profit_df[['Investment', 'Number_of_Shares', 'Allocated_Profit']].round(2)\n",
        "\n",
        "# Display the updated DataFrame with allocations\n",
        "profit_df[['Stock', 'Current_Price', 'Forecasted_Return', 'Expected_Profit', 'Investment', 'Number_of_Shares', 'Allocated_Profit']]"
      ]
    },
    {
      "cell_type": "code",
      "execution_count": 16,
      "metadata": {
        "id": "nRTEz4kGgZbK",
        "colab": {
          "base_uri": "https://localhost:8080/",
          "height": 477
        },
        "outputId": "0843ad48-74a6-4aec-a070-c3dece4562f1"
      },
      "outputs": [
        {
          "output_type": "stream",
          "name": "stdout",
          "text": [
            "Final Ranked List of Stocks Based on Expected Profit:\n"
          ]
        },
        {
          "output_type": "display_data",
          "data": {
            "text/plain": [
              "    Stock  Current_Price  Forecasted_Return  Expected_Profit  Investment  \\\n",
              "0    BKNG        4943.27               5.45           269.17        9.38   \n",
              "1    FICO        2332.29               7.52           175.31        6.11   \n",
              "2    MSTR         270.42              43.95           118.86        4.14   \n",
              "3    NFLX         795.04              14.72           117.05        4.08   \n",
              "4     NOW        1008.08              11.48           115.73        4.03   \n",
              "..    ...            ...                ...              ...         ...   \n",
              "199   MTD        1310.03              -3.69           -48.35       -1.68   \n",
              "200  SNPS         561.55              -8.69           -48.78       -1.70   \n",
              "201  AMGN         325.28             -15.37           -50.00       -1.74   \n",
              "202   NOC         528.99              -9.67           -51.15       -1.78   \n",
              "203   UNH         615.81              -9.39           -57.85       -2.02   \n",
              "\n",
              "     Number_of_Shares  Allocated_Profit  \n",
              "0                0.00              0.01  \n",
              "1                0.00              0.02  \n",
              "2                0.02              0.67  \n",
              "3                0.01              0.08  \n",
              "4                0.00              0.05  \n",
              "..                ...               ...  \n",
              "199             -0.00              0.00  \n",
              "200             -0.00              0.03  \n",
              "201             -0.01              0.08  \n",
              "202             -0.00              0.03  \n",
              "203             -0.00              0.03  \n",
              "\n",
              "[204 rows x 7 columns]"
            ],
            "text/html": [
              "\n",
              "  <div id=\"df-8adba18c-13fe-4028-a057-f41d01a146ef\" class=\"colab-df-container\">\n",
              "    <div>\n",
              "<style scoped>\n",
              "    .dataframe tbody tr th:only-of-type {\n",
              "        vertical-align: middle;\n",
              "    }\n",
              "\n",
              "    .dataframe tbody tr th {\n",
              "        vertical-align: top;\n",
              "    }\n",
              "\n",
              "    .dataframe thead th {\n",
              "        text-align: right;\n",
              "    }\n",
              "</style>\n",
              "<table border=\"1\" class=\"dataframe\">\n",
              "  <thead>\n",
              "    <tr style=\"text-align: right;\">\n",
              "      <th></th>\n",
              "      <th>Stock</th>\n",
              "      <th>Current_Price</th>\n",
              "      <th>Forecasted_Return</th>\n",
              "      <th>Expected_Profit</th>\n",
              "      <th>Investment</th>\n",
              "      <th>Number_of_Shares</th>\n",
              "      <th>Allocated_Profit</th>\n",
              "    </tr>\n",
              "  </thead>\n",
              "  <tbody>\n",
              "    <tr>\n",
              "      <th>0</th>\n",
              "      <td>BKNG</td>\n",
              "      <td>4943.27</td>\n",
              "      <td>5.45</td>\n",
              "      <td>269.17</td>\n",
              "      <td>9.38</td>\n",
              "      <td>0.00</td>\n",
              "      <td>0.01</td>\n",
              "    </tr>\n",
              "    <tr>\n",
              "      <th>1</th>\n",
              "      <td>FICO</td>\n",
              "      <td>2332.29</td>\n",
              "      <td>7.52</td>\n",
              "      <td>175.31</td>\n",
              "      <td>6.11</td>\n",
              "      <td>0.00</td>\n",
              "      <td>0.02</td>\n",
              "    </tr>\n",
              "    <tr>\n",
              "      <th>2</th>\n",
              "      <td>MSTR</td>\n",
              "      <td>270.42</td>\n",
              "      <td>43.95</td>\n",
              "      <td>118.86</td>\n",
              "      <td>4.14</td>\n",
              "      <td>0.02</td>\n",
              "      <td>0.67</td>\n",
              "    </tr>\n",
              "    <tr>\n",
              "      <th>3</th>\n",
              "      <td>NFLX</td>\n",
              "      <td>795.04</td>\n",
              "      <td>14.72</td>\n",
              "      <td>117.05</td>\n",
              "      <td>4.08</td>\n",
              "      <td>0.01</td>\n",
              "      <td>0.08</td>\n",
              "    </tr>\n",
              "    <tr>\n",
              "      <th>4</th>\n",
              "      <td>NOW</td>\n",
              "      <td>1008.08</td>\n",
              "      <td>11.48</td>\n",
              "      <td>115.73</td>\n",
              "      <td>4.03</td>\n",
              "      <td>0.00</td>\n",
              "      <td>0.05</td>\n",
              "    </tr>\n",
              "    <tr>\n",
              "      <th>...</th>\n",
              "      <td>...</td>\n",
              "      <td>...</td>\n",
              "      <td>...</td>\n",
              "      <td>...</td>\n",
              "      <td>...</td>\n",
              "      <td>...</td>\n",
              "      <td>...</td>\n",
              "    </tr>\n",
              "    <tr>\n",
              "      <th>199</th>\n",
              "      <td>MTD</td>\n",
              "      <td>1310.03</td>\n",
              "      <td>-3.69</td>\n",
              "      <td>-48.35</td>\n",
              "      <td>-1.68</td>\n",
              "      <td>-0.00</td>\n",
              "      <td>0.00</td>\n",
              "    </tr>\n",
              "    <tr>\n",
              "      <th>200</th>\n",
              "      <td>SNPS</td>\n",
              "      <td>561.55</td>\n",
              "      <td>-8.69</td>\n",
              "      <td>-48.78</td>\n",
              "      <td>-1.70</td>\n",
              "      <td>-0.00</td>\n",
              "      <td>0.03</td>\n",
              "    </tr>\n",
              "    <tr>\n",
              "      <th>201</th>\n",
              "      <td>AMGN</td>\n",
              "      <td>325.28</td>\n",
              "      <td>-15.37</td>\n",
              "      <td>-50.00</td>\n",
              "      <td>-1.74</td>\n",
              "      <td>-0.01</td>\n",
              "      <td>0.08</td>\n",
              "    </tr>\n",
              "    <tr>\n",
              "      <th>202</th>\n",
              "      <td>NOC</td>\n",
              "      <td>528.99</td>\n",
              "      <td>-9.67</td>\n",
              "      <td>-51.15</td>\n",
              "      <td>-1.78</td>\n",
              "      <td>-0.00</td>\n",
              "      <td>0.03</td>\n",
              "    </tr>\n",
              "    <tr>\n",
              "      <th>203</th>\n",
              "      <td>UNH</td>\n",
              "      <td>615.81</td>\n",
              "      <td>-9.39</td>\n",
              "      <td>-57.85</td>\n",
              "      <td>-2.02</td>\n",
              "      <td>-0.00</td>\n",
              "      <td>0.03</td>\n",
              "    </tr>\n",
              "  </tbody>\n",
              "</table>\n",
              "<p>204 rows × 7 columns</p>\n",
              "</div>\n",
              "    <div class=\"colab-df-buttons\">\n",
              "\n",
              "  <div class=\"colab-df-container\">\n",
              "    <button class=\"colab-df-convert\" onclick=\"convertToInteractive('df-8adba18c-13fe-4028-a057-f41d01a146ef')\"\n",
              "            title=\"Convert this dataframe to an interactive table.\"\n",
              "            style=\"display:none;\">\n",
              "\n",
              "  <svg xmlns=\"http://www.w3.org/2000/svg\" height=\"24px\" viewBox=\"0 -960 960 960\">\n",
              "    <path d=\"M120-120v-720h720v720H120Zm60-500h600v-160H180v160Zm220 220h160v-160H400v160Zm0 220h160v-160H400v160ZM180-400h160v-160H180v160Zm440 0h160v-160H620v160ZM180-180h160v-160H180v160Zm440 0h160v-160H620v160Z\"/>\n",
              "  </svg>\n",
              "    </button>\n",
              "\n",
              "  <style>\n",
              "    .colab-df-container {\n",
              "      display:flex;\n",
              "      gap: 12px;\n",
              "    }\n",
              "\n",
              "    .colab-df-convert {\n",
              "      background-color: #E8F0FE;\n",
              "      border: none;\n",
              "      border-radius: 50%;\n",
              "      cursor: pointer;\n",
              "      display: none;\n",
              "      fill: #1967D2;\n",
              "      height: 32px;\n",
              "      padding: 0 0 0 0;\n",
              "      width: 32px;\n",
              "    }\n",
              "\n",
              "    .colab-df-convert:hover {\n",
              "      background-color: #E2EBFA;\n",
              "      box-shadow: 0px 1px 2px rgba(60, 64, 67, 0.3), 0px 1px 3px 1px rgba(60, 64, 67, 0.15);\n",
              "      fill: #174EA6;\n",
              "    }\n",
              "\n",
              "    .colab-df-buttons div {\n",
              "      margin-bottom: 4px;\n",
              "    }\n",
              "\n",
              "    [theme=dark] .colab-df-convert {\n",
              "      background-color: #3B4455;\n",
              "      fill: #D2E3FC;\n",
              "    }\n",
              "\n",
              "    [theme=dark] .colab-df-convert:hover {\n",
              "      background-color: #434B5C;\n",
              "      box-shadow: 0px 1px 3px 1px rgba(0, 0, 0, 0.15);\n",
              "      filter: drop-shadow(0px 1px 2px rgba(0, 0, 0, 0.3));\n",
              "      fill: #FFFFFF;\n",
              "    }\n",
              "  </style>\n",
              "\n",
              "    <script>\n",
              "      const buttonEl =\n",
              "        document.querySelector('#df-8adba18c-13fe-4028-a057-f41d01a146ef button.colab-df-convert');\n",
              "      buttonEl.style.display =\n",
              "        google.colab.kernel.accessAllowed ? 'block' : 'none';\n",
              "\n",
              "      async function convertToInteractive(key) {\n",
              "        const element = document.querySelector('#df-8adba18c-13fe-4028-a057-f41d01a146ef');\n",
              "        const dataTable =\n",
              "          await google.colab.kernel.invokeFunction('convertToInteractive',\n",
              "                                                    [key], {});\n",
              "        if (!dataTable) return;\n",
              "\n",
              "        const docLinkHtml = 'Like what you see? Visit the ' +\n",
              "          '<a target=\"_blank\" href=https://colab.research.google.com/notebooks/data_table.ipynb>data table notebook</a>'\n",
              "          + ' to learn more about interactive tables.';\n",
              "        element.innerHTML = '';\n",
              "        dataTable['output_type'] = 'display_data';\n",
              "        await google.colab.output.renderOutput(dataTable, element);\n",
              "        const docLink = document.createElement('div');\n",
              "        docLink.innerHTML = docLinkHtml;\n",
              "        element.appendChild(docLink);\n",
              "      }\n",
              "    </script>\n",
              "  </div>\n",
              "\n",
              "\n",
              "<div id=\"df-d72997d1-c387-43a2-b407-2a24676dccd7\">\n",
              "  <button class=\"colab-df-quickchart\" onclick=\"quickchart('df-d72997d1-c387-43a2-b407-2a24676dccd7')\"\n",
              "            title=\"Suggest charts\"\n",
              "            style=\"display:none;\">\n",
              "\n",
              "<svg xmlns=\"http://www.w3.org/2000/svg\" height=\"24px\"viewBox=\"0 0 24 24\"\n",
              "     width=\"24px\">\n",
              "    <g>\n",
              "        <path d=\"M19 3H5c-1.1 0-2 .9-2 2v14c0 1.1.9 2 2 2h14c1.1 0 2-.9 2-2V5c0-1.1-.9-2-2-2zM9 17H7v-7h2v7zm4 0h-2V7h2v10zm4 0h-2v-4h2v4z\"/>\n",
              "    </g>\n",
              "</svg>\n",
              "  </button>\n",
              "\n",
              "<style>\n",
              "  .colab-df-quickchart {\n",
              "      --bg-color: #E8F0FE;\n",
              "      --fill-color: #1967D2;\n",
              "      --hover-bg-color: #E2EBFA;\n",
              "      --hover-fill-color: #174EA6;\n",
              "      --disabled-fill-color: #AAA;\n",
              "      --disabled-bg-color: #DDD;\n",
              "  }\n",
              "\n",
              "  [theme=dark] .colab-df-quickchart {\n",
              "      --bg-color: #3B4455;\n",
              "      --fill-color: #D2E3FC;\n",
              "      --hover-bg-color: #434B5C;\n",
              "      --hover-fill-color: #FFFFFF;\n",
              "      --disabled-bg-color: #3B4455;\n",
              "      --disabled-fill-color: #666;\n",
              "  }\n",
              "\n",
              "  .colab-df-quickchart {\n",
              "    background-color: var(--bg-color);\n",
              "    border: none;\n",
              "    border-radius: 50%;\n",
              "    cursor: pointer;\n",
              "    display: none;\n",
              "    fill: var(--fill-color);\n",
              "    height: 32px;\n",
              "    padding: 0;\n",
              "    width: 32px;\n",
              "  }\n",
              "\n",
              "  .colab-df-quickchart:hover {\n",
              "    background-color: var(--hover-bg-color);\n",
              "    box-shadow: 0 1px 2px rgba(60, 64, 67, 0.3), 0 1px 3px 1px rgba(60, 64, 67, 0.15);\n",
              "    fill: var(--button-hover-fill-color);\n",
              "  }\n",
              "\n",
              "  .colab-df-quickchart-complete:disabled,\n",
              "  .colab-df-quickchart-complete:disabled:hover {\n",
              "    background-color: var(--disabled-bg-color);\n",
              "    fill: var(--disabled-fill-color);\n",
              "    box-shadow: none;\n",
              "  }\n",
              "\n",
              "  .colab-df-spinner {\n",
              "    border: 2px solid var(--fill-color);\n",
              "    border-color: transparent;\n",
              "    border-bottom-color: var(--fill-color);\n",
              "    animation:\n",
              "      spin 1s steps(1) infinite;\n",
              "  }\n",
              "\n",
              "  @keyframes spin {\n",
              "    0% {\n",
              "      border-color: transparent;\n",
              "      border-bottom-color: var(--fill-color);\n",
              "      border-left-color: var(--fill-color);\n",
              "    }\n",
              "    20% {\n",
              "      border-color: transparent;\n",
              "      border-left-color: var(--fill-color);\n",
              "      border-top-color: var(--fill-color);\n",
              "    }\n",
              "    30% {\n",
              "      border-color: transparent;\n",
              "      border-left-color: var(--fill-color);\n",
              "      border-top-color: var(--fill-color);\n",
              "      border-right-color: var(--fill-color);\n",
              "    }\n",
              "    40% {\n",
              "      border-color: transparent;\n",
              "      border-right-color: var(--fill-color);\n",
              "      border-top-color: var(--fill-color);\n",
              "    }\n",
              "    60% {\n",
              "      border-color: transparent;\n",
              "      border-right-color: var(--fill-color);\n",
              "    }\n",
              "    80% {\n",
              "      border-color: transparent;\n",
              "      border-right-color: var(--fill-color);\n",
              "      border-bottom-color: var(--fill-color);\n",
              "    }\n",
              "    90% {\n",
              "      border-color: transparent;\n",
              "      border-bottom-color: var(--fill-color);\n",
              "    }\n",
              "  }\n",
              "</style>\n",
              "\n",
              "  <script>\n",
              "    async function quickchart(key) {\n",
              "      const quickchartButtonEl =\n",
              "        document.querySelector('#' + key + ' button');\n",
              "      quickchartButtonEl.disabled = true;  // To prevent multiple clicks.\n",
              "      quickchartButtonEl.classList.add('colab-df-spinner');\n",
              "      try {\n",
              "        const charts = await google.colab.kernel.invokeFunction(\n",
              "            'suggestCharts', [key], {});\n",
              "      } catch (error) {\n",
              "        console.error('Error during call to suggestCharts:', error);\n",
              "      }\n",
              "      quickchartButtonEl.classList.remove('colab-df-spinner');\n",
              "      quickchartButtonEl.classList.add('colab-df-quickchart-complete');\n",
              "    }\n",
              "    (() => {\n",
              "      let quickchartButtonEl =\n",
              "        document.querySelector('#df-d72997d1-c387-43a2-b407-2a24676dccd7 button');\n",
              "      quickchartButtonEl.style.display =\n",
              "        google.colab.kernel.accessAllowed ? 'block' : 'none';\n",
              "    })();\n",
              "  </script>\n",
              "</div>\n",
              "\n",
              "  <div id=\"id_65b5ec55-c2b0-4bf4-8cda-8608c7f88f0e\">\n",
              "    <style>\n",
              "      .colab-df-generate {\n",
              "        background-color: #E8F0FE;\n",
              "        border: none;\n",
              "        border-radius: 50%;\n",
              "        cursor: pointer;\n",
              "        display: none;\n",
              "        fill: #1967D2;\n",
              "        height: 32px;\n",
              "        padding: 0 0 0 0;\n",
              "        width: 32px;\n",
              "      }\n",
              "\n",
              "      .colab-df-generate:hover {\n",
              "        background-color: #E2EBFA;\n",
              "        box-shadow: 0px 1px 2px rgba(60, 64, 67, 0.3), 0px 1px 3px 1px rgba(60, 64, 67, 0.15);\n",
              "        fill: #174EA6;\n",
              "      }\n",
              "\n",
              "      [theme=dark] .colab-df-generate {\n",
              "        background-color: #3B4455;\n",
              "        fill: #D2E3FC;\n",
              "      }\n",
              "\n",
              "      [theme=dark] .colab-df-generate:hover {\n",
              "        background-color: #434B5C;\n",
              "        box-shadow: 0px 1px 3px 1px rgba(0, 0, 0, 0.15);\n",
              "        filter: drop-shadow(0px 1px 2px rgba(0, 0, 0, 0.3));\n",
              "        fill: #FFFFFF;\n",
              "      }\n",
              "    </style>\n",
              "    <button class=\"colab-df-generate\" onclick=\"generateWithVariable('final_ranking')\"\n",
              "            title=\"Generate code using this dataframe.\"\n",
              "            style=\"display:none;\">\n",
              "\n",
              "  <svg xmlns=\"http://www.w3.org/2000/svg\" height=\"24px\"viewBox=\"0 0 24 24\"\n",
              "       width=\"24px\">\n",
              "    <path d=\"M7,19H8.4L18.45,9,17,7.55,7,17.6ZM5,21V16.75L18.45,3.32a2,2,0,0,1,2.83,0l1.4,1.43a1.91,1.91,0,0,1,.58,1.4,1.91,1.91,0,0,1-.58,1.4L9.25,21ZM18.45,9,17,7.55Zm-12,3A5.31,5.31,0,0,0,4.9,8.1,5.31,5.31,0,0,0,1,6.5,5.31,5.31,0,0,0,4.9,4.9,5.31,5.31,0,0,0,6.5,1,5.31,5.31,0,0,0,8.1,4.9,5.31,5.31,0,0,0,12,6.5,5.46,5.46,0,0,0,6.5,12Z\"/>\n",
              "  </svg>\n",
              "    </button>\n",
              "    <script>\n",
              "      (() => {\n",
              "      const buttonEl =\n",
              "        document.querySelector('#id_65b5ec55-c2b0-4bf4-8cda-8608c7f88f0e button.colab-df-generate');\n",
              "      buttonEl.style.display =\n",
              "        google.colab.kernel.accessAllowed ? 'block' : 'none';\n",
              "\n",
              "      buttonEl.onclick = () => {\n",
              "        google.colab.notebook.generateWithVariable('final_ranking');\n",
              "      }\n",
              "      })();\n",
              "    </script>\n",
              "  </div>\n",
              "\n",
              "    </div>\n",
              "  </div>\n"
            ],
            "application/vnd.google.colaboratory.intrinsic+json": {
              "type": "dataframe",
              "variable_name": "final_ranking",
              "summary": "{\n  \"name\": \"final_ranking\",\n  \"rows\": 204,\n  \"fields\": [\n    {\n      \"column\": \"Stock\",\n      \"properties\": {\n        \"dtype\": \"string\",\n        \"num_unique_values\": 204,\n        \"samples\": [\n          \"CMI\",\n          \"DE\",\n          \"TSCO\"\n        ],\n        \"semantic_type\": \"\",\n        \"description\": \"\"\n      }\n    },\n    {\n      \"column\": \"Current_Price\",\n      \"properties\": {\n        \"dtype\": \"number\",\n        \"std\": 437.3928798889396,\n        \"min\": 9.18,\n        \"max\": 4943.27,\n        \"num_unique_values\": 204,\n        \"samples\": [\n          356.46,\n          394.06,\n          288.56\n        ],\n        \"semantic_type\": \"\",\n        \"description\": \"\"\n      }\n    },\n    {\n      \"column\": \"Forecasted_Return\",\n      \"properties\": {\n        \"dtype\": \"number\",\n        \"std\": 6.696374659804235,\n        \"min\": -15.92,\n        \"max\": 43.95,\n        \"num_unique_values\": 197,\n        \"samples\": [\n          -2.93,\n          -0.12,\n          5.25\n        ],\n        \"semantic_type\": \"\",\n        \"description\": \"\"\n      }\n    },\n    {\n      \"column\": \"Expected_Profit\",\n      \"properties\": {\n        \"dtype\": \"number\",\n        \"std\": 31.767039724928004,\n        \"min\": -57.85,\n        \"max\": 269.17,\n        \"num_unique_values\": 195,\n        \"samples\": [\n          -2.64,\n          22.2,\n          -6.51\n        ],\n        \"semantic_type\": \"\",\n        \"description\": \"\"\n      }\n    },\n    {\n      \"column\": \"Investment\",\n      \"properties\": {\n        \"dtype\": \"number\",\n        \"std\": 1.1067696644373697,\n        \"min\": -2.02,\n        \"max\": 9.38,\n        \"num_unique_values\": 113,\n        \"samples\": [\n          -0.24,\n          4.03,\n          0.23\n        ],\n        \"semantic_type\": \"\",\n        \"description\": \"\"\n      }\n    },\n    {\n      \"column\": \"Number_of_Shares\",\n      \"properties\": {\n        \"dtype\": \"number\",\n        \"std\": 0.002507113418925051,\n        \"min\": -0.01,\n        \"max\": 0.02,\n        \"num_unique_values\": 4,\n        \"samples\": [\n          0.02,\n          -0.01,\n          0.0\n        ],\n        \"semantic_type\": \"\",\n        \"description\": \"\"\n      }\n    },\n    {\n      \"column\": \"Allocated_Profit\",\n      \"properties\": {\n        \"dtype\": \"number\",\n        \"std\": 0.05210295534946142,\n        \"min\": 0.0,\n        \"max\": 0.67,\n        \"num_unique_values\": 13,\n        \"samples\": [\n          0.04,\n          0.0,\n          0.01\n        ],\n        \"semantic_type\": \"\",\n        \"description\": \"\"\n      }\n    }\n  ]\n}"
            }
          },
          "metadata": {}
        },
        {
          "output_type": "stream",
          "name": "stdout",
          "text": [
            "Total Allocated Investment: £30.0\n",
            "Total Expected Profit: £3.11\n"
          ]
        }
      ],
      "source": [
        "# %%\n",
        "# Final Ranked List with Investment Strategy\n",
        "final_ranking = profit_df[['Stock', 'Current_Price', 'Forecasted_Return', 'Expected_Profit', 'Investment', 'Number_of_Shares', 'Allocated_Profit']].copy()\n",
        "\n",
        "# Calculate the total allocated investment and total expected profit\n",
        "total_allocated_investment = final_ranking['Investment'].sum()\n",
        "total_allocated_profit = final_ranking['Allocated_Profit'].sum()\n",
        "\n",
        "# Display the final ranking\n",
        "print(\"Final Ranked List of Stocks Based on Expected Profit:\")\n",
        "display(final_ranking)\n",
        "\n",
        "print(f\"Total Allocated Investment: £{round(total_allocated_investment, 2)}\")\n",
        "print(f\"Total Expected Profit: £{round(total_allocated_profit, 2)}\")"
      ]
    },
    {
      "cell_type": "code",
      "execution_count": 17,
      "metadata": {
        "id": "_TIcJw2_gck2",
        "colab": {
          "base_uri": "https://localhost:8080/",
          "height": 255
        },
        "outputId": "59562757-b2b2-4631-d2f1-c3cfb4a61129"
      },
      "outputs": [
        {
          "output_type": "stream",
          "name": "stdout",
          "text": [
            "List of Inadequate Stocks (Excluded from Analysis):\n"
          ]
        },
        {
          "output_type": "display_data",
          "data": {
            "text/plain": [
              "  Inadequate Stocks\n",
              "0               FTV\n",
              "1               HPE\n",
              "2              GDDY\n",
              "3               KHC\n",
              "4              TWLO\n",
              "5              TEAM"
            ],
            "text/html": [
              "\n",
              "  <div id=\"df-1c00d16c-5865-43e8-9c6f-ff29a5f6b2ab\" class=\"colab-df-container\">\n",
              "    <div>\n",
              "<style scoped>\n",
              "    .dataframe tbody tr th:only-of-type {\n",
              "        vertical-align: middle;\n",
              "    }\n",
              "\n",
              "    .dataframe tbody tr th {\n",
              "        vertical-align: top;\n",
              "    }\n",
              "\n",
              "    .dataframe thead th {\n",
              "        text-align: right;\n",
              "    }\n",
              "</style>\n",
              "<table border=\"1\" class=\"dataframe\">\n",
              "  <thead>\n",
              "    <tr style=\"text-align: right;\">\n",
              "      <th></th>\n",
              "      <th>Inadequate Stocks</th>\n",
              "    </tr>\n",
              "  </thead>\n",
              "  <tbody>\n",
              "    <tr>\n",
              "      <th>0</th>\n",
              "      <td>FTV</td>\n",
              "    </tr>\n",
              "    <tr>\n",
              "      <th>1</th>\n",
              "      <td>HPE</td>\n",
              "    </tr>\n",
              "    <tr>\n",
              "      <th>2</th>\n",
              "      <td>GDDY</td>\n",
              "    </tr>\n",
              "    <tr>\n",
              "      <th>3</th>\n",
              "      <td>KHC</td>\n",
              "    </tr>\n",
              "    <tr>\n",
              "      <th>4</th>\n",
              "      <td>TWLO</td>\n",
              "    </tr>\n",
              "    <tr>\n",
              "      <th>5</th>\n",
              "      <td>TEAM</td>\n",
              "    </tr>\n",
              "  </tbody>\n",
              "</table>\n",
              "</div>\n",
              "    <div class=\"colab-df-buttons\">\n",
              "\n",
              "  <div class=\"colab-df-container\">\n",
              "    <button class=\"colab-df-convert\" onclick=\"convertToInteractive('df-1c00d16c-5865-43e8-9c6f-ff29a5f6b2ab')\"\n",
              "            title=\"Convert this dataframe to an interactive table.\"\n",
              "            style=\"display:none;\">\n",
              "\n",
              "  <svg xmlns=\"http://www.w3.org/2000/svg\" height=\"24px\" viewBox=\"0 -960 960 960\">\n",
              "    <path d=\"M120-120v-720h720v720H120Zm60-500h600v-160H180v160Zm220 220h160v-160H400v160Zm0 220h160v-160H400v160ZM180-400h160v-160H180v160Zm440 0h160v-160H620v160ZM180-180h160v-160H180v160Zm440 0h160v-160H620v160Z\"/>\n",
              "  </svg>\n",
              "    </button>\n",
              "\n",
              "  <style>\n",
              "    .colab-df-container {\n",
              "      display:flex;\n",
              "      gap: 12px;\n",
              "    }\n",
              "\n",
              "    .colab-df-convert {\n",
              "      background-color: #E8F0FE;\n",
              "      border: none;\n",
              "      border-radius: 50%;\n",
              "      cursor: pointer;\n",
              "      display: none;\n",
              "      fill: #1967D2;\n",
              "      height: 32px;\n",
              "      padding: 0 0 0 0;\n",
              "      width: 32px;\n",
              "    }\n",
              "\n",
              "    .colab-df-convert:hover {\n",
              "      background-color: #E2EBFA;\n",
              "      box-shadow: 0px 1px 2px rgba(60, 64, 67, 0.3), 0px 1px 3px 1px rgba(60, 64, 67, 0.15);\n",
              "      fill: #174EA6;\n",
              "    }\n",
              "\n",
              "    .colab-df-buttons div {\n",
              "      margin-bottom: 4px;\n",
              "    }\n",
              "\n",
              "    [theme=dark] .colab-df-convert {\n",
              "      background-color: #3B4455;\n",
              "      fill: #D2E3FC;\n",
              "    }\n",
              "\n",
              "    [theme=dark] .colab-df-convert:hover {\n",
              "      background-color: #434B5C;\n",
              "      box-shadow: 0px 1px 3px 1px rgba(0, 0, 0, 0.15);\n",
              "      filter: drop-shadow(0px 1px 2px rgba(0, 0, 0, 0.3));\n",
              "      fill: #FFFFFF;\n",
              "    }\n",
              "  </style>\n",
              "\n",
              "    <script>\n",
              "      const buttonEl =\n",
              "        document.querySelector('#df-1c00d16c-5865-43e8-9c6f-ff29a5f6b2ab button.colab-df-convert');\n",
              "      buttonEl.style.display =\n",
              "        google.colab.kernel.accessAllowed ? 'block' : 'none';\n",
              "\n",
              "      async function convertToInteractive(key) {\n",
              "        const element = document.querySelector('#df-1c00d16c-5865-43e8-9c6f-ff29a5f6b2ab');\n",
              "        const dataTable =\n",
              "          await google.colab.kernel.invokeFunction('convertToInteractive',\n",
              "                                                    [key], {});\n",
              "        if (!dataTable) return;\n",
              "\n",
              "        const docLinkHtml = 'Like what you see? Visit the ' +\n",
              "          '<a target=\"_blank\" href=https://colab.research.google.com/notebooks/data_table.ipynb>data table notebook</a>'\n",
              "          + ' to learn more about interactive tables.';\n",
              "        element.innerHTML = '';\n",
              "        dataTable['output_type'] = 'display_data';\n",
              "        await google.colab.output.renderOutput(dataTable, element);\n",
              "        const docLink = document.createElement('div');\n",
              "        docLink.innerHTML = docLinkHtml;\n",
              "        element.appendChild(docLink);\n",
              "      }\n",
              "    </script>\n",
              "  </div>\n",
              "\n",
              "\n",
              "<div id=\"df-054d4b77-dd1b-403c-9277-2681e8bab0b2\">\n",
              "  <button class=\"colab-df-quickchart\" onclick=\"quickchart('df-054d4b77-dd1b-403c-9277-2681e8bab0b2')\"\n",
              "            title=\"Suggest charts\"\n",
              "            style=\"display:none;\">\n",
              "\n",
              "<svg xmlns=\"http://www.w3.org/2000/svg\" height=\"24px\"viewBox=\"0 0 24 24\"\n",
              "     width=\"24px\">\n",
              "    <g>\n",
              "        <path d=\"M19 3H5c-1.1 0-2 .9-2 2v14c0 1.1.9 2 2 2h14c1.1 0 2-.9 2-2V5c0-1.1-.9-2-2-2zM9 17H7v-7h2v7zm4 0h-2V7h2v10zm4 0h-2v-4h2v4z\"/>\n",
              "    </g>\n",
              "</svg>\n",
              "  </button>\n",
              "\n",
              "<style>\n",
              "  .colab-df-quickchart {\n",
              "      --bg-color: #E8F0FE;\n",
              "      --fill-color: #1967D2;\n",
              "      --hover-bg-color: #E2EBFA;\n",
              "      --hover-fill-color: #174EA6;\n",
              "      --disabled-fill-color: #AAA;\n",
              "      --disabled-bg-color: #DDD;\n",
              "  }\n",
              "\n",
              "  [theme=dark] .colab-df-quickchart {\n",
              "      --bg-color: #3B4455;\n",
              "      --fill-color: #D2E3FC;\n",
              "      --hover-bg-color: #434B5C;\n",
              "      --hover-fill-color: #FFFFFF;\n",
              "      --disabled-bg-color: #3B4455;\n",
              "      --disabled-fill-color: #666;\n",
              "  }\n",
              "\n",
              "  .colab-df-quickchart {\n",
              "    background-color: var(--bg-color);\n",
              "    border: none;\n",
              "    border-radius: 50%;\n",
              "    cursor: pointer;\n",
              "    display: none;\n",
              "    fill: var(--fill-color);\n",
              "    height: 32px;\n",
              "    padding: 0;\n",
              "    width: 32px;\n",
              "  }\n",
              "\n",
              "  .colab-df-quickchart:hover {\n",
              "    background-color: var(--hover-bg-color);\n",
              "    box-shadow: 0 1px 2px rgba(60, 64, 67, 0.3), 0 1px 3px 1px rgba(60, 64, 67, 0.15);\n",
              "    fill: var(--button-hover-fill-color);\n",
              "  }\n",
              "\n",
              "  .colab-df-quickchart-complete:disabled,\n",
              "  .colab-df-quickchart-complete:disabled:hover {\n",
              "    background-color: var(--disabled-bg-color);\n",
              "    fill: var(--disabled-fill-color);\n",
              "    box-shadow: none;\n",
              "  }\n",
              "\n",
              "  .colab-df-spinner {\n",
              "    border: 2px solid var(--fill-color);\n",
              "    border-color: transparent;\n",
              "    border-bottom-color: var(--fill-color);\n",
              "    animation:\n",
              "      spin 1s steps(1) infinite;\n",
              "  }\n",
              "\n",
              "  @keyframes spin {\n",
              "    0% {\n",
              "      border-color: transparent;\n",
              "      border-bottom-color: var(--fill-color);\n",
              "      border-left-color: var(--fill-color);\n",
              "    }\n",
              "    20% {\n",
              "      border-color: transparent;\n",
              "      border-left-color: var(--fill-color);\n",
              "      border-top-color: var(--fill-color);\n",
              "    }\n",
              "    30% {\n",
              "      border-color: transparent;\n",
              "      border-left-color: var(--fill-color);\n",
              "      border-top-color: var(--fill-color);\n",
              "      border-right-color: var(--fill-color);\n",
              "    }\n",
              "    40% {\n",
              "      border-color: transparent;\n",
              "      border-right-color: var(--fill-color);\n",
              "      border-top-color: var(--fill-color);\n",
              "    }\n",
              "    60% {\n",
              "      border-color: transparent;\n",
              "      border-right-color: var(--fill-color);\n",
              "    }\n",
              "    80% {\n",
              "      border-color: transparent;\n",
              "      border-right-color: var(--fill-color);\n",
              "      border-bottom-color: var(--fill-color);\n",
              "    }\n",
              "    90% {\n",
              "      border-color: transparent;\n",
              "      border-bottom-color: var(--fill-color);\n",
              "    }\n",
              "  }\n",
              "</style>\n",
              "\n",
              "  <script>\n",
              "    async function quickchart(key) {\n",
              "      const quickchartButtonEl =\n",
              "        document.querySelector('#' + key + ' button');\n",
              "      quickchartButtonEl.disabled = true;  // To prevent multiple clicks.\n",
              "      quickchartButtonEl.classList.add('colab-df-spinner');\n",
              "      try {\n",
              "        const charts = await google.colab.kernel.invokeFunction(\n",
              "            'suggestCharts', [key], {});\n",
              "      } catch (error) {\n",
              "        console.error('Error during call to suggestCharts:', error);\n",
              "      }\n",
              "      quickchartButtonEl.classList.remove('colab-df-spinner');\n",
              "      quickchartButtonEl.classList.add('colab-df-quickchart-complete');\n",
              "    }\n",
              "    (() => {\n",
              "      let quickchartButtonEl =\n",
              "        document.querySelector('#df-054d4b77-dd1b-403c-9277-2681e8bab0b2 button');\n",
              "      quickchartButtonEl.style.display =\n",
              "        google.colab.kernel.accessAllowed ? 'block' : 'none';\n",
              "    })();\n",
              "  </script>\n",
              "</div>\n",
              "\n",
              "  <div id=\"id_bcb05c60-0a16-47ec-b1c7-d389ce36aa3a\">\n",
              "    <style>\n",
              "      .colab-df-generate {\n",
              "        background-color: #E8F0FE;\n",
              "        border: none;\n",
              "        border-radius: 50%;\n",
              "        cursor: pointer;\n",
              "        display: none;\n",
              "        fill: #1967D2;\n",
              "        height: 32px;\n",
              "        padding: 0 0 0 0;\n",
              "        width: 32px;\n",
              "      }\n",
              "\n",
              "      .colab-df-generate:hover {\n",
              "        background-color: #E2EBFA;\n",
              "        box-shadow: 0px 1px 2px rgba(60, 64, 67, 0.3), 0px 1px 3px 1px rgba(60, 64, 67, 0.15);\n",
              "        fill: #174EA6;\n",
              "      }\n",
              "\n",
              "      [theme=dark] .colab-df-generate {\n",
              "        background-color: #3B4455;\n",
              "        fill: #D2E3FC;\n",
              "      }\n",
              "\n",
              "      [theme=dark] .colab-df-generate:hover {\n",
              "        background-color: #434B5C;\n",
              "        box-shadow: 0px 1px 3px 1px rgba(0, 0, 0, 0.15);\n",
              "        filter: drop-shadow(0px 1px 2px rgba(0, 0, 0, 0.3));\n",
              "        fill: #FFFFFF;\n",
              "      }\n",
              "    </style>\n",
              "    <button class=\"colab-df-generate\" onclick=\"generateWithVariable('inadequate_df')\"\n",
              "            title=\"Generate code using this dataframe.\"\n",
              "            style=\"display:none;\">\n",
              "\n",
              "  <svg xmlns=\"http://www.w3.org/2000/svg\" height=\"24px\"viewBox=\"0 0 24 24\"\n",
              "       width=\"24px\">\n",
              "    <path d=\"M7,19H8.4L18.45,9,17,7.55,7,17.6ZM5,21V16.75L18.45,3.32a2,2,0,0,1,2.83,0l1.4,1.43a1.91,1.91,0,0,1,.58,1.4,1.91,1.91,0,0,1-.58,1.4L9.25,21ZM18.45,9,17,7.55Zm-12,3A5.31,5.31,0,0,0,4.9,8.1,5.31,5.31,0,0,0,1,6.5,5.31,5.31,0,0,0,4.9,4.9,5.31,5.31,0,0,0,6.5,1,5.31,5.31,0,0,0,8.1,4.9,5.31,5.31,0,0,0,12,6.5,5.46,5.46,0,0,0,6.5,12Z\"/>\n",
              "  </svg>\n",
              "    </button>\n",
              "    <script>\n",
              "      (() => {\n",
              "      const buttonEl =\n",
              "        document.querySelector('#id_bcb05c60-0a16-47ec-b1c7-d389ce36aa3a button.colab-df-generate');\n",
              "      buttonEl.style.display =\n",
              "        google.colab.kernel.accessAllowed ? 'block' : 'none';\n",
              "\n",
              "      buttonEl.onclick = () => {\n",
              "        google.colab.notebook.generateWithVariable('inadequate_df');\n",
              "      }\n",
              "      })();\n",
              "    </script>\n",
              "  </div>\n",
              "\n",
              "    </div>\n",
              "  </div>\n"
            ],
            "application/vnd.google.colaboratory.intrinsic+json": {
              "type": "dataframe",
              "variable_name": "inadequate_df",
              "summary": "{\n  \"name\": \"inadequate_df\",\n  \"rows\": 6,\n  \"fields\": [\n    {\n      \"column\": \"Inadequate Stocks\",\n      \"properties\": {\n        \"dtype\": \"string\",\n        \"num_unique_values\": 6,\n        \"samples\": [\n          \"FTV\",\n          \"HPE\",\n          \"TEAM\"\n        ],\n        \"semantic_type\": \"\",\n        \"description\": \"\"\n      }\n    }\n  ]\n}"
            }
          },
          "metadata": {}
        }
      ],
      "source": [
        "# %% [markdown]\n",
        "# # 11. Display Inadequate Stocks\n",
        "#\n",
        "# Show a list of stocks that were excluded from the analysis due to the absence of `FinalScore` or failed model evaluations.\n",
        "\n",
        "# %%\n",
        "# Display Inadequate Stocks\n",
        "if inadequate_stocks:\n",
        "    inadequate_df = pd.DataFrame({'Inadequate Stocks': inadequate_stocks})\n",
        "    print(\"List of Inadequate Stocks (Excluded from Analysis):\")\n",
        "    display(inadequate_df)\n",
        "else:\n",
        "    print(\"No Inadequate Stocks found.\")"
      ]
    },
    {
      "cell_type": "code",
      "execution_count": 18,
      "metadata": {
        "id": "5mVd_fDdgfF8",
        "colab": {
          "base_uri": "https://localhost:8080/",
          "height": 805
        },
        "outputId": "0e716abd-dcfa-4e16-d9a6-a743a737af5b"
      },
      "outputs": [
        {
          "output_type": "stream",
          "name": "stdout",
          "text": [
            "### Investment Strategy Summary ###\n",
            "\n",
            "**Total Investment Available:** £30.0\n",
            "\n",
            "**Total Expected Profit:** £3.11\n",
            "\n",
            "**Portfolio Allocation:**\n"
          ]
        },
        {
          "output_type": "display_data",
          "data": {
            "text/plain": [
              "    Stock  Investment  Number_of_Shares  Allocated_Profit\n",
              "0    BKNG        9.38              0.00              0.01\n",
              "1    FICO        6.11              0.00              0.02\n",
              "2    MSTR        4.14              0.02              0.67\n",
              "3    NFLX        4.08              0.01              0.08\n",
              "4     NOW        4.03              0.00              0.05\n",
              "..    ...         ...               ...               ...\n",
              "199   MTD       -1.68             -0.00              0.00\n",
              "200  SNPS       -1.70             -0.00              0.03\n",
              "201  AMGN       -1.74             -0.01              0.08\n",
              "202   NOC       -1.78             -0.00              0.03\n",
              "203   UNH       -2.02             -0.00              0.03\n",
              "\n",
              "[204 rows x 4 columns]"
            ],
            "text/html": [
              "\n",
              "  <div id=\"df-d4a12ce3-b715-433c-87e6-4640232a157f\" class=\"colab-df-container\">\n",
              "    <div>\n",
              "<style scoped>\n",
              "    .dataframe tbody tr th:only-of-type {\n",
              "        vertical-align: middle;\n",
              "    }\n",
              "\n",
              "    .dataframe tbody tr th {\n",
              "        vertical-align: top;\n",
              "    }\n",
              "\n",
              "    .dataframe thead th {\n",
              "        text-align: right;\n",
              "    }\n",
              "</style>\n",
              "<table border=\"1\" class=\"dataframe\">\n",
              "  <thead>\n",
              "    <tr style=\"text-align: right;\">\n",
              "      <th></th>\n",
              "      <th>Stock</th>\n",
              "      <th>Investment</th>\n",
              "      <th>Number_of_Shares</th>\n",
              "      <th>Allocated_Profit</th>\n",
              "    </tr>\n",
              "  </thead>\n",
              "  <tbody>\n",
              "    <tr>\n",
              "      <th>0</th>\n",
              "      <td>BKNG</td>\n",
              "      <td>9.38</td>\n",
              "      <td>0.00</td>\n",
              "      <td>0.01</td>\n",
              "    </tr>\n",
              "    <tr>\n",
              "      <th>1</th>\n",
              "      <td>FICO</td>\n",
              "      <td>6.11</td>\n",
              "      <td>0.00</td>\n",
              "      <td>0.02</td>\n",
              "    </tr>\n",
              "    <tr>\n",
              "      <th>2</th>\n",
              "      <td>MSTR</td>\n",
              "      <td>4.14</td>\n",
              "      <td>0.02</td>\n",
              "      <td>0.67</td>\n",
              "    </tr>\n",
              "    <tr>\n",
              "      <th>3</th>\n",
              "      <td>NFLX</td>\n",
              "      <td>4.08</td>\n",
              "      <td>0.01</td>\n",
              "      <td>0.08</td>\n",
              "    </tr>\n",
              "    <tr>\n",
              "      <th>4</th>\n",
              "      <td>NOW</td>\n",
              "      <td>4.03</td>\n",
              "      <td>0.00</td>\n",
              "      <td>0.05</td>\n",
              "    </tr>\n",
              "    <tr>\n",
              "      <th>...</th>\n",
              "      <td>...</td>\n",
              "      <td>...</td>\n",
              "      <td>...</td>\n",
              "      <td>...</td>\n",
              "    </tr>\n",
              "    <tr>\n",
              "      <th>199</th>\n",
              "      <td>MTD</td>\n",
              "      <td>-1.68</td>\n",
              "      <td>-0.00</td>\n",
              "      <td>0.00</td>\n",
              "    </tr>\n",
              "    <tr>\n",
              "      <th>200</th>\n",
              "      <td>SNPS</td>\n",
              "      <td>-1.70</td>\n",
              "      <td>-0.00</td>\n",
              "      <td>0.03</td>\n",
              "    </tr>\n",
              "    <tr>\n",
              "      <th>201</th>\n",
              "      <td>AMGN</td>\n",
              "      <td>-1.74</td>\n",
              "      <td>-0.01</td>\n",
              "      <td>0.08</td>\n",
              "    </tr>\n",
              "    <tr>\n",
              "      <th>202</th>\n",
              "      <td>NOC</td>\n",
              "      <td>-1.78</td>\n",
              "      <td>-0.00</td>\n",
              "      <td>0.03</td>\n",
              "    </tr>\n",
              "    <tr>\n",
              "      <th>203</th>\n",
              "      <td>UNH</td>\n",
              "      <td>-2.02</td>\n",
              "      <td>-0.00</td>\n",
              "      <td>0.03</td>\n",
              "    </tr>\n",
              "  </tbody>\n",
              "</table>\n",
              "<p>204 rows × 4 columns</p>\n",
              "</div>\n",
              "    <div class=\"colab-df-buttons\">\n",
              "\n",
              "  <div class=\"colab-df-container\">\n",
              "    <button class=\"colab-df-convert\" onclick=\"convertToInteractive('df-d4a12ce3-b715-433c-87e6-4640232a157f')\"\n",
              "            title=\"Convert this dataframe to an interactive table.\"\n",
              "            style=\"display:none;\">\n",
              "\n",
              "  <svg xmlns=\"http://www.w3.org/2000/svg\" height=\"24px\" viewBox=\"0 -960 960 960\">\n",
              "    <path d=\"M120-120v-720h720v720H120Zm60-500h600v-160H180v160Zm220 220h160v-160H400v160Zm0 220h160v-160H400v160ZM180-400h160v-160H180v160Zm440 0h160v-160H620v160ZM180-180h160v-160H180v160Zm440 0h160v-160H620v160Z\"/>\n",
              "  </svg>\n",
              "    </button>\n",
              "\n",
              "  <style>\n",
              "    .colab-df-container {\n",
              "      display:flex;\n",
              "      gap: 12px;\n",
              "    }\n",
              "\n",
              "    .colab-df-convert {\n",
              "      background-color: #E8F0FE;\n",
              "      border: none;\n",
              "      border-radius: 50%;\n",
              "      cursor: pointer;\n",
              "      display: none;\n",
              "      fill: #1967D2;\n",
              "      height: 32px;\n",
              "      padding: 0 0 0 0;\n",
              "      width: 32px;\n",
              "    }\n",
              "\n",
              "    .colab-df-convert:hover {\n",
              "      background-color: #E2EBFA;\n",
              "      box-shadow: 0px 1px 2px rgba(60, 64, 67, 0.3), 0px 1px 3px 1px rgba(60, 64, 67, 0.15);\n",
              "      fill: #174EA6;\n",
              "    }\n",
              "\n",
              "    .colab-df-buttons div {\n",
              "      margin-bottom: 4px;\n",
              "    }\n",
              "\n",
              "    [theme=dark] .colab-df-convert {\n",
              "      background-color: #3B4455;\n",
              "      fill: #D2E3FC;\n",
              "    }\n",
              "\n",
              "    [theme=dark] .colab-df-convert:hover {\n",
              "      background-color: #434B5C;\n",
              "      box-shadow: 0px 1px 3px 1px rgba(0, 0, 0, 0.15);\n",
              "      filter: drop-shadow(0px 1px 2px rgba(0, 0, 0, 0.3));\n",
              "      fill: #FFFFFF;\n",
              "    }\n",
              "  </style>\n",
              "\n",
              "    <script>\n",
              "      const buttonEl =\n",
              "        document.querySelector('#df-d4a12ce3-b715-433c-87e6-4640232a157f button.colab-df-convert');\n",
              "      buttonEl.style.display =\n",
              "        google.colab.kernel.accessAllowed ? 'block' : 'none';\n",
              "\n",
              "      async function convertToInteractive(key) {\n",
              "        const element = document.querySelector('#df-d4a12ce3-b715-433c-87e6-4640232a157f');\n",
              "        const dataTable =\n",
              "          await google.colab.kernel.invokeFunction('convertToInteractive',\n",
              "                                                    [key], {});\n",
              "        if (!dataTable) return;\n",
              "\n",
              "        const docLinkHtml = 'Like what you see? Visit the ' +\n",
              "          '<a target=\"_blank\" href=https://colab.research.google.com/notebooks/data_table.ipynb>data table notebook</a>'\n",
              "          + ' to learn more about interactive tables.';\n",
              "        element.innerHTML = '';\n",
              "        dataTable['output_type'] = 'display_data';\n",
              "        await google.colab.output.renderOutput(dataTable, element);\n",
              "        const docLink = document.createElement('div');\n",
              "        docLink.innerHTML = docLinkHtml;\n",
              "        element.appendChild(docLink);\n",
              "      }\n",
              "    </script>\n",
              "  </div>\n",
              "\n",
              "\n",
              "<div id=\"df-5bbc9367-d10e-4bc9-bb65-67810b9532de\">\n",
              "  <button class=\"colab-df-quickchart\" onclick=\"quickchart('df-5bbc9367-d10e-4bc9-bb65-67810b9532de')\"\n",
              "            title=\"Suggest charts\"\n",
              "            style=\"display:none;\">\n",
              "\n",
              "<svg xmlns=\"http://www.w3.org/2000/svg\" height=\"24px\"viewBox=\"0 0 24 24\"\n",
              "     width=\"24px\">\n",
              "    <g>\n",
              "        <path d=\"M19 3H5c-1.1 0-2 .9-2 2v14c0 1.1.9 2 2 2h14c1.1 0 2-.9 2-2V5c0-1.1-.9-2-2-2zM9 17H7v-7h2v7zm4 0h-2V7h2v10zm4 0h-2v-4h2v4z\"/>\n",
              "    </g>\n",
              "</svg>\n",
              "  </button>\n",
              "\n",
              "<style>\n",
              "  .colab-df-quickchart {\n",
              "      --bg-color: #E8F0FE;\n",
              "      --fill-color: #1967D2;\n",
              "      --hover-bg-color: #E2EBFA;\n",
              "      --hover-fill-color: #174EA6;\n",
              "      --disabled-fill-color: #AAA;\n",
              "      --disabled-bg-color: #DDD;\n",
              "  }\n",
              "\n",
              "  [theme=dark] .colab-df-quickchart {\n",
              "      --bg-color: #3B4455;\n",
              "      --fill-color: #D2E3FC;\n",
              "      --hover-bg-color: #434B5C;\n",
              "      --hover-fill-color: #FFFFFF;\n",
              "      --disabled-bg-color: #3B4455;\n",
              "      --disabled-fill-color: #666;\n",
              "  }\n",
              "\n",
              "  .colab-df-quickchart {\n",
              "    background-color: var(--bg-color);\n",
              "    border: none;\n",
              "    border-radius: 50%;\n",
              "    cursor: pointer;\n",
              "    display: none;\n",
              "    fill: var(--fill-color);\n",
              "    height: 32px;\n",
              "    padding: 0;\n",
              "    width: 32px;\n",
              "  }\n",
              "\n",
              "  .colab-df-quickchart:hover {\n",
              "    background-color: var(--hover-bg-color);\n",
              "    box-shadow: 0 1px 2px rgba(60, 64, 67, 0.3), 0 1px 3px 1px rgba(60, 64, 67, 0.15);\n",
              "    fill: var(--button-hover-fill-color);\n",
              "  }\n",
              "\n",
              "  .colab-df-quickchart-complete:disabled,\n",
              "  .colab-df-quickchart-complete:disabled:hover {\n",
              "    background-color: var(--disabled-bg-color);\n",
              "    fill: var(--disabled-fill-color);\n",
              "    box-shadow: none;\n",
              "  }\n",
              "\n",
              "  .colab-df-spinner {\n",
              "    border: 2px solid var(--fill-color);\n",
              "    border-color: transparent;\n",
              "    border-bottom-color: var(--fill-color);\n",
              "    animation:\n",
              "      spin 1s steps(1) infinite;\n",
              "  }\n",
              "\n",
              "  @keyframes spin {\n",
              "    0% {\n",
              "      border-color: transparent;\n",
              "      border-bottom-color: var(--fill-color);\n",
              "      border-left-color: var(--fill-color);\n",
              "    }\n",
              "    20% {\n",
              "      border-color: transparent;\n",
              "      border-left-color: var(--fill-color);\n",
              "      border-top-color: var(--fill-color);\n",
              "    }\n",
              "    30% {\n",
              "      border-color: transparent;\n",
              "      border-left-color: var(--fill-color);\n",
              "      border-top-color: var(--fill-color);\n",
              "      border-right-color: var(--fill-color);\n",
              "    }\n",
              "    40% {\n",
              "      border-color: transparent;\n",
              "      border-right-color: var(--fill-color);\n",
              "      border-top-color: var(--fill-color);\n",
              "    }\n",
              "    60% {\n",
              "      border-color: transparent;\n",
              "      border-right-color: var(--fill-color);\n",
              "    }\n",
              "    80% {\n",
              "      border-color: transparent;\n",
              "      border-right-color: var(--fill-color);\n",
              "      border-bottom-color: var(--fill-color);\n",
              "    }\n",
              "    90% {\n",
              "      border-color: transparent;\n",
              "      border-bottom-color: var(--fill-color);\n",
              "    }\n",
              "  }\n",
              "</style>\n",
              "\n",
              "  <script>\n",
              "    async function quickchart(key) {\n",
              "      const quickchartButtonEl =\n",
              "        document.querySelector('#' + key + ' button');\n",
              "      quickchartButtonEl.disabled = true;  // To prevent multiple clicks.\n",
              "      quickchartButtonEl.classList.add('colab-df-spinner');\n",
              "      try {\n",
              "        const charts = await google.colab.kernel.invokeFunction(\n",
              "            'suggestCharts', [key], {});\n",
              "      } catch (error) {\n",
              "        console.error('Error during call to suggestCharts:', error);\n",
              "      }\n",
              "      quickchartButtonEl.classList.remove('colab-df-spinner');\n",
              "      quickchartButtonEl.classList.add('colab-df-quickchart-complete');\n",
              "    }\n",
              "    (() => {\n",
              "      let quickchartButtonEl =\n",
              "        document.querySelector('#df-5bbc9367-d10e-4bc9-bb65-67810b9532de button');\n",
              "      quickchartButtonEl.style.display =\n",
              "        google.colab.kernel.accessAllowed ? 'block' : 'none';\n",
              "    })();\n",
              "  </script>\n",
              "</div>\n",
              "\n",
              "    </div>\n",
              "  </div>\n"
            ],
            "application/vnd.google.colaboratory.intrinsic+json": {
              "type": "dataframe",
              "summary": "{\n  \"name\": \"    print(\\\"\\\\n**All stocks were adequate for the analysis\",\n  \"rows\": 204,\n  \"fields\": [\n    {\n      \"column\": \"Stock\",\n      \"properties\": {\n        \"dtype\": \"string\",\n        \"num_unique_values\": 204,\n        \"samples\": [\n          \"CMI\",\n          \"DE\",\n          \"TSCO\"\n        ],\n        \"semantic_type\": \"\",\n        \"description\": \"\"\n      }\n    },\n    {\n      \"column\": \"Investment\",\n      \"properties\": {\n        \"dtype\": \"number\",\n        \"std\": 1.1067696644373697,\n        \"min\": -2.02,\n        \"max\": 9.38,\n        \"num_unique_values\": 113,\n        \"samples\": [\n          -0.24,\n          4.03,\n          0.23\n        ],\n        \"semantic_type\": \"\",\n        \"description\": \"\"\n      }\n    },\n    {\n      \"column\": \"Number_of_Shares\",\n      \"properties\": {\n        \"dtype\": \"number\",\n        \"std\": 0.002507113418925051,\n        \"min\": -0.01,\n        \"max\": 0.02,\n        \"num_unique_values\": 4,\n        \"samples\": [\n          0.02,\n          -0.01,\n          0.0\n        ],\n        \"semantic_type\": \"\",\n        \"description\": \"\"\n      }\n    },\n    {\n      \"column\": \"Allocated_Profit\",\n      \"properties\": {\n        \"dtype\": \"number\",\n        \"std\": 0.05210295534946142,\n        \"min\": 0.0,\n        \"max\": 0.67,\n        \"num_unique_values\": 13,\n        \"samples\": [\n          0.04,\n          0.0,\n          0.01\n        ],\n        \"semantic_type\": \"\",\n        \"description\": \"\"\n      }\n    }\n  ]\n}"
            }
          },
          "metadata": {}
        },
        {
          "output_type": "stream",
          "name": "stdout",
          "text": [
            "\n",
            "**Inadequate Stocks (Excluded from Portfolio):**\n"
          ]
        },
        {
          "output_type": "display_data",
          "data": {
            "text/plain": [
              "  Inadequate Stocks\n",
              "0               FTV\n",
              "1               HPE\n",
              "2              GDDY\n",
              "3               KHC\n",
              "4              TWLO\n",
              "5              TEAM"
            ],
            "text/html": [
              "\n",
              "  <div id=\"df-6f7ce5dd-6ff7-4f9f-a0f6-ad6107a89e46\" class=\"colab-df-container\">\n",
              "    <div>\n",
              "<style scoped>\n",
              "    .dataframe tbody tr th:only-of-type {\n",
              "        vertical-align: middle;\n",
              "    }\n",
              "\n",
              "    .dataframe tbody tr th {\n",
              "        vertical-align: top;\n",
              "    }\n",
              "\n",
              "    .dataframe thead th {\n",
              "        text-align: right;\n",
              "    }\n",
              "</style>\n",
              "<table border=\"1\" class=\"dataframe\">\n",
              "  <thead>\n",
              "    <tr style=\"text-align: right;\">\n",
              "      <th></th>\n",
              "      <th>Inadequate Stocks</th>\n",
              "    </tr>\n",
              "  </thead>\n",
              "  <tbody>\n",
              "    <tr>\n",
              "      <th>0</th>\n",
              "      <td>FTV</td>\n",
              "    </tr>\n",
              "    <tr>\n",
              "      <th>1</th>\n",
              "      <td>HPE</td>\n",
              "    </tr>\n",
              "    <tr>\n",
              "      <th>2</th>\n",
              "      <td>GDDY</td>\n",
              "    </tr>\n",
              "    <tr>\n",
              "      <th>3</th>\n",
              "      <td>KHC</td>\n",
              "    </tr>\n",
              "    <tr>\n",
              "      <th>4</th>\n",
              "      <td>TWLO</td>\n",
              "    </tr>\n",
              "    <tr>\n",
              "      <th>5</th>\n",
              "      <td>TEAM</td>\n",
              "    </tr>\n",
              "  </tbody>\n",
              "</table>\n",
              "</div>\n",
              "    <div class=\"colab-df-buttons\">\n",
              "\n",
              "  <div class=\"colab-df-container\">\n",
              "    <button class=\"colab-df-convert\" onclick=\"convertToInteractive('df-6f7ce5dd-6ff7-4f9f-a0f6-ad6107a89e46')\"\n",
              "            title=\"Convert this dataframe to an interactive table.\"\n",
              "            style=\"display:none;\">\n",
              "\n",
              "  <svg xmlns=\"http://www.w3.org/2000/svg\" height=\"24px\" viewBox=\"0 -960 960 960\">\n",
              "    <path d=\"M120-120v-720h720v720H120Zm60-500h600v-160H180v160Zm220 220h160v-160H400v160Zm0 220h160v-160H400v160ZM180-400h160v-160H180v160Zm440 0h160v-160H620v160ZM180-180h160v-160H180v160Zm440 0h160v-160H620v160Z\"/>\n",
              "  </svg>\n",
              "    </button>\n",
              "\n",
              "  <style>\n",
              "    .colab-df-container {\n",
              "      display:flex;\n",
              "      gap: 12px;\n",
              "    }\n",
              "\n",
              "    .colab-df-convert {\n",
              "      background-color: #E8F0FE;\n",
              "      border: none;\n",
              "      border-radius: 50%;\n",
              "      cursor: pointer;\n",
              "      display: none;\n",
              "      fill: #1967D2;\n",
              "      height: 32px;\n",
              "      padding: 0 0 0 0;\n",
              "      width: 32px;\n",
              "    }\n",
              "\n",
              "    .colab-df-convert:hover {\n",
              "      background-color: #E2EBFA;\n",
              "      box-shadow: 0px 1px 2px rgba(60, 64, 67, 0.3), 0px 1px 3px 1px rgba(60, 64, 67, 0.15);\n",
              "      fill: #174EA6;\n",
              "    }\n",
              "\n",
              "    .colab-df-buttons div {\n",
              "      margin-bottom: 4px;\n",
              "    }\n",
              "\n",
              "    [theme=dark] .colab-df-convert {\n",
              "      background-color: #3B4455;\n",
              "      fill: #D2E3FC;\n",
              "    }\n",
              "\n",
              "    [theme=dark] .colab-df-convert:hover {\n",
              "      background-color: #434B5C;\n",
              "      box-shadow: 0px 1px 3px 1px rgba(0, 0, 0, 0.15);\n",
              "      filter: drop-shadow(0px 1px 2px rgba(0, 0, 0, 0.3));\n",
              "      fill: #FFFFFF;\n",
              "    }\n",
              "  </style>\n",
              "\n",
              "    <script>\n",
              "      const buttonEl =\n",
              "        document.querySelector('#df-6f7ce5dd-6ff7-4f9f-a0f6-ad6107a89e46 button.colab-df-convert');\n",
              "      buttonEl.style.display =\n",
              "        google.colab.kernel.accessAllowed ? 'block' : 'none';\n",
              "\n",
              "      async function convertToInteractive(key) {\n",
              "        const element = document.querySelector('#df-6f7ce5dd-6ff7-4f9f-a0f6-ad6107a89e46');\n",
              "        const dataTable =\n",
              "          await google.colab.kernel.invokeFunction('convertToInteractive',\n",
              "                                                    [key], {});\n",
              "        if (!dataTable) return;\n",
              "\n",
              "        const docLinkHtml = 'Like what you see? Visit the ' +\n",
              "          '<a target=\"_blank\" href=https://colab.research.google.com/notebooks/data_table.ipynb>data table notebook</a>'\n",
              "          + ' to learn more about interactive tables.';\n",
              "        element.innerHTML = '';\n",
              "        dataTable['output_type'] = 'display_data';\n",
              "        await google.colab.output.renderOutput(dataTable, element);\n",
              "        const docLink = document.createElement('div');\n",
              "        docLink.innerHTML = docLinkHtml;\n",
              "        element.appendChild(docLink);\n",
              "      }\n",
              "    </script>\n",
              "  </div>\n",
              "\n",
              "\n",
              "<div id=\"df-4ae040ff-7063-49b8-84a2-dc567868630a\">\n",
              "  <button class=\"colab-df-quickchart\" onclick=\"quickchart('df-4ae040ff-7063-49b8-84a2-dc567868630a')\"\n",
              "            title=\"Suggest charts\"\n",
              "            style=\"display:none;\">\n",
              "\n",
              "<svg xmlns=\"http://www.w3.org/2000/svg\" height=\"24px\"viewBox=\"0 0 24 24\"\n",
              "     width=\"24px\">\n",
              "    <g>\n",
              "        <path d=\"M19 3H5c-1.1 0-2 .9-2 2v14c0 1.1.9 2 2 2h14c1.1 0 2-.9 2-2V5c0-1.1-.9-2-2-2zM9 17H7v-7h2v7zm4 0h-2V7h2v10zm4 0h-2v-4h2v4z\"/>\n",
              "    </g>\n",
              "</svg>\n",
              "  </button>\n",
              "\n",
              "<style>\n",
              "  .colab-df-quickchart {\n",
              "      --bg-color: #E8F0FE;\n",
              "      --fill-color: #1967D2;\n",
              "      --hover-bg-color: #E2EBFA;\n",
              "      --hover-fill-color: #174EA6;\n",
              "      --disabled-fill-color: #AAA;\n",
              "      --disabled-bg-color: #DDD;\n",
              "  }\n",
              "\n",
              "  [theme=dark] .colab-df-quickchart {\n",
              "      --bg-color: #3B4455;\n",
              "      --fill-color: #D2E3FC;\n",
              "      --hover-bg-color: #434B5C;\n",
              "      --hover-fill-color: #FFFFFF;\n",
              "      --disabled-bg-color: #3B4455;\n",
              "      --disabled-fill-color: #666;\n",
              "  }\n",
              "\n",
              "  .colab-df-quickchart {\n",
              "    background-color: var(--bg-color);\n",
              "    border: none;\n",
              "    border-radius: 50%;\n",
              "    cursor: pointer;\n",
              "    display: none;\n",
              "    fill: var(--fill-color);\n",
              "    height: 32px;\n",
              "    padding: 0;\n",
              "    width: 32px;\n",
              "  }\n",
              "\n",
              "  .colab-df-quickchart:hover {\n",
              "    background-color: var(--hover-bg-color);\n",
              "    box-shadow: 0 1px 2px rgba(60, 64, 67, 0.3), 0 1px 3px 1px rgba(60, 64, 67, 0.15);\n",
              "    fill: var(--button-hover-fill-color);\n",
              "  }\n",
              "\n",
              "  .colab-df-quickchart-complete:disabled,\n",
              "  .colab-df-quickchart-complete:disabled:hover {\n",
              "    background-color: var(--disabled-bg-color);\n",
              "    fill: var(--disabled-fill-color);\n",
              "    box-shadow: none;\n",
              "  }\n",
              "\n",
              "  .colab-df-spinner {\n",
              "    border: 2px solid var(--fill-color);\n",
              "    border-color: transparent;\n",
              "    border-bottom-color: var(--fill-color);\n",
              "    animation:\n",
              "      spin 1s steps(1) infinite;\n",
              "  }\n",
              "\n",
              "  @keyframes spin {\n",
              "    0% {\n",
              "      border-color: transparent;\n",
              "      border-bottom-color: var(--fill-color);\n",
              "      border-left-color: var(--fill-color);\n",
              "    }\n",
              "    20% {\n",
              "      border-color: transparent;\n",
              "      border-left-color: var(--fill-color);\n",
              "      border-top-color: var(--fill-color);\n",
              "    }\n",
              "    30% {\n",
              "      border-color: transparent;\n",
              "      border-left-color: var(--fill-color);\n",
              "      border-top-color: var(--fill-color);\n",
              "      border-right-color: var(--fill-color);\n",
              "    }\n",
              "    40% {\n",
              "      border-color: transparent;\n",
              "      border-right-color: var(--fill-color);\n",
              "      border-top-color: var(--fill-color);\n",
              "    }\n",
              "    60% {\n",
              "      border-color: transparent;\n",
              "      border-right-color: var(--fill-color);\n",
              "    }\n",
              "    80% {\n",
              "      border-color: transparent;\n",
              "      border-right-color: var(--fill-color);\n",
              "      border-bottom-color: var(--fill-color);\n",
              "    }\n",
              "    90% {\n",
              "      border-color: transparent;\n",
              "      border-bottom-color: var(--fill-color);\n",
              "    }\n",
              "  }\n",
              "</style>\n",
              "\n",
              "  <script>\n",
              "    async function quickchart(key) {\n",
              "      const quickchartButtonEl =\n",
              "        document.querySelector('#' + key + ' button');\n",
              "      quickchartButtonEl.disabled = true;  // To prevent multiple clicks.\n",
              "      quickchartButtonEl.classList.add('colab-df-spinner');\n",
              "      try {\n",
              "        const charts = await google.colab.kernel.invokeFunction(\n",
              "            'suggestCharts', [key], {});\n",
              "      } catch (error) {\n",
              "        console.error('Error during call to suggestCharts:', error);\n",
              "      }\n",
              "      quickchartButtonEl.classList.remove('colab-df-spinner');\n",
              "      quickchartButtonEl.classList.add('colab-df-quickchart-complete');\n",
              "    }\n",
              "    (() => {\n",
              "      let quickchartButtonEl =\n",
              "        document.querySelector('#df-4ae040ff-7063-49b8-84a2-dc567868630a button');\n",
              "      quickchartButtonEl.style.display =\n",
              "        google.colab.kernel.accessAllowed ? 'block' : 'none';\n",
              "    })();\n",
              "  </script>\n",
              "</div>\n",
              "\n",
              "  <div id=\"id_de802466-463d-41a0-8578-6592e6d81a1d\">\n",
              "    <style>\n",
              "      .colab-df-generate {\n",
              "        background-color: #E8F0FE;\n",
              "        border: none;\n",
              "        border-radius: 50%;\n",
              "        cursor: pointer;\n",
              "        display: none;\n",
              "        fill: #1967D2;\n",
              "        height: 32px;\n",
              "        padding: 0 0 0 0;\n",
              "        width: 32px;\n",
              "      }\n",
              "\n",
              "      .colab-df-generate:hover {\n",
              "        background-color: #E2EBFA;\n",
              "        box-shadow: 0px 1px 2px rgba(60, 64, 67, 0.3), 0px 1px 3px 1px rgba(60, 64, 67, 0.15);\n",
              "        fill: #174EA6;\n",
              "      }\n",
              "\n",
              "      [theme=dark] .colab-df-generate {\n",
              "        background-color: #3B4455;\n",
              "        fill: #D2E3FC;\n",
              "      }\n",
              "\n",
              "      [theme=dark] .colab-df-generate:hover {\n",
              "        background-color: #434B5C;\n",
              "        box-shadow: 0px 1px 3px 1px rgba(0, 0, 0, 0.15);\n",
              "        filter: drop-shadow(0px 1px 2px rgba(0, 0, 0, 0.3));\n",
              "        fill: #FFFFFF;\n",
              "      }\n",
              "    </style>\n",
              "    <button class=\"colab-df-generate\" onclick=\"generateWithVariable('inadequate_df')\"\n",
              "            title=\"Generate code using this dataframe.\"\n",
              "            style=\"display:none;\">\n",
              "\n",
              "  <svg xmlns=\"http://www.w3.org/2000/svg\" height=\"24px\"viewBox=\"0 0 24 24\"\n",
              "       width=\"24px\">\n",
              "    <path d=\"M7,19H8.4L18.45,9,17,7.55,7,17.6ZM5,21V16.75L18.45,3.32a2,2,0,0,1,2.83,0l1.4,1.43a1.91,1.91,0,0,1,.58,1.4,1.91,1.91,0,0,1-.58,1.4L9.25,21ZM18.45,9,17,7.55Zm-12,3A5.31,5.31,0,0,0,4.9,8.1,5.31,5.31,0,0,0,1,6.5,5.31,5.31,0,0,0,4.9,4.9,5.31,5.31,0,0,0,6.5,1,5.31,5.31,0,0,0,8.1,4.9,5.31,5.31,0,0,0,12,6.5,5.46,5.46,0,0,0,6.5,12Z\"/>\n",
              "  </svg>\n",
              "    </button>\n",
              "    <script>\n",
              "      (() => {\n",
              "      const buttonEl =\n",
              "        document.querySelector('#id_de802466-463d-41a0-8578-6592e6d81a1d button.colab-df-generate');\n",
              "      buttonEl.style.display =\n",
              "        google.colab.kernel.accessAllowed ? 'block' : 'none';\n",
              "\n",
              "      buttonEl.onclick = () => {\n",
              "        google.colab.notebook.generateWithVariable('inadequate_df');\n",
              "      }\n",
              "      })();\n",
              "    </script>\n",
              "  </div>\n",
              "\n",
              "    </div>\n",
              "  </div>\n"
            ],
            "application/vnd.google.colaboratory.intrinsic+json": {
              "type": "dataframe",
              "variable_name": "inadequate_df",
              "summary": "{\n  \"name\": \"inadequate_df\",\n  \"rows\": 6,\n  \"fields\": [\n    {\n      \"column\": \"Inadequate Stocks\",\n      \"properties\": {\n        \"dtype\": \"string\",\n        \"num_unique_values\": 6,\n        \"samples\": [\n          \"FTV\",\n          \"HPE\",\n          \"TEAM\"\n        ],\n        \"semantic_type\": \"\",\n        \"description\": \"\"\n      }\n    }\n  ]\n}"
            }
          },
          "metadata": {}
        }
      ],
      "source": [
        "# %% [markdown]\n",
        "# # 12. Summary of Investment Strategy\n",
        "#\n",
        "# Provide a summarized view of the investment strategy, including total investment, expected profit, portfolio allocation, and a list of excluded stocks.\n",
        "\n",
        "# %%\n",
        "# Summary\n",
        "print(\"### Investment Strategy Summary ###\\n\")\n",
        "\n",
        "print(f\"**Total Investment Available:** £{total_investment}\\n\")\n",
        "print(f\"**Total Expected Profit:** £{round(total_allocated_profit, 2)}\\n\")\n",
        "print(\"**Portfolio Allocation:**\")\n",
        "display(final_ranking[['Stock', 'Investment', 'Number_of_Shares', 'Allocated_Profit']])\n",
        "\n",
        "if inadequate_stocks:\n",
        "    print(\"\\n**Inadequate Stocks (Excluded from Portfolio):**\")\n",
        "    display(inadequate_df)\n",
        "else:\n",
        "    print(\"\\n**All stocks were adequate for the analysis.**\")"
      ]
    },
    {
      "cell_type": "code",
      "execution_count": 19,
      "metadata": {
        "id": "vcrGPG6lghij",
        "colab": {
          "base_uri": "https://localhost:8080/",
          "height": 233
        },
        "outputId": "6f6acd6b-6d9f-4576-eeb3-fb4c838eeb62"
      },
      "outputs": [
        {
          "output_type": "error",
          "ename": "NameError",
          "evalue": "name 'performance_df' is not defined",
          "traceback": [
            "\u001b[0;31m---------------------------------------------------------------------------\u001b[0m",
            "\u001b[0;31mNameError\u001b[0m                                 Traceback (most recent call last)",
            "\u001b[0;32m<ipython-input-19-80af4f3491de>\u001b[0m in \u001b[0;36m<cell line: 9>\u001b[0;34m()\u001b[0m\n\u001b[1;32m      7\u001b[0m \u001b[0;31m# Distribution of R² Scores\u001b[0m\u001b[0;34m\u001b[0m\u001b[0;34m\u001b[0m\u001b[0m\n\u001b[1;32m      8\u001b[0m \u001b[0mplt\u001b[0m\u001b[0;34m.\u001b[0m\u001b[0mfigure\u001b[0m\u001b[0;34m(\u001b[0m\u001b[0mfigsize\u001b[0m\u001b[0;34m=\u001b[0m\u001b[0;34m(\u001b[0m\u001b[0;36m10\u001b[0m\u001b[0;34m,\u001b[0m\u001b[0;36m6\u001b[0m\u001b[0;34m)\u001b[0m\u001b[0;34m)\u001b[0m\u001b[0;34m\u001b[0m\u001b[0;34m\u001b[0m\u001b[0m\n\u001b[0;32m----> 9\u001b[0;31m \u001b[0msns\u001b[0m\u001b[0;34m.\u001b[0m\u001b[0mhistplot\u001b[0m\u001b[0;34m(\u001b[0m\u001b[0mperformance_df\u001b[0m\u001b[0;34m[\u001b[0m\u001b[0;34m'R2'\u001b[0m\u001b[0;34m]\u001b[0m\u001b[0;34m.\u001b[0m\u001b[0mdropna\u001b[0m\u001b[0;34m(\u001b[0m\u001b[0;34m)\u001b[0m\u001b[0;34m,\u001b[0m \u001b[0mbins\u001b[0m\u001b[0;34m=\u001b[0m\u001b[0;36m30\u001b[0m\u001b[0;34m,\u001b[0m \u001b[0mkde\u001b[0m\u001b[0;34m=\u001b[0m\u001b[0;32mTrue\u001b[0m\u001b[0;34m,\u001b[0m \u001b[0mcolor\u001b[0m\u001b[0;34m=\u001b[0m\u001b[0;34m'skyblue'\u001b[0m\u001b[0;34m)\u001b[0m\u001b[0;34m\u001b[0m\u001b[0;34m\u001b[0m\u001b[0m\n\u001b[0m\u001b[1;32m     10\u001b[0m \u001b[0mplt\u001b[0m\u001b[0;34m.\u001b[0m\u001b[0mtitle\u001b[0m\u001b[0;34m(\u001b[0m\u001b[0;34m'Distribution of R² Scores for CatBoost Models'\u001b[0m\u001b[0;34m)\u001b[0m\u001b[0;34m\u001b[0m\u001b[0;34m\u001b[0m\u001b[0m\n\u001b[1;32m     11\u001b[0m \u001b[0mplt\u001b[0m\u001b[0;34m.\u001b[0m\u001b[0mxlabel\u001b[0m\u001b[0;34m(\u001b[0m\u001b[0;34m'R² Score'\u001b[0m\u001b[0;34m)\u001b[0m\u001b[0;34m\u001b[0m\u001b[0;34m\u001b[0m\u001b[0m\n",
            "\u001b[0;31mNameError\u001b[0m: name 'performance_df' is not defined"
          ]
        },
        {
          "output_type": "display_data",
          "data": {
            "text/plain": [
              "<Figure size 1000x600 with 0 Axes>"
            ]
          },
          "metadata": {}
        }
      ],
      "source": [
        "# %% [markdown]\n",
        "# # 13. Visualize R² and MAPE Scores\n",
        "#\n",
        "# Create visualizations to understand the distribution and relationship between R² and MAPE scores across all models.\n",
        "\n",
        "# %%\n",
        "# Distribution of R² Scores\n",
        "plt.figure(figsize=(10,6))\n",
        "sns.histplot(performance_df['R2'].dropna(), bins=30, kde=True, color='skyblue')\n",
        "plt.title('Distribution of R² Scores for CatBoost Models')\n",
        "plt.xlabel('R² Score')\n",
        "plt.ylabel('Frequency')\n",
        "plt.show()\n",
        "\n",
        "# Distribution of MAPE\n",
        "plt.figure(figsize=(10,6))\n",
        "sns.histplot(performance_df['MAPE'].dropna(), bins=30, kde=True, color='salmon')\n",
        "plt.title('Distribution of MAPE for CatBoost Models')\n",
        "plt.xlabel('MAPE (%)')\n",
        "plt.ylabel('Frequency')\n",
        "plt.show()\n",
        "\n",
        "# Scatter Plot of R² vs MAPE\n",
        "plt.figure(figsize=(10,6))\n",
        "sns.scatterplot(data=performance_df, x='R2', y='MAPE', hue='R2', palette='coolwarm', alpha=0.7)\n",
        "plt.title('R² vs MAPE for CatBoost Models')\n",
        "plt.xlabel('R² Score')\n",
        "plt.ylabel('MAPE (%)')\n",
        "plt.legend(title='R²')\n",
        "plt.show()\n",
        "\n",
        "# Boxplots for R² and MAPE\n",
        "plt.figure(figsize=(14,6))\n",
        "\n",
        "# Boxplot for R²\n",
        "plt.subplot(1,2,1)\n",
        "sns.boxplot(y=performance_df['R2'], color='lightblue')\n",
        "plt.title('Boxplot of R² Scores')\n",
        "plt.ylabel('R² Score')\n",
        "\n",
        "# Boxplot for MAPE\n",
        "plt.subplot(1,2,2)\n",
        "sns.boxplot(y=performance_df['MAPE'], color='lightgreen')\n",
        "plt.title('Boxplot of MAPE')\n",
        "plt.ylabel('MAPE (%)')\n",
        "\n",
        "plt.tight_layout()\n",
        "plt.show()\n",
        "\n",
        "# Summary Statistics for R² and MAPE\n",
        "print(\"### Summary Statistics ###\\n\")\n",
        "print(performance_df[['R2', 'MAPE']].describe())"
      ]
    },
    {
      "cell_type": "code",
      "execution_count": null,
      "metadata": {
        "id": "XZouZ5tEgjzn"
      },
      "outputs": [],
      "source": [
        "# %% [markdown]\n",
        "# # 14. Plot Predicted vs. Actual Returns for Top Performing Stocks\n",
        "#\n",
        "# Visualize the accuracy of your models by plotting predicted vs. actual returns for top-performing stocks based on R² scores.\n",
        "\n",
        "# %%\n",
        "# Select top-performing stocks based on R²\n",
        "TOP_N_STOCKS = 5  # Adjust as needed\n",
        "top_performing_stocks = performance_df.sort_values(by='R2', ascending=False).head(TOP_N_STOCKS)['Stock'].tolist()\n",
        "print(f\"Top Performing Stocks based on R²: {top_performing_stocks}\")\n",
        "\n",
        "# Plot Predicted vs Actual for top-performing stocks\n",
        "for stock in top_performing_stocks:\n",
        "    # Load the corresponding study\n",
        "    study_name = f\"cb_study_{stock}\"\n",
        "    storage_name = f\"sqlite:///{STUDIES_DIR}/cb_study_{stock}.db\"\n",
        "    study_db_path = os.path.join(DATA_PATH, 'optuna_studies', f\"cb_study_{stock}.db\")\n",
        "\n",
        "    if not os.path.exists(study_db_path):\n",
        "        print(f\"Study database for {stock} not found. Skipping plot.\")\n",
        "        continue\n",
        "\n",
        "    try:\n",
        "        study = optuna.load_study(study_name=study_name, storage=storage_name)\n",
        "        best_trial = study.best_trial\n",
        "        preds = best_trial.user_attrs.get(\"preds\", [])\n",
        "        true = best_trial.user_attrs.get(\"true\", [])\n",
        "\n",
        "        if preds and true:\n",
        "            plt.figure(figsize=(8,6))\n",
        "            sns.scatterplot(x=true, y=preds, alpha=0.6)\n",
        "            plt.plot([min(true), max(true)], [min(true), max(true)], 'r--')  # Diagonal line\n",
        "            plt.title(f'Predicted vs. Actual Returns for {stock}')\n",
        "            plt.xlabel('Actual Returns (%)')\n",
        "            plt.ylabel('Predicted Returns (%)')\n",
        "            plt.show()\n",
        "        else:\n",
        "            print(f\"Predictions or true values not found for {stock}. Skipping plot.\")\n",
        "    except Exception as e:\n",
        "        print(f\"Error loading study for {stock}: {e}\")"
      ]
    }
  ],
  "metadata": {
    "colab": {
      "provenance": [],
      "authorship_tag": "ABX9TyM0jZpvWglEwaiXkrvtGhIf",
      "include_colab_link": true
    },
    "kernelspec": {
      "display_name": "Python 3",
      "name": "python3"
    },
    "language_info": {
      "name": "python"
    }
  },
  "nbformat": 4,
  "nbformat_minor": 0
}